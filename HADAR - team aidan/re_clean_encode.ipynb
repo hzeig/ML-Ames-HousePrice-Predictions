{
 "cells": [
  {
   "cell_type": "markdown",
   "id": "ee1c40cb",
   "metadata": {},
   "source": [
    "# Real Estate Data - Cleaning, Encoding $(unfinished)$\n",
    "\n",
    "\n",
    "**Might attempt to use encode/OneHot first, and then IterativeImputer for all missing values**\n",
    "- impute and then \"unimpute\" for IterativeImputer"
   ]
  },
  {
   "cell_type": "code",
   "execution_count": 1,
   "id": "6d631296",
   "metadata": {},
   "outputs": [],
   "source": [
    "import numpy as np\n",
    "import pandas as pd\n",
    "import matplotlib.pyplot as plt\n",
    "%matplotlib inline\n",
    "from scipy import stats\n",
    "import statsmodels.api as sm\n",
    "from statsmodels.sandbox.regression.predstd import wls_prediction_std"
   ]
  },
  {
   "cell_type": "code",
   "execution_count": 2,
   "id": "a7703b3e",
   "metadata": {},
   "outputs": [
    {
     "name": "stderr",
     "output_type": "stream",
     "text": [
      "C:\\Users\\hzeig\\anaconda3\\lib\\site-packages\\IPython\\core\\interactiveshell.py:3165: DtypeWarning: Columns (36,40,81,87) have mixed types.Specify dtype option on import or set low_memory=False.\n",
      "  has_raised = await self.run_ast_nodes(code_ast.body, cell_name,\n"
     ]
    }
   ],
   "source": [
    "realEstate = pd.read_csv('Ames Real Estate Data.csv')\n",
    "re_table = pd.read_csv('RealEstate_Table.csv')"
   ]
  },
  {
   "cell_type": "code",
   "execution_count": 3,
   "id": "b3bc1665",
   "metadata": {},
   "outputs": [
    {
     "data": {
      "text/plain": [
       "(22213, 91)"
      ]
     },
     "execution_count": 3,
     "metadata": {},
     "output_type": "execute_result"
    }
   ],
   "source": [
    "realEstate.shape"
   ]
  },
  {
   "cell_type": "code",
   "execution_count": 6,
   "id": "ef3195d4",
   "metadata": {},
   "outputs": [],
   "source": [
    "# function to look up definitions of realEstate features\n",
    "def table(feature):\n",
    "    return re_table.loc[re_table['Field Name'] == feature]"
   ]
  },
  {
   "cell_type": "code",
   "execution_count": 7,
   "id": "a91f256c",
   "metadata": {},
   "outputs": [
    {
     "data": {
      "text/html": [
       "<div>\n",
       "<style scoped>\n",
       "    .dataframe tbody tr th:only-of-type {\n",
       "        vertical-align: middle;\n",
       "    }\n",
       "\n",
       "    .dataframe tbody tr th {\n",
       "        vertical-align: top;\n",
       "    }\n",
       "\n",
       "    .dataframe thead th {\n",
       "        text-align: right;\n",
       "    }\n",
       "</style>\n",
       "<table border=\"1\" class=\"dataframe\">\n",
       "  <thead>\n",
       "    <tr style=\"text-align: right;\">\n",
       "      <th></th>\n",
       "      <th>Field Number</th>\n",
       "      <th>Field Name</th>\n",
       "      <th>Field Start Position</th>\n",
       "      <th>Field Length</th>\n",
       "      <th>Data Type</th>\n",
       "      <th>Description</th>\n",
       "      <th>Notes</th>\n",
       "    </tr>\n",
       "  </thead>\n",
       "  <tbody>\n",
       "    <tr>\n",
       "      <th>24</th>\n",
       "      <td>25</td>\n",
       "      <td>Rcrd_Mo</td>\n",
       "      <td>625</td>\n",
       "      <td>3</td>\n",
       "      <td>Byte</td>\n",
       "      <td>Month of Last Recorded Deed</td>\n",
       "      <td>First space blank</td>\n",
       "    </tr>\n",
       "  </tbody>\n",
       "</table>\n",
       "</div>"
      ],
      "text/plain": [
       "    Field Number Field Name  Field Start Position  Field Length Data Type  \\\n",
       "24            25    Rcrd_Mo                   625             3      Byte   \n",
       "\n",
       "                    Description              Notes  \n",
       "24  Month of Last Recorded Deed  First space blank  "
      ]
     },
     "execution_count": 7,
     "metadata": {},
     "output_type": "execute_result"
    }
   ],
   "source": [
    "table('Rcrd_Mo')"
   ]
  },
  {
   "cell_type": "code",
   "execution_count": 4,
   "id": "3306e707",
   "metadata": {},
   "outputs": [],
   "source": [
    "# function for viewing columns with missing values\n",
    "def nas(df):\n",
    "    return df.loc[:, df.isna().sum() > 0 ].isna().sum().sort_values(ascending = False)"
   ]
  },
  {
   "cell_type": "code",
   "execution_count": 5,
   "id": "a1c36104",
   "metadata": {
    "scrolled": true
   },
   "outputs": [
    {
     "data": {
      "text/plain": [
       "MA_Line2     22213\n",
       "PA-PostD     22213\n",
       "X2TPr_D      22212\n",
       "X2TSc_S      22212\n",
       "X2TPr_S      22212\n",
       "             ...  \n",
       "Prop_Addr       20\n",
       "MA_Zip1         14\n",
       "MA_State        14\n",
       "MA_City         14\n",
       "MA_Line1        14\n",
       "Length: 65, dtype: int64"
      ]
     },
     "execution_count": 5,
     "metadata": {},
     "output_type": "execute_result"
    }
   ],
   "source": [
    "nas(realEstate)"
   ]
  },
  {
   "cell_type": "code",
   "execution_count": 85,
   "id": "3cd66f35",
   "metadata": {},
   "outputs": [],
   "source": [
    "re_num = realEstate.select_dtypes(include=[np.number])\n",
    "re_cat = realEstate.select_dtypes(exclude=[np.number])"
   ]
  },
  {
   "cell_type": "code",
   "execution_count": 86,
   "id": "90a73e4e",
   "metadata": {},
   "outputs": [],
   "source": [
    " # DATE - dropping\n",
    "from datetime import date\n",
    "                                                              # after seeing that date columns have too many\n",
    "date_df = realEstate.filter(regex='Yr|Mo|Date')               # missing values and are complicated to combine, \n",
    "date_df.loc[~date_df['YrSold_YYYY'].isna()]                   # decided to drop and use date from HP\n",
    "# date_comp = date_df.loc[date_df['Rcrd_Yr'] != date_df['Inst1_Yr']]\n",
    "# date_comp.loc[~date_df['Rcrd_Yr'].isna()]\n",
    "# date_df.loc[date_df['Date'] != '10-Jul-20']\n",
    "\n",
    "date_df.columns\n",
    "realEstate = realEstate.drop(date_df.columns, axis=1)\n",
    "# realEstate['day'] = 1\n",
    "# pd.to_datetime(realEstate[['Rcrd_Yr', 'Rcrd_Mo', 'day']].stack()).unstack\n",
    "# pd.to_datetime(dte.stack()).unstack()\n",
    "              \n",
    "# pd.to_datetime(assign(year, month = realEstate[['Rcrd_Yr','Rcrd_Mo']]).assign(DAY=1))"
   ]
  },
  {
   "cell_type": "code",
   "execution_count": 87,
   "id": "8ea2b637",
   "metadata": {},
   "outputs": [
    {
     "data": {
      "text/html": [
       "<div>\n",
       "<style scoped>\n",
       "    .dataframe tbody tr th:only-of-type {\n",
       "        vertical-align: middle;\n",
       "    }\n",
       "\n",
       "    .dataframe tbody tr th {\n",
       "        vertical-align: top;\n",
       "    }\n",
       "\n",
       "    .dataframe thead th {\n",
       "        text-align: right;\n",
       "    }\n",
       "</style>\n",
       "<table border=\"1\" class=\"dataframe\">\n",
       "  <thead>\n",
       "    <tr style=\"text-align: right;\">\n",
       "      <th></th>\n",
       "      <th>Field Number</th>\n",
       "      <th>Field Name</th>\n",
       "      <th>Field Start Position</th>\n",
       "      <th>Field Length</th>\n",
       "      <th>Data Type</th>\n",
       "      <th>Description</th>\n",
       "      <th>Notes</th>\n",
       "    </tr>\n",
       "  </thead>\n",
       "  <tbody>\n",
       "    <tr>\n",
       "      <th>27</th>\n",
       "      <td>28</td>\n",
       "      <td>Inst1_Mo</td>\n",
       "      <td>644</td>\n",
       "      <td>3</td>\n",
       "      <td>Byte</td>\n",
       "      <td>Month of Last Instrument</td>\n",
       "      <td>First space blank</td>\n",
       "    </tr>\n",
       "  </tbody>\n",
       "</table>\n",
       "</div>"
      ],
      "text/plain": [
       "    Field Number Field Name  Field Start Position  Field Length Data Type  \\\n",
       "27            28   Inst1_Mo                   644             3      Byte   \n",
       "\n",
       "                 Description              Notes  \n",
       "27  Month of Last Instrument  First space blank  "
      ]
     },
     "execution_count": 87,
     "metadata": {},
     "output_type": "execute_result"
    }
   ],
   "source": [
    "##  examining and dropping unnecessary features\n",
    "\n",
    "table('Inst1_Mo')"
   ]
  },
  {
   "cell_type": "code",
   "execution_count": 88,
   "id": "545d65ae",
   "metadata": {},
   "outputs": [
    {
     "data": {
      "text/plain": [
       "PA-PostD        22213\n",
       "MA_Line2        22213\n",
       "X2TPr_S         22212\n",
       "X2TPr_D         22212\n",
       "SalePrice       19247\n",
       "MoSold_MM       19247\n",
       "YrSold_YYYY     19247\n",
       "MilVal_D        13024\n",
       "HSTtl_D         13024\n",
       "MilVal_S        12966\n",
       "HSTtl_S         12966\n",
       "MA_Zip2          8890\n",
       "GarYrBlt         4308\n",
       "Fireplaces       4308\n",
       "TotRmsAbvGrd     4308\n",
       "TtlBsmtSF        4308\n",
       "GLA              4308\n",
       "YrBuilt          4308\n",
       "Cars             4308\n",
       "LotArea          4308\n",
       "GarageArea       4308\n",
       "PoolArea         4308\n",
       "NmbrBRs          4308\n",
       "Rcrd_Yr          1907\n",
       "Rcrd_Mo          1907\n",
       "Inst1_Yr         1907\n",
       "Inst1_Mo         1907\n",
       "MA_Zip1            14\n",
       "GeoRefNo            0\n",
       "LndAc_S             0\n",
       "Tier                0\n",
       "Range               0\n",
       "SchD_S              0\n",
       "TxD_S               0\n",
       "ImpAc_S             0\n",
       "ImpAcX2S            0\n",
       "OthAc_S             0\n",
       "TtlVal_AsrYr        0\n",
       "DwlgNo_S            0\n",
       "BldgNo_S            0\n",
       "LndAcX1S            0\n",
       "AcreNt_S            0\n",
       "AcreGr              0\n",
       "AcreX_S1            0\n",
       "ImpAcX1S            0\n",
       "MapRefNo            0\n",
       "dtype: int64"
      ]
     },
     "execution_count": 88,
     "metadata": {},
     "output_type": "execute_result"
    }
   ],
   "source": [
    "re_num.isna().sum().sort_values(ascending=False)"
   ]
  },
  {
   "cell_type": "code",
   "execution_count": 89,
   "id": "17a81d88",
   "metadata": {},
   "outputs": [
    {
     "data": {
      "text/plain": [
       "X2TSc_S         22212\n",
       "X2TSc_D         22212\n",
       "ZngCdSc         22187\n",
       "ZngOLSc         22060\n",
       "X1TSc_S         21522\n",
       "X1TPr_S         21522\n",
       "X1TPr_D         21519\n",
       "X1TSc_D         21519\n",
       "PA-PreD         20437\n",
       "ZngOLPr         20243\n",
       "MA_Ownr2        19337\n",
       "SaleCond        19247\n",
       "SaleType        19247\n",
       "PA-UnTyp        14468\n",
       "PA-UntNo        14096\n",
       "Foundation       4308\n",
       "Ext2             4308\n",
       "RoofMatl         4308\n",
       "Ext1             4308\n",
       "BldgType         4308\n",
       "MasVnrType       4308\n",
       "Heating          4308\n",
       "HouseStyle       4308\n",
       "Neighborhood     4308\n",
       "ParType          4308\n",
       "GarageType       4308\n",
       "Central Air      4308\n",
       "Inst1TPr         2677\n",
       "Inst1_No         1857\n",
       "ZngCdPr           106\n",
       "PA-StSfx           98\n",
       "PA-Nmbr            20\n",
       "PA-Strt            20\n",
       "Prop_Addr          20\n",
       "MA_State           14\n",
       "MA_City            14\n",
       "MA_Line1           14\n",
       "ValType             0\n",
       "ParclRel            0\n",
       "MA_Ownr1            0\n",
       "Legal_Pr            0\n",
       "ClassSc_S           0\n",
       "ClassPr_S           0\n",
       "Date                0\n",
       "Source              0\n",
       "dtype: int64"
      ]
     },
     "execution_count": 89,
     "metadata": {},
     "output_type": "execute_result"
    }
   ],
   "source": [
    "re_cat.isna().sum().sort_values(ascending=False)"
   ]
  },
  {
   "cell_type": "code",
   "execution_count": null,
   "id": "dfec058a",
   "metadata": {},
   "outputs": [],
   "source": []
  },
  {
   "cell_type": "code",
   "execution_count": null,
   "id": "09784527",
   "metadata": {},
   "outputs": [],
   "source": []
  },
  {
   "cell_type": "code",
   "execution_count": null,
   "id": "ed3eb47d",
   "metadata": {},
   "outputs": [],
   "source": []
  },
  {
   "cell_type": "code",
   "execution_count": null,
   "id": "7ad15eeb",
   "metadata": {},
   "outputs": [],
   "source": []
  },
  {
   "cell_type": "code",
   "execution_count": null,
   "id": "a2abac43",
   "metadata": {},
   "outputs": [],
   "source": []
  },
  {
   "cell_type": "code",
   "execution_count": null,
   "id": "0bc91985",
   "metadata": {},
   "outputs": [],
   "source": []
  },
  {
   "cell_type": "code",
   "execution_count": null,
   "id": "1386ce34",
   "metadata": {},
   "outputs": [],
   "source": []
  },
  {
   "cell_type": "code",
   "execution_count": null,
   "id": "eaed2ebb",
   "metadata": {},
   "outputs": [],
   "source": []
  },
  {
   "cell_type": "code",
   "execution_count": null,
   "id": "964e45c6",
   "metadata": {},
   "outputs": [],
   "source": []
  }
 ],
 "metadata": {
  "kernelspec": {
   "display_name": "Python 3",
   "language": "python",
   "name": "python3"
  },
  "language_info": {
   "codemirror_mode": {
    "name": "ipython",
    "version": 3
   },
   "file_extension": ".py",
   "mimetype": "text/x-python",
   "name": "python",
   "nbconvert_exporter": "python",
   "pygments_lexer": "ipython3",
   "version": "3.8.8"
  }
 },
 "nbformat": 4,
 "nbformat_minor": 5
}
