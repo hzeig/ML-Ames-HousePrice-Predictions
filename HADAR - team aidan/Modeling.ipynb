{
 "cells": [
  {
   "cell_type": "markdown",
   "id": "3c556a4b-040c-4435-8585-9a04b31b352e",
   "metadata": {
    "tags": []
   },
   "source": [
    "# Modeling I"
   ]
  },
  {
   "cell_type": "code",
   "execution_count": null,
   "id": "10144b66",
   "metadata": {},
   "outputs": [],
   "source": [
    "import statsmodels.api as sm\n",
    "from statsmodels.sandbox.regression.predstd import wls_prediction_std\n",
    "from sklearn.linear_model import LinearRegression, LogisticRegression, HuberRegressor, BayesianRidge, Lasso, OrthogonalMatchingPursuit \n",
    "from sklearn.preprocessing import MinMaxScaler, LabelEncoder\n",
    "from sklearn import utils\n",
    "from sklearn.pipeline import Pipeline\n",
    "from sklearn.model_selection import KFold, train_test_split, cross_val_score\n",
    "from sklearn.ensemble import GradientBoostingRegressor\n",
    "from catboost import CatBoostClassifier\n",
    "# from lightgbm import LGBMRegressor\n",
    "# import optuna"
   ]
  },
  {
   "cell_type": "markdown",
   "id": "3f5451e5-e64a-45c2-9b03-4fffb1d691a5",
   "metadata": {},
   "source": [
    "### Decision Tree"
   ]
  },
  {
   "cell_type": "code",
   "execution_count": null,
   "id": "ece0e52e-1dce-4d48-aaff-0ea6218c8e77",
   "metadata": {},
   "outputs": [],
   "source": [
    "# def get_error(X_train"
   ]
  },
  {
   "cell_type": "code",
   "execution_count": null,
   "id": "f5525d9a-dafb-48fa-acd4-92fd4aef8653",
   "metadata": {},
   "outputs": [],
   "source": [
    "from sklearn import tree\n",
    "tm = tree.DecisionTreeClassifier()\n",
    "tm.fit(X_train, y_train)\n",
    "tm.score("
   ]
  },
  {
   "cell_type": "markdown",
   "id": "b6ded5a2-601a-406d-9348-1316c02be372",
   "metadata": {},
   "source": [
    "### Random Forest"
   ]
  },
  {
   "cell_type": "markdown",
   "id": "0747d09a-2a24-4a67-bcbb-3f1c0ccde509",
   "metadata": {},
   "source": [
    "## Multiple Linear Regression I"
   ]
  },
  {
   "cell_type": "code",
   "execution_count": null,
   "id": "8531a58f-854b-4187-a17d-ec46bddb950e",
   "metadata": {},
   "outputs": [],
   "source": [
    "ols = LinearRegression() \n",
    "ols.fit(features, target)"
   ]
  },
  {
   "cell_type": "code",
   "execution_count": null,
   "id": "4ed099e4-ba7b-40c1-b56f-54482cca61df",
   "metadata": {},
   "outputs": [],
   "source": [
    "olsCyc = LinearRegression() \n",
    "olsCyc.fit(featuresCyc, targetCyc)"
   ]
  },
  {
   "cell_type": "code",
   "execution_count": null,
   "id": "d5a20f7a-3f99-4831-8945-3d8f5fa161f2",
   "metadata": {},
   "outputs": [],
   "source": [
    "olsStan = LinearRegression() \n",
    "olsStan.fit(featuresStan, targetStan)"
   ]
  },
  {
   "cell_type": "code",
   "execution_count": null,
   "id": "8ce8de52-aa75-4d6c-9245-d165ade97f61",
   "metadata": {},
   "outputs": [],
   "source": [
    "olsVif = LinearRegression() \n",
    "olsVif.fit(featuresVif, targetVif)"
   ]
  },
  {
   "cell_type": "code",
   "execution_count": null,
   "id": "ebc357c2-2bf7-4fa7-a04c-d89bb6816890",
   "metadata": {},
   "outputs": [],
   "source": [
    "olsStanVif = LinearRegression() \n",
    "olsStanVif.fit(featuresStanVif, targetStanVif)"
   ]
  },
  {
   "cell_type": "code",
   "execution_count": null,
   "id": "9d5064e3-cfac-4498-8c16-38416ffbd62d",
   "metadata": {},
   "outputs": [],
   "source": [
    "# Logistic not sensical for this continuous variable\n",
    "# pred = lm.predict(features)\n",
    "# (target == pred).mean()"
   ]
  },
  {
   "cell_type": "code",
   "execution_count": null,
   "id": "08937157-cb28-4792-b4c2-8264b090ab64",
   "metadata": {},
   "outputs": [],
   "source": [
    "# first glance \n",
    "print('R^2', ols.score(features, target))\n",
    "print('RSS', np.sum((ols.predict(features) - target) ** 2))\n",
    "print('beta0:' + str(np.round(ols.intercept_, 2)))"
   ]
  },
  {
   "cell_type": "code",
   "execution_count": null,
   "id": "1e7716c1-3955-4394-a098-53fef5885526",
   "metadata": {},
   "outputs": [],
   "source": [
    "# cyc performed ever so slightly (0.000001) worse than non cycle capturing\n",
    "print('R^2', olsCyc.score(featuresCyc, targetCyc))\n",
    "print('RSS', np.sum((olsCyc.predict(featuresCyc) - targetCyc) ** 2))\n",
    "print('beta0:' + str(np.round(olsCyc.intercept_, 2)))"
   ]
  },
  {
   "cell_type": "code",
   "execution_count": null,
   "id": "60484321-7da1-4c70-979e-62b412cf3091",
   "metadata": {},
   "outputs": [],
   "source": [
    "# stan performed nearly the same as original  \n",
    "print('R^2', olsStan.score(featuresStan, targetStan))\n",
    "print('RSS', np.sum((olsStan.predict(featuresStan) - targetStan) ** 2))\n",
    "print('beta0:' + str(np.round(olsStan.intercept_, 2)))"
   ]
  },
  {
   "cell_type": "code",
   "execution_count": null,
   "id": "5be6ea43-d1bd-413b-9592-402fe77cd2fc",
   "metadata": {},
   "outputs": [],
   "source": [
    "# vif performed way worse, as to be expected after removing so many variables\n",
    "print('R^2', olsVif.score(featuresVif, targetVif))\n",
    "print('RSS', np.sum((olsVif.predict(featuresVif) - targetVif) ** 2))\n",
    "print('beta0:' + str(np.round(olsVif.intercept_, 2)))"
   ]
  },
  {
   "cell_type": "code",
   "execution_count": null,
   "id": "6e1eae7c-2895-437b-a5d0-5736d0b88382",
   "metadata": {},
   "outputs": [],
   "source": [
    "# StanVif had significant improvement from unstandardized  \n",
    "print('R^2', olsStanVif.score(featuresStanVif, targetStanVif))\n",
    "print('RSS', np.sum((olsStanVif.predict(featuresStanVif) - targetStanVif) ** 2))\n",
    "print('beta0:' + str(np.round(olsStanVif.intercept_, 2)))"
   ]
  },
  {
   "cell_type": "markdown",
   "id": "636eb29e-3558-4781-b84f-847081656a6b",
   "metadata": {},
   "source": [
    "## Sequential Feature Selection and GridsearchCV"
   ]
  },
  {
   "cell_type": "code",
   "execution_count": null,
   "id": "587eb934-4d57-4b56-b8e9-5c4e69be8acf",
   "metadata": {},
   "outputs": [],
   "source": [
    "from mlxtend.plotting import plot_sequential_feature_selection as plot_sfs\n",
    "\n",
    "\n",
    "X, y = features, target\n",
    "\n",
    "lr = LinearRegression()\n",
    "\n",
    "sfs = SFS(lr, \n",
    "          k_features=10, \n",
    "          forward=True, \n",
    "          floating=False, \n",
    "          scoring='neg_mean_squared_error',\n",
    "          cv=10)\n",
    "\n",
    "sfs = sfs.fit(X, y)\n",
    "fig = plot_sfs(sfs.get_metric_dict(), kind='std_err')\n",
    "\n",
    "plt.title('Sequential Forward Selection (w. StdErr)')\n",
    "plt.grid()\n",
    "plt.show()"
   ]
  },
  {
   "cell_type": "code",
   "execution_count": null,
   "id": "185c9149-343e-4187-a8d2-a292645c5e32",
   "metadata": {},
   "outputs": [],
   "source": [
    "from sklearn.neighbors import KNeighborsClassifier\n",
    "from sklearn.model_selection import GridSearchCV\n",
    "# from sklearn.pipli\n",
    "from mlxtend.feature_selection import SequentialFeatureSelector as SFS\n",
    "import mlxtend\n",
    "\n",
    "\n",
    "X_train, X_test, y_train, y_test = train_test_split(\n",
    "    features, target, test_size = 0.2, random_state=0)\n",
    "\n",
    "# knn = KNeighborsClassifier(n_neighbors=2)\n",
    "lm = LinearRegression()\n",
    "\n",
    "lm.fit(X_train, y_train)\n",
    "lm.score\n",
    "\n",
    "# sfs1 = SFS(lm,\n",
    "#            k_features=5,\n",
    "#            forward=True,\n",
    "#            floating=False,\n",
    "#            scoring='accuracy',\n",
    "#            cv=5)\n",
    "\n",
    "# sfs1 = sfs1.fit(X_train, y_train)\n",
    "# fig = plot_sfs(sfs1.get_metric_dict(), kind = 'std_err')\n",
    "# fig = lm.plot()\n",
    "# plt.title('fjdksjfs')\n",
    "# plt.grid()\n",
    "# plt.show()\n",
    "\n",
    "\n",
    "# pipe = Pipeline([('sfs', sfs1),\n",
    "#                  ('knn', knn)])\n",
    "# pipe\n",
    "# param_grid = [\n",
    "#     {'sfs__k_features': [1, 4],\n",
    "#      'sfs__estimator__n_neighbors': [1, 5, 10]}\n",
    "# ]\n",
    "\n",
    "# gs = GridSearchCV(estimator=pipe, param_grid=param_grid,\n",
    "#                   scoring = 'accuracy', n_jobs=1,\n",
    "#                   cv=5, refit=False)\n",
    "\n",
    "# gs = gs.fit(X_train, y_train)\n",
    "\n",
    "# for i in range(len(gs.cv_results_['params'])):\n",
    "#     print(gs.cv_results_['params'][i], 'test acc.:', \n",
    "#           gs.cv_results_['mean_test_score'][i])"
   ]
  },
  {
   "cell_type": "markdown",
   "id": "328d0b26-232b-405d-a7c3-ecf1dde1388c",
   "metadata": {},
   "source": [
    "# Modeling II"
   ]
  },
  {
   "cell_type": "markdown",
   "id": "632ed294-72f3-4992-a789-0c613d6d6302",
   "metadata": {},
   "source": [
    "## Multiple Linear Regression II"
   ]
  },
  {
   "cell_type": "code",
   "execution_count": null,
   "id": "cbf3b660-9ae0-47c4-a675-241f5681bc0e",
   "metadata": {},
   "outputs": [],
   "source": [
    "ols = LinearRegression() \n",
    "ols.fit(X_train, y_train)"
   ]
  },
  {
   "cell_type": "code",
   "execution_count": null,
   "id": "2155c384-9da6-4b4c-88d1-232f7c650e93",
   "metadata": {},
   "outputs": [],
   "source": [
    "# first glance \n",
    "print('R^2', ols.score(features, target))\n",
    "print('RSS', np.sum((ols.predict(features) - target) ** 2))\n",
    "print('beta0:' + str(np.round(ols.intercept_, 2)))"
   ]
  },
  {
   "cell_type": "code",
   "execution_count": null,
   "id": "533fa6e0-b7a7-441a-8a27-aa2434ed35bf",
   "metadata": {},
   "outputs": [],
   "source": [
    "# cyc performed ever so slightly (0.000001) worse than non cycle capturing\n",
    "print('R^2', ols2.score(features_cyc, target_cyc))\n",
    "print('RSS', np.sum((ols2.predict(features_cyc) - target_cyc) ** 2))\n",
    "print('beta0:' + str(np.round(ols2.intercept_, 2)))"
   ]
  },
  {
   "cell_type": "markdown",
   "id": "d26b80f1-ee52-4a52-b1e2-01f624a1fe9e",
   "metadata": {},
   "source": [
    "#### Train Test Split"
   ]
  },
  {
   "cell_type": "code",
   "execution_count": null,
   "id": "5a9e3919-f746-4854-bf5a-90c25f1572d7",
   "metadata": {},
   "outputs": [],
   "source": [
    "X_train, X_test, y_train, y_test = train_test_split(\n",
    "    features, target, test_size=0.5, random_state=0)"
   ]
  },
  {
   "cell_type": "code",
   "execution_count": null,
   "id": "7907b8ec-8a73-4f20-80e5-795f2a19a6e4",
   "metadata": {},
   "outputs": [],
   "source": [
    "ols = LinearRegression()\n",
    "ols.fit(X_train, y_train)\n",
    "print('R^2 train', ols.score(X_train, y_train))\n",
    "print('R^2 test', ols.score(X_test, y_test))"
   ]
  },
  {
   "cell_type": "markdown",
   "id": "5167428e-8d74-483a-8cdb-b18deb827eaa",
   "metadata": {},
   "source": [
    "#### K-fold Split and Cross Validation"
   ]
  },
  {
   "cell_type": "code",
   "execution_count": null,
   "id": "1ce3487a-a25f-4a74-9dae-282984b74e12",
   "metadata": {},
   "outputs": [],
   "source": [
    "# split training data into 5 parts for cross-validation\n",
    "kfold = KFold(n_splits=5, shuffle=True, random_state=0)\n",
    "kfold.get_n_splits(X_train, y_train) # see that split worked"
   ]
  },
  {
   "cell_type": "code",
   "execution_count": null,
   "id": "82c929bd-1623-4126-b2dc-dd9593088630",
   "metadata": {},
   "outputs": [],
   "source": [
    "lm = LinearRegression()\n",
    "scores = cross_val_score(lm, X_train, y_train, cv=kfold)\n",
    "print(scores)\n",
    "np.mean(scores)"
   ]
  },
  {
   "cell_type": "markdown",
   "id": "bc0c36c5-006d-430e-b311-0a9cf53e2d45",
   "metadata": {},
   "source": [
    "## GridSearch"
   ]
  },
  {
   "cell_type": "code",
   "execution_count": null,
   "id": "d66bfc7e-b24e-4d56-8913-305906e9d1df",
   "metadata": {},
   "outputs": [],
   "source": []
  },
  {
   "cell_type": "markdown",
   "id": "e423852a-8495-4ff4-803d-17d985c50ac3",
   "metadata": {},
   "source": [
    "### CatBooster Regression"
   ]
  },
  {
   "cell_type": "code",
   "execution_count": null,
   "id": "8b57ceb6-107b-4114-b49b-3adc77fe238e",
   "metadata": {},
   "outputs": [],
   "source": [
    "from catboost import CatBoostRegressor\n",
    "\n",
    "cb = CatBoostRegressor(verbose=0)"
   ]
  },
  {
   "cell_type": "markdown",
   "id": "4f444128-02bb-4fd0-8390-9fd8b2b278b7",
   "metadata": {},
   "source": [
    "## Time Series"
   ]
  },
  {
   "cell_type": "markdown",
   "id": "acef8d32-00b4-4731-8bb3-7f35a2f9d69c",
   "metadata": {},
   "source": [
    "## Tree-Based for continuous? Bootstrapping!"
   ]
  },
  {
   "cell_type": "markdown",
   "id": "c9deee8d-d64d-4d42-8399-4cfa73452e06",
   "metadata": {},
   "source": [
    "### Randomness works great for accuracy\n",
    "- Random Forest\n",
    "- Neural Networks\n",
    "- Stochastic Gradient Descent\n",
    "- Gradient Boosting"
   ]
  },
  {
   "cell_type": "code",
   "execution_count": null,
   "id": "e856aa0e-21f7-40c5-96fd-705b417910ae",
   "metadata": {},
   "outputs": [],
   "source": []
  },
  {
   "cell_type": "markdown",
   "id": "b6c593b0-ef95-4cfc-95e6-eb3ce3c07774",
   "metadata": {},
   "source": [
    "## Tracking Models and Datasets \n",
    "- dataset variations\n",
    "- train/test split code\n",
    "- models (untrained)\n",
    "- models (trained, pickle)\n",
    "- ensembles (untrained)\n",
    "- ensembles (trained, pickle)"
   ]
  },
  {
   "cell_type": "markdown",
   "id": "6c588b73-3187-4a3e-aa4a-9028aee50f75",
   "metadata": {},
   "source": [
    "#### Datasets"
   ]
  },
  {
   "cell_type": "code",
   "execution_count": null,
   "id": "0cba013a-5c47-4a1d-8599-174d630175af",
   "metadata": {},
   "outputs": [],
   "source": [
    "data_dict : {'encoded': housePrice, 'cyclical' : housePriceCyc, 'standardScaler' : housePriceStan, \n",
    "             'VIF' : housePriceVIF, 'RFE' : housePriceRFE, 'StanVIF' : housePriceStanVif,\n",
    "            'StanRFE' : housePriceStanRfe, 'CycVIF' : housePriceCycVif, 'CycRFE' : housePriceCycRfe, \n",
    "             'CycStanVIF' : housePriceCycStanVif, 'CycStanRFE' : housePriceCycStanRfe}\n",
    "\n",
    "# housePrice\n",
    "# housePriceCyc\n",
    "# housePriceStan\n",
    "# housePriceVif\n",
    "# housePriceRfe\n",
    "# housePriceStanVif\n",
    "# housePriceStanRfe\n",
    "# housePriceCycVif\n",
    "# housePriceCycRfe\n",
    "# housePriceCycStanVif\n",
    "# housePriceCycStanRfe"
   ]
  },
  {
   "cell_type": "markdown",
   "id": "dcf72f82-bbb9-48b9-be72-21a8ed813c05",
   "metadata": {},
   "source": [
    "#### Train/Test Split"
   ]
  },
  {
   "cell_type": "code",
   "execution_count": null,
   "id": "d890b743-37ea-4377-8767-1d2a22ca1a6c",
   "metadata": {},
   "outputs": [],
   "source": [
    "# simple\n",
    "X_train, X_test, y_train, y_test = train_test_split(\n",
    "    features, target, test_size=0.5, random_state=0)\n",
    "# k-fold\n",
    "kfold = KFold(n_splits=5, shuffle=True, random_state=0)\n",
    "# cross-validation\n",
    "lm = LinearRegression()\n",
    "scores = cross_val_score(lm, X_train, y_train, cv=kfold)\n",
    "print(scores)\n",
    "np.mean(scores)"
   ]
  },
  {
   "cell_type": "markdown",
   "id": "720becfa-aef4-486d-9c7e-d89e32373917",
   "metadata": {},
   "source": [
    "#### Models (untrained)"
   ]
  },
  {
   "cell_type": "code",
   "execution_count": null,
   "id": "27ab1eeb-5ffd-4984-8748-ff4e7eb8a971",
   "metadata": {},
   "outputs": [],
   "source": []
  },
  {
   "cell_type": "markdown",
   "id": "956fa2b4-d5eb-4a52-b5b8-a5ef20ea015a",
   "metadata": {},
   "source": [
    "#### Models (trained, picked)"
   ]
  },
  {
   "cell_type": "code",
   "execution_count": null,
   "id": "92dd3e6b-e54b-4718-8aa8-f8819935681b",
   "metadata": {},
   "outputs": [],
   "source": []
  },
  {
   "cell_type": "markdown",
   "id": "92122122-1429-44a5-9b5b-8f15069f0b63",
   "metadata": {},
   "source": [
    "#### Ensembles (untrained)"
   ]
  },
  {
   "cell_type": "code",
   "execution_count": null,
   "id": "60fb2424-01c1-4d97-91dc-3d9cebe77002",
   "metadata": {},
   "outputs": [],
   "source": []
  },
  {
   "cell_type": "markdown",
   "id": "3c76496b-8de8-47fa-b8c1-7a2ce1521889",
   "metadata": {},
   "source": [
    "#### Ensembles (trained, pickled)"
   ]
  },
  {
   "cell_type": "code",
   "execution_count": null,
   "id": "20def878-9790-4421-94c4-07080ff8fb67",
   "metadata": {},
   "outputs": [],
   "source": []
  },
  {
   "cell_type": "code",
   "execution_count": null,
   "id": "94b5fac6-a590-4dd8-94a8-1b21be78a26a",
   "metadata": {},
   "outputs": [],
   "source": []
  },
  {
   "cell_type": "code",
   "execution_count": null,
   "id": "39860f8e-abab-474c-945e-d04996ab3406",
   "metadata": {},
   "outputs": [],
   "source": []
  },
  {
   "cell_type": "code",
   "execution_count": null,
   "id": "879736b4-70e1-4a76-8cf1-a0f4ce23d4d6",
   "metadata": {},
   "outputs": [],
   "source": []
  },
  {
   "cell_type": "code",
   "execution_count": null,
   "id": "40dca848-87b1-44f3-a283-c660a16b910e",
   "metadata": {},
   "outputs": [],
   "source": []
  },
  {
   "cell_type": "code",
   "execution_count": null,
   "id": "67979b97-e4cb-4285-ab09-00b6d97113d2",
   "metadata": {},
   "outputs": [],
   "source": []
  },
  {
   "cell_type": "code",
   "execution_count": null,
   "id": "cf81abaf-6a64-405e-b996-06945fe48c74",
   "metadata": {},
   "outputs": [],
   "source": []
  },
  {
   "cell_type": "code",
   "execution_count": null,
   "id": "31e590df-7d79-4f1d-8061-1aa9118343d5",
   "metadata": {},
   "outputs": [],
   "source": []
  },
  {
   "cell_type": "code",
   "execution_count": null,
   "id": "e77d366e-aebe-4e24-beb9-2a55932fd864",
   "metadata": {},
   "outputs": [],
   "source": []
  },
  {
   "cell_type": "code",
   "execution_count": null,
   "id": "e71b3bd1-0f2a-49d5-9ec6-b699cd2e067c",
   "metadata": {},
   "outputs": [],
   "source": []
  },
  {
   "cell_type": "code",
   "execution_count": null,
   "id": "b2eecf54",
   "metadata": {},
   "outputs": [],
   "source": []
  },
  {
   "cell_type": "code",
   "execution_count": null,
   "id": "cd0507dd",
   "metadata": {},
   "outputs": [],
   "source": []
  }
 ],
 "metadata": {
  "kernelspec": {
   "display_name": "Python 3",
   "language": "python",
   "name": "python3"
  },
  "language_info": {
   "codemirror_mode": {
    "name": "ipython",
    "version": 3
   },
   "file_extension": ".py",
   "mimetype": "text/x-python",
   "name": "python",
   "nbconvert_exporter": "python",
   "pygments_lexer": "ipython3",
   "version": "3.8.8"
  }
 },
 "nbformat": 4,
 "nbformat_minor": 5
}
