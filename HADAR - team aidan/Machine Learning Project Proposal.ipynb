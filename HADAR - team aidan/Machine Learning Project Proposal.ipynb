{
 "cells": [
  {
   "cell_type": "markdown",
   "metadata": {},
   "source": [
    "# Machine Learning Project - Ames Housing Data\n",
    "\n",
    "Ames, Iowa is the college town of **Iowa State University**. The Ames housing dataset consists of about $2500$ house sale records between $2006-2010$. Detailed information about the house attributes, along with the sale prices, is recorded in the dataset. The goal of the project is to:\n",
    "- perform descriptive data analysis to gain business (i.e. housing market) insights\n",
    "- build descriptive machine learning models to understand the local housing market.\n",
    "- build predictive machine learning models for the local house price prediction.\n",
    "\n",
    "A subset of the **Ames** dataset is hosted on [**Kaggle**](https://www.kaggle.com/c/house-prices-advanced-regression-techniques/data) as an entry-level regression competition. You may visit their site for some information on the meanings of its data columns (the data dictionary). In this notebook, we will describe various project ideas related to this data."
   ]
  },
  {
   "cell_type": "markdown",
   "metadata": {},
   "source": [
    "<img src='./pic/AmesHouses.jpg' width=400 height=600 align='center'>"
   ]
  },
  {
   "cell_type": "markdown",
   "metadata": {},
   "source": [
    "## Who You Are\n",
    "\n",
    "You can choose (but are not limited to) one of the following options:\n",
    "- You are a housing market consultant.\n",
    "- You are a data scientist for an online real estate database company which provides house price estimation (like **Zillow** home price estimates) for the site visitors.\n",
    "\n",
    "No matter what angle you choose, your goal is to build a highly accurate predictive or descriptive model. To accomplish this, it is important to understand the local housing market in a **data driven** way. Your data analytics should be an objective analysis backed by your data!"
   ]
  },
  {
   "cell_type": "markdown",
   "metadata": {},
   "source": [
    "## The Project Workflow\n",
    "\n",
    "- Starting with in-depth data analysis (mandatory) and data pre-processing, your team can choose to specialize in either:\n",
    "     - $100\\%$ descriptive modeling on home prices, or\n",
    "     - say $40\\%$ descriptive modeling and $60\\%$ predictive modeling tasks on home prices.\n",
    "     - It's OK to focus on other areas, but these areas must align with your end-goal in your job-search.\n",
    "\n",
    "\n",
    "- Tools you are expected to use:\n",
    "   - **Data analysis and missing value imputation**: **pandas**, **dplr**, and the accompanying visualization tools, some multiple linear regression or logistic regression.\n",
    "   - **Descriptive models**: feature selection, feature engineering, multiple linear regression, Python statsmodels or their R couterpart, penalized linear regression, stepwise regression (**AIC**, **BIC**, etc.), some gridsearch, KNN, SVR, Random Forest, Gradient Boosting, and potentially other models.\n",
    "   - **Predictive models**: feature selection, feature engineering, gridsearchCV, multiple/penalized linear regression, gridsearch, Random Forest, Gradient Boosting, and potentially other models.\n",
    "\n",
    "\n",
    "You can use machine learning models beyond those we list above, but don't make these optional models your first priority. Doing this would limit your time spent on the more fundamental part of the project. This is not wise!\n",
    "\n",
    "The art of **feature engineering** includes generating new features, or selecting optimal features to feed into the machine learning models. If your goal is to improve accuracy, then the **optimal** features would mean the feature combination that offers high predictive accuracy. However, if your goal is to fit an **optimal** descriptive model for the purpose of improving business efficiency/profitability, the most accurate model might not give you the insights you want. As a modeler, you need to gauge which is most appropriate based on your objectives.\n",
    "\n",
    "\n",
    "Clever ideas for **feature generation** are often inspired by high quality data analysis. Thus, we will suggest a few research questions to point you in the right direction. Chronologically, your team should work on data analysis and modeling simultaneously. Do **not** wait to start modelling until after you complete your data analysis phase, you will be pressed for time."
   ]
  },
  {
   "cell_type": "markdown",
   "metadata": {},
   "source": [
    "<img src='./pic/Ames.jpg' width=400 height=600 align='left'>\n",
    "<img src='./pic/ISU.jpg' width=400 height=600 align='right'>"
   ]
  },
  {
   "cell_type": "code",
   "execution_count": 1,
   "metadata": {
    "scrolled": true
   },
   "outputs": [
    {
     "data": {
      "text/plain": [
       "(2580, 81)"
      ]
     },
     "execution_count": 1,
     "metadata": {},
     "output_type": "execute_result"
    }
   ],
   "source": [
    "import numpy as np\n",
    "import pandas as pd\n",
    "%matplotlib inline \n",
    "\n",
    "housing = pd.read_csv('Ames_HousePrice.csv', index_col=0)\n",
    "housing.shape"
   ]
  },
  {
   "cell_type": "code",
   "execution_count": 2,
   "metadata": {},
   "outputs": [
    {
     "data": {
      "text/html": [
       "<div>\n",
       "<style scoped>\n",
       "    .dataframe tbody tr th:only-of-type {\n",
       "        vertical-align: middle;\n",
       "    }\n",
       "\n",
       "    .dataframe tbody tr th {\n",
       "        vertical-align: top;\n",
       "    }\n",
       "\n",
       "    .dataframe thead th {\n",
       "        text-align: right;\n",
       "    }\n",
       "</style>\n",
       "<table border=\"1\" class=\"dataframe\">\n",
       "  <thead>\n",
       "    <tr style=\"text-align: right;\">\n",
       "      <th></th>\n",
       "      <th>PID</th>\n",
       "      <th>GrLivArea</th>\n",
       "      <th>SalePrice</th>\n",
       "      <th>MSSubClass</th>\n",
       "      <th>MSZoning</th>\n",
       "      <th>LotFrontage</th>\n",
       "      <th>LotArea</th>\n",
       "      <th>Street</th>\n",
       "      <th>Alley</th>\n",
       "      <th>LotShape</th>\n",
       "      <th>...</th>\n",
       "      <th>ScreenPorch</th>\n",
       "      <th>PoolArea</th>\n",
       "      <th>PoolQC</th>\n",
       "      <th>Fence</th>\n",
       "      <th>MiscFeature</th>\n",
       "      <th>MiscVal</th>\n",
       "      <th>MoSold</th>\n",
       "      <th>YrSold</th>\n",
       "      <th>SaleType</th>\n",
       "      <th>SaleCondition</th>\n",
       "    </tr>\n",
       "  </thead>\n",
       "  <tbody>\n",
       "    <tr>\n",
       "      <th>1</th>\n",
       "      <td>909176150</td>\n",
       "      <td>856</td>\n",
       "      <td>126000</td>\n",
       "      <td>30</td>\n",
       "      <td>RL</td>\n",
       "      <td>NaN</td>\n",
       "      <td>7890</td>\n",
       "      <td>Pave</td>\n",
       "      <td>NaN</td>\n",
       "      <td>Reg</td>\n",
       "      <td>...</td>\n",
       "      <td>166</td>\n",
       "      <td>0</td>\n",
       "      <td>NaN</td>\n",
       "      <td>NaN</td>\n",
       "      <td>NaN</td>\n",
       "      <td>0</td>\n",
       "      <td>3</td>\n",
       "      <td>2010</td>\n",
       "      <td>WD</td>\n",
       "      <td>Normal</td>\n",
       "    </tr>\n",
       "    <tr>\n",
       "      <th>2</th>\n",
       "      <td>905476230</td>\n",
       "      <td>1049</td>\n",
       "      <td>139500</td>\n",
       "      <td>120</td>\n",
       "      <td>RL</td>\n",
       "      <td>42.0</td>\n",
       "      <td>4235</td>\n",
       "      <td>Pave</td>\n",
       "      <td>NaN</td>\n",
       "      <td>Reg</td>\n",
       "      <td>...</td>\n",
       "      <td>0</td>\n",
       "      <td>0</td>\n",
       "      <td>NaN</td>\n",
       "      <td>NaN</td>\n",
       "      <td>NaN</td>\n",
       "      <td>0</td>\n",
       "      <td>2</td>\n",
       "      <td>2009</td>\n",
       "      <td>WD</td>\n",
       "      <td>Normal</td>\n",
       "    </tr>\n",
       "    <tr>\n",
       "      <th>3</th>\n",
       "      <td>911128020</td>\n",
       "      <td>1001</td>\n",
       "      <td>124900</td>\n",
       "      <td>30</td>\n",
       "      <td>C (all)</td>\n",
       "      <td>60.0</td>\n",
       "      <td>6060</td>\n",
       "      <td>Pave</td>\n",
       "      <td>NaN</td>\n",
       "      <td>Reg</td>\n",
       "      <td>...</td>\n",
       "      <td>0</td>\n",
       "      <td>0</td>\n",
       "      <td>NaN</td>\n",
       "      <td>NaN</td>\n",
       "      <td>NaN</td>\n",
       "      <td>0</td>\n",
       "      <td>11</td>\n",
       "      <td>2007</td>\n",
       "      <td>WD</td>\n",
       "      <td>Normal</td>\n",
       "    </tr>\n",
       "    <tr>\n",
       "      <th>4</th>\n",
       "      <td>535377150</td>\n",
       "      <td>1039</td>\n",
       "      <td>114000</td>\n",
       "      <td>70</td>\n",
       "      <td>RL</td>\n",
       "      <td>80.0</td>\n",
       "      <td>8146</td>\n",
       "      <td>Pave</td>\n",
       "      <td>NaN</td>\n",
       "      <td>Reg</td>\n",
       "      <td>...</td>\n",
       "      <td>111</td>\n",
       "      <td>0</td>\n",
       "      <td>NaN</td>\n",
       "      <td>NaN</td>\n",
       "      <td>NaN</td>\n",
       "      <td>0</td>\n",
       "      <td>5</td>\n",
       "      <td>2009</td>\n",
       "      <td>WD</td>\n",
       "      <td>Normal</td>\n",
       "    </tr>\n",
       "    <tr>\n",
       "      <th>5</th>\n",
       "      <td>534177230</td>\n",
       "      <td>1665</td>\n",
       "      <td>227000</td>\n",
       "      <td>60</td>\n",
       "      <td>RL</td>\n",
       "      <td>70.0</td>\n",
       "      <td>8400</td>\n",
       "      <td>Pave</td>\n",
       "      <td>NaN</td>\n",
       "      <td>Reg</td>\n",
       "      <td>...</td>\n",
       "      <td>0</td>\n",
       "      <td>0</td>\n",
       "      <td>NaN</td>\n",
       "      <td>NaN</td>\n",
       "      <td>NaN</td>\n",
       "      <td>0</td>\n",
       "      <td>11</td>\n",
       "      <td>2009</td>\n",
       "      <td>WD</td>\n",
       "      <td>Normal</td>\n",
       "    </tr>\n",
       "  </tbody>\n",
       "</table>\n",
       "<p>5 rows × 81 columns</p>\n",
       "</div>"
      ],
      "text/plain": [
       "         PID  GrLivArea  SalePrice  MSSubClass MSZoning  LotFrontage  LotArea  \\\n",
       "1  909176150        856     126000          30       RL          NaN     7890   \n",
       "2  905476230       1049     139500         120       RL         42.0     4235   \n",
       "3  911128020       1001     124900          30  C (all)         60.0     6060   \n",
       "4  535377150       1039     114000          70       RL         80.0     8146   \n",
       "5  534177230       1665     227000          60       RL         70.0     8400   \n",
       "\n",
       "  Street Alley LotShape  ... ScreenPorch PoolArea PoolQC Fence MiscFeature  \\\n",
       "1   Pave   NaN      Reg  ...         166        0    NaN   NaN         NaN   \n",
       "2   Pave   NaN      Reg  ...           0        0    NaN   NaN         NaN   \n",
       "3   Pave   NaN      Reg  ...           0        0    NaN   NaN         NaN   \n",
       "4   Pave   NaN      Reg  ...         111        0    NaN   NaN         NaN   \n",
       "5   Pave   NaN      Reg  ...           0        0    NaN   NaN         NaN   \n",
       "\n",
       "  MiscVal MoSold YrSold SaleType  SaleCondition  \n",
       "1       0      3   2010      WD          Normal  \n",
       "2       0      2   2009      WD          Normal  \n",
       "3       0     11   2007      WD          Normal  \n",
       "4       0      5   2009      WD          Normal  \n",
       "5       0     11   2009      WD          Normal  \n",
       "\n",
       "[5 rows x 81 columns]"
      ]
     },
     "execution_count": 2,
     "metadata": {},
     "output_type": "execute_result"
    }
   ],
   "source": [
    "housing.head()"
   ]
  },
  {
   "cell_type": "code",
   "execution_count": 13,
   "metadata": {
    "scrolled": true
   },
   "outputs": [
    {
     "data": {
      "text/plain": [
       "Index(['PID', 'GrLivArea', 'SalePrice', 'MSSubClass', 'MSZoning',\n",
       "       'LotFrontage', 'LotArea', 'Street', 'Alley', 'LotShape', 'LandContour',\n",
       "       'Utilities', 'LotConfig', 'LandSlope', 'Neighborhood', 'Condition1',\n",
       "       'Condition2', 'BldgType', 'HouseStyle', 'OverallQual', 'OverallCond',\n",
       "       'YearBuilt', 'YearRemodAdd', 'RoofStyle', 'RoofMatl', 'Exterior1st',\n",
       "       'Exterior2nd', 'MasVnrType', 'MasVnrArea', 'ExterQual', 'ExterCond',\n",
       "       'Foundation', 'BsmtQual', 'BsmtCond', 'BsmtExposure', 'BsmtFinType1',\n",
       "       'BsmtFinSF1', 'BsmtFinType2', 'BsmtFinSF2', 'BsmtUnfSF', 'TotalBsmtSF',\n",
       "       'Heating', 'HeatingQC', 'CentralAir', 'Electrical', '1stFlrSF',\n",
       "       '2ndFlrSF', 'LowQualFinSF', 'BsmtFullBath', 'BsmtHalfBath', 'FullBath',\n",
       "       'HalfBath', 'BedroomAbvGr', 'KitchenAbvGr', 'KitchenQual',\n",
       "       'TotRmsAbvGrd', 'Functional', 'Fireplaces', 'FireplaceQu', 'GarageType',\n",
       "       'GarageYrBlt', 'GarageFinish', 'GarageCars', 'GarageArea', 'GarageQual',\n",
       "       'GarageCond', 'PavedDrive', 'WoodDeckSF', 'OpenPorchSF',\n",
       "       'EnclosedPorch', '3SsnPorch', 'ScreenPorch', 'PoolArea', 'PoolQC',\n",
       "       'Fence', 'MiscFeature', 'MiscVal', 'MoSold', 'YrSold', 'SaleType',\n",
       "       'SaleCondition'],\n",
       "      dtype='object')"
      ]
     },
     "execution_count": 13,
     "metadata": {},
     "output_type": "execute_result"
    }
   ],
   "source": [
    "housing.columns"
   ]
  },
  {
   "cell_type": "code",
   "execution_count": 9,
   "metadata": {},
   "outputs": [
    {
     "data": {
      "text/html": [
       "<div>\n",
       "<style scoped>\n",
       "    .dataframe tbody tr th:only-of-type {\n",
       "        vertical-align: middle;\n",
       "    }\n",
       "\n",
       "    .dataframe tbody tr th {\n",
       "        vertical-align: top;\n",
       "    }\n",
       "\n",
       "    .dataframe thead th {\n",
       "        text-align: right;\n",
       "    }\n",
       "</style>\n",
       "<table border=\"1\" class=\"dataframe\">\n",
       "  <thead>\n",
       "    <tr style=\"text-align: right;\">\n",
       "      <th></th>\n",
       "      <th>PID</th>\n",
       "      <th>GrLivArea</th>\n",
       "      <th>SalePrice</th>\n",
       "      <th>MSSubClass</th>\n",
       "      <th>LotFrontage</th>\n",
       "      <th>LotArea</th>\n",
       "      <th>OverallQual</th>\n",
       "      <th>OverallCond</th>\n",
       "      <th>YearBuilt</th>\n",
       "      <th>YearRemodAdd</th>\n",
       "      <th>...</th>\n",
       "      <th>GarageArea</th>\n",
       "      <th>WoodDeckSF</th>\n",
       "      <th>OpenPorchSF</th>\n",
       "      <th>EnclosedPorch</th>\n",
       "      <th>3SsnPorch</th>\n",
       "      <th>ScreenPorch</th>\n",
       "      <th>PoolArea</th>\n",
       "      <th>MiscVal</th>\n",
       "      <th>MoSold</th>\n",
       "      <th>YrSold</th>\n",
       "    </tr>\n",
       "  </thead>\n",
       "  <tbody>\n",
       "    <tr>\n",
       "      <th>count</th>\n",
       "      <td>2.580000e+03</td>\n",
       "      <td>2580.000000</td>\n",
       "      <td>2580.000000</td>\n",
       "      <td>2580.000000</td>\n",
       "      <td>2118.000000</td>\n",
       "      <td>2580.000000</td>\n",
       "      <td>2580.000000</td>\n",
       "      <td>2580.000000</td>\n",
       "      <td>2580.000000</td>\n",
       "      <td>2580.000000</td>\n",
       "      <td>...</td>\n",
       "      <td>2579.000000</td>\n",
       "      <td>2580.000000</td>\n",
       "      <td>2580.000000</td>\n",
       "      <td>2580.000000</td>\n",
       "      <td>2580.000000</td>\n",
       "      <td>2580.000000</td>\n",
       "      <td>2580.000000</td>\n",
       "      <td>2580.000000</td>\n",
       "      <td>2580.000000</td>\n",
       "      <td>2580.000000</td>\n",
       "    </tr>\n",
       "    <tr>\n",
       "      <th>mean</th>\n",
       "      <td>7.148300e+08</td>\n",
       "      <td>1486.039922</td>\n",
       "      <td>178059.623256</td>\n",
       "      <td>57.691860</td>\n",
       "      <td>68.516053</td>\n",
       "      <td>10120.153488</td>\n",
       "      <td>6.046124</td>\n",
       "      <td>5.618605</td>\n",
       "      <td>1970.313953</td>\n",
       "      <td>1983.751938</td>\n",
       "      <td>...</td>\n",
       "      <td>466.842575</td>\n",
       "      <td>95.919767</td>\n",
       "      <td>46.085271</td>\n",
       "      <td>23.214341</td>\n",
       "      <td>2.511240</td>\n",
       "      <td>16.200388</td>\n",
       "      <td>1.662016</td>\n",
       "      <td>48.731395</td>\n",
       "      <td>6.150775</td>\n",
       "      <td>2007.838372</td>\n",
       "    </tr>\n",
       "    <tr>\n",
       "      <th>std</th>\n",
       "      <td>1.886626e+08</td>\n",
       "      <td>488.650181</td>\n",
       "      <td>75031.089374</td>\n",
       "      <td>42.802105</td>\n",
       "      <td>22.835831</td>\n",
       "      <td>8126.937892</td>\n",
       "      <td>1.367590</td>\n",
       "      <td>1.122008</td>\n",
       "      <td>29.719705</td>\n",
       "      <td>20.490242</td>\n",
       "      <td>...</td>\n",
       "      <td>207.476842</td>\n",
       "      <td>129.052016</td>\n",
       "      <td>66.060664</td>\n",
       "      <td>64.107825</td>\n",
       "      <td>25.293935</td>\n",
       "      <td>56.824783</td>\n",
       "      <td>30.339396</td>\n",
       "      <td>498.725058</td>\n",
       "      <td>2.670647</td>\n",
       "      <td>1.312333</td>\n",
       "    </tr>\n",
       "    <tr>\n",
       "      <th>min</th>\n",
       "      <td>5.263011e+08</td>\n",
       "      <td>334.000000</td>\n",
       "      <td>12789.000000</td>\n",
       "      <td>20.000000</td>\n",
       "      <td>21.000000</td>\n",
       "      <td>1300.000000</td>\n",
       "      <td>1.000000</td>\n",
       "      <td>1.000000</td>\n",
       "      <td>1872.000000</td>\n",
       "      <td>1950.000000</td>\n",
       "      <td>...</td>\n",
       "      <td>0.000000</td>\n",
       "      <td>0.000000</td>\n",
       "      <td>0.000000</td>\n",
       "      <td>0.000000</td>\n",
       "      <td>0.000000</td>\n",
       "      <td>0.000000</td>\n",
       "      <td>0.000000</td>\n",
       "      <td>0.000000</td>\n",
       "      <td>1.000000</td>\n",
       "      <td>2006.000000</td>\n",
       "    </tr>\n",
       "    <tr>\n",
       "      <th>25%</th>\n",
       "      <td>5.313630e+08</td>\n",
       "      <td>1112.000000</td>\n",
       "      <td>129975.000000</td>\n",
       "      <td>20.000000</td>\n",
       "      <td>57.000000</td>\n",
       "      <td>7406.750000</td>\n",
       "      <td>5.000000</td>\n",
       "      <td>5.000000</td>\n",
       "      <td>1953.000000</td>\n",
       "      <td>1965.000000</td>\n",
       "      <td>...</td>\n",
       "      <td>318.000000</td>\n",
       "      <td>0.000000</td>\n",
       "      <td>0.000000</td>\n",
       "      <td>0.000000</td>\n",
       "      <td>0.000000</td>\n",
       "      <td>0.000000</td>\n",
       "      <td>0.000000</td>\n",
       "      <td>0.000000</td>\n",
       "      <td>4.000000</td>\n",
       "      <td>2007.000000</td>\n",
       "    </tr>\n",
       "    <tr>\n",
       "      <th>50%</th>\n",
       "      <td>5.354546e+08</td>\n",
       "      <td>1436.000000</td>\n",
       "      <td>159900.000000</td>\n",
       "      <td>50.000000</td>\n",
       "      <td>68.000000</td>\n",
       "      <td>9391.000000</td>\n",
       "      <td>6.000000</td>\n",
       "      <td>5.000000</td>\n",
       "      <td>1972.000000</td>\n",
       "      <td>1992.000000</td>\n",
       "      <td>...</td>\n",
       "      <td>474.000000</td>\n",
       "      <td>0.000000</td>\n",
       "      <td>25.500000</td>\n",
       "      <td>0.000000</td>\n",
       "      <td>0.000000</td>\n",
       "      <td>0.000000</td>\n",
       "      <td>0.000000</td>\n",
       "      <td>0.000000</td>\n",
       "      <td>6.000000</td>\n",
       "      <td>2008.000000</td>\n",
       "    </tr>\n",
       "    <tr>\n",
       "      <th>75%</th>\n",
       "      <td>9.071811e+08</td>\n",
       "      <td>1733.000000</td>\n",
       "      <td>209625.000000</td>\n",
       "      <td>70.000000</td>\n",
       "      <td>80.000000</td>\n",
       "      <td>11494.000000</td>\n",
       "      <td>7.000000</td>\n",
       "      <td>6.000000</td>\n",
       "      <td>1999.000000</td>\n",
       "      <td>2003.000000</td>\n",
       "      <td>...</td>\n",
       "      <td>576.000000</td>\n",
       "      <td>168.000000</td>\n",
       "      <td>68.000000</td>\n",
       "      <td>0.000000</td>\n",
       "      <td>0.000000</td>\n",
       "      <td>0.000000</td>\n",
       "      <td>0.000000</td>\n",
       "      <td>0.000000</td>\n",
       "      <td>8.000000</td>\n",
       "      <td>2009.000000</td>\n",
       "    </tr>\n",
       "    <tr>\n",
       "      <th>max</th>\n",
       "      <td>1.007100e+09</td>\n",
       "      <td>4676.000000</td>\n",
       "      <td>755000.000000</td>\n",
       "      <td>190.000000</td>\n",
       "      <td>313.000000</td>\n",
       "      <td>215245.000000</td>\n",
       "      <td>10.000000</td>\n",
       "      <td>9.000000</td>\n",
       "      <td>2010.000000</td>\n",
       "      <td>2010.000000</td>\n",
       "      <td>...</td>\n",
       "      <td>1488.000000</td>\n",
       "      <td>1424.000000</td>\n",
       "      <td>742.000000</td>\n",
       "      <td>1012.000000</td>\n",
       "      <td>508.000000</td>\n",
       "      <td>576.000000</td>\n",
       "      <td>800.000000</td>\n",
       "      <td>15500.000000</td>\n",
       "      <td>12.000000</td>\n",
       "      <td>2010.000000</td>\n",
       "    </tr>\n",
       "  </tbody>\n",
       "</table>\n",
       "<p>8 rows × 38 columns</p>\n",
       "</div>"
      ],
      "text/plain": [
       "                PID    GrLivArea      SalePrice   MSSubClass  LotFrontage  \\\n",
       "count  2.580000e+03  2580.000000    2580.000000  2580.000000  2118.000000   \n",
       "mean   7.148300e+08  1486.039922  178059.623256    57.691860    68.516053   \n",
       "std    1.886626e+08   488.650181   75031.089374    42.802105    22.835831   \n",
       "min    5.263011e+08   334.000000   12789.000000    20.000000    21.000000   \n",
       "25%    5.313630e+08  1112.000000  129975.000000    20.000000    57.000000   \n",
       "50%    5.354546e+08  1436.000000  159900.000000    50.000000    68.000000   \n",
       "75%    9.071811e+08  1733.000000  209625.000000    70.000000    80.000000   \n",
       "max    1.007100e+09  4676.000000  755000.000000   190.000000   313.000000   \n",
       "\n",
       "             LotArea  OverallQual  OverallCond    YearBuilt  YearRemodAdd  \\\n",
       "count    2580.000000  2580.000000  2580.000000  2580.000000   2580.000000   \n",
       "mean    10120.153488     6.046124     5.618605  1970.313953   1983.751938   \n",
       "std      8126.937892     1.367590     1.122008    29.719705     20.490242   \n",
       "min      1300.000000     1.000000     1.000000  1872.000000   1950.000000   \n",
       "25%      7406.750000     5.000000     5.000000  1953.000000   1965.000000   \n",
       "50%      9391.000000     6.000000     5.000000  1972.000000   1992.000000   \n",
       "75%     11494.000000     7.000000     6.000000  1999.000000   2003.000000   \n",
       "max    215245.000000    10.000000     9.000000  2010.000000   2010.000000   \n",
       "\n",
       "       ...   GarageArea   WoodDeckSF  OpenPorchSF  EnclosedPorch    3SsnPorch  \\\n",
       "count  ...  2579.000000  2580.000000  2580.000000    2580.000000  2580.000000   \n",
       "mean   ...   466.842575    95.919767    46.085271      23.214341     2.511240   \n",
       "std    ...   207.476842   129.052016    66.060664      64.107825    25.293935   \n",
       "min    ...     0.000000     0.000000     0.000000       0.000000     0.000000   \n",
       "25%    ...   318.000000     0.000000     0.000000       0.000000     0.000000   \n",
       "50%    ...   474.000000     0.000000    25.500000       0.000000     0.000000   \n",
       "75%    ...   576.000000   168.000000    68.000000       0.000000     0.000000   \n",
       "max    ...  1488.000000  1424.000000   742.000000    1012.000000   508.000000   \n",
       "\n",
       "       ScreenPorch     PoolArea       MiscVal       MoSold       YrSold  \n",
       "count  2580.000000  2580.000000   2580.000000  2580.000000  2580.000000  \n",
       "mean     16.200388     1.662016     48.731395     6.150775  2007.838372  \n",
       "std      56.824783    30.339396    498.725058     2.670647     1.312333  \n",
       "min       0.000000     0.000000      0.000000     1.000000  2006.000000  \n",
       "25%       0.000000     0.000000      0.000000     4.000000  2007.000000  \n",
       "50%       0.000000     0.000000      0.000000     6.000000  2008.000000  \n",
       "75%       0.000000     0.000000      0.000000     8.000000  2009.000000  \n",
       "max     576.000000   800.000000  15500.000000    12.000000  2010.000000  \n",
       "\n",
       "[8 rows x 38 columns]"
      ]
     },
     "execution_count": 9,
     "metadata": {},
     "output_type": "execute_result"
    }
   ],
   "source": [
    "housing.describe()"
   ]
  },
  {
   "cell_type": "markdown",
   "metadata": {},
   "source": [
    "## The Data"
   ]
  },
  {
   "cell_type": "markdown",
   "metadata": {},
   "source": [
    "There are two data sets included in the data folder: `Ames_Housing_Price_Data.csv` and `Ames_Real_Estate_Data.csv`.\n",
    "\n",
    "The `Ames_Housing_Price_Data.csv` set contains $81$ data columns, including the key feature **SalePrice** which will be used as the target of the predictive/descriptive modeling. **PID** refers to the land parcel ID, which can merged on the *MapRefNo* column of the **Ames Accessor Data** (`Ames_Real_Estate_Data.csv`) to find the property address. Using a free service, such as **geopy**, we can find the long-lat coordinates of the houses.\n",
    "\n",
    "The columns of the data are mostly attributes associated with the land and the houses. There are size related attributes, quality and condition attributes, house attachment attributes, etc.\n",
    "\n",
    "To establish a foundation for your team's data analytics, we offer some insights on the house sizes vs. prices."
   ]
  },
  {
   "cell_type": "markdown",
   "metadata": {},
   "source": [
    "### How Does Price/SqrFt Play a Role in Housing Data Analytics?"
   ]
  },
  {
   "cell_type": "code",
   "execution_count": 4,
   "metadata": {},
   "outputs": [],
   "source": [
    "from sklearn.feature_selection import f_regression\n",
    "from sklearn.linear_model import LinearRegression"
   ]
  },
  {
   "cell_type": "code",
   "execution_count": 20,
   "metadata": {},
   "outputs": [
    {
     "data": {
      "text/html": [
       "<div>\n",
       "<style scoped>\n",
       "    .dataframe tbody tr th:only-of-type {\n",
       "        vertical-align: middle;\n",
       "    }\n",
       "\n",
       "    .dataframe tbody tr th {\n",
       "        vertical-align: top;\n",
       "    }\n",
       "\n",
       "    .dataframe thead th {\n",
       "        text-align: right;\n",
       "    }\n",
       "</style>\n",
       "<table border=\"1\" class=\"dataframe\">\n",
       "  <thead>\n",
       "    <tr style=\"text-align: right;\">\n",
       "      <th></th>\n",
       "      <th>GrLivArea</th>\n",
       "      <th>LotArea</th>\n",
       "      <th>MasVnrArea</th>\n",
       "      <th>BsmtUnfSF</th>\n",
       "      <th>TotalBsmtSF</th>\n",
       "      <th>1stFlrSF</th>\n",
       "      <th>2ndFlrSF</th>\n",
       "      <th>LowQualFinSF</th>\n",
       "      <th>GarageArea</th>\n",
       "      <th>WoodDeckSF</th>\n",
       "      <th>OpenPorchSF</th>\n",
       "      <th>PoolArea</th>\n",
       "    </tr>\n",
       "  </thead>\n",
       "  <tbody>\n",
       "    <tr>\n",
       "      <th>1</th>\n",
       "      <td>856</td>\n",
       "      <td>7890</td>\n",
       "      <td>0.0</td>\n",
       "      <td>618.0</td>\n",
       "      <td>856.0</td>\n",
       "      <td>856</td>\n",
       "      <td>0</td>\n",
       "      <td>0</td>\n",
       "      <td>399.0</td>\n",
       "      <td>0</td>\n",
       "      <td>0</td>\n",
       "      <td>0</td>\n",
       "    </tr>\n",
       "    <tr>\n",
       "      <th>2</th>\n",
       "      <td>1049</td>\n",
       "      <td>4235</td>\n",
       "      <td>149.0</td>\n",
       "      <td>104.0</td>\n",
       "      <td>1049.0</td>\n",
       "      <td>1049</td>\n",
       "      <td>0</td>\n",
       "      <td>0</td>\n",
       "      <td>266.0</td>\n",
       "      <td>0</td>\n",
       "      <td>105</td>\n",
       "      <td>0</td>\n",
       "    </tr>\n",
       "    <tr>\n",
       "      <th>3</th>\n",
       "      <td>1001</td>\n",
       "      <td>6060</td>\n",
       "      <td>0.0</td>\n",
       "      <td>100.0</td>\n",
       "      <td>837.0</td>\n",
       "      <td>1001</td>\n",
       "      <td>0</td>\n",
       "      <td>0</td>\n",
       "      <td>216.0</td>\n",
       "      <td>154</td>\n",
       "      <td>0</td>\n",
       "      <td>0</td>\n",
       "    </tr>\n",
       "    <tr>\n",
       "      <th>4</th>\n",
       "      <td>1039</td>\n",
       "      <td>8146</td>\n",
       "      <td>0.0</td>\n",
       "      <td>405.0</td>\n",
       "      <td>405.0</td>\n",
       "      <td>717</td>\n",
       "      <td>322</td>\n",
       "      <td>0</td>\n",
       "      <td>281.0</td>\n",
       "      <td>0</td>\n",
       "      <td>0</td>\n",
       "      <td>0</td>\n",
       "    </tr>\n",
       "    <tr>\n",
       "      <th>5</th>\n",
       "      <td>1665</td>\n",
       "      <td>8400</td>\n",
       "      <td>0.0</td>\n",
       "      <td>167.0</td>\n",
       "      <td>810.0</td>\n",
       "      <td>810</td>\n",
       "      <td>855</td>\n",
       "      <td>0</td>\n",
       "      <td>528.0</td>\n",
       "      <td>0</td>\n",
       "      <td>45</td>\n",
       "      <td>0</td>\n",
       "    </tr>\n",
       "  </tbody>\n",
       "</table>\n",
       "</div>"
      ],
      "text/plain": [
       "   GrLivArea  LotArea  MasVnrArea  BsmtUnfSF  TotalBsmtSF  1stFlrSF  2ndFlrSF  \\\n",
       "1        856     7890         0.0      618.0        856.0       856         0   \n",
       "2       1049     4235       149.0      104.0       1049.0      1049         0   \n",
       "3       1001     6060         0.0      100.0        837.0      1001         0   \n",
       "4       1039     8146         0.0      405.0        405.0       717       322   \n",
       "5       1665     8400         0.0      167.0        810.0       810       855   \n",
       "\n",
       "   LowQualFinSF  GarageArea  WoodDeckSF  OpenPorchSF  PoolArea  \n",
       "1             0       399.0           0            0         0  \n",
       "2             0       266.0           0          105         0  \n",
       "3             0       216.0         154            0         0  \n",
       "4             0       281.0           0            0         0  \n",
       "5             0       528.0           0           45         0  "
      ]
     },
     "execution_count": 20,
     "metadata": {},
     "output_type": "execute_result"
    }
   ],
   "source": [
    "price        = housing['SalePrice']\n",
    "size_related = housing.filter(regex='SF$|Area$')\n",
    "size_related.shape\n",
    "size_related.head()"
   ]
  },
  {
   "cell_type": "code",
   "execution_count": 21,
   "metadata": {},
   "outputs": [
    {
     "data": {
      "text/plain": [
       "GrLivArea        0\n",
       "LotArea          0\n",
       "MasVnrArea      14\n",
       "BsmtUnfSF        1\n",
       "TotalBsmtSF      1\n",
       "1stFlrSF         0\n",
       "2ndFlrSF         0\n",
       "LowQualFinSF     0\n",
       "GarageArea       1\n",
       "WoodDeckSF       0\n",
       "OpenPorchSF      0\n",
       "PoolArea         0\n",
       "dtype: int64"
      ]
     },
     "execution_count": 21,
     "metadata": {},
     "output_type": "execute_result"
    }
   ],
   "source": [
    "size_related.isnull().sum(axis=0)"
   ]
  },
  {
   "cell_type": "markdown",
   "metadata": {},
   "source": [
    "### Performing Unary Feature Selection"
   ]
  },
  {
   "cell_type": "code",
   "execution_count": 22,
   "metadata": {},
   "outputs": [
    {
     "data": {
      "text/plain": [
       "GrLivArea        0.000000e+00\n",
       "TotalBsmtSF     7.306053e-313\n",
       "1stFlrSF        1.616946e-300\n",
       "GarageArea      6.423062e-291\n",
       "MasVnrArea      4.164095e-162\n",
       "WoodDeckSF       6.015295e-68\n",
       "OpenPorchSF      2.930048e-57\n",
       "LotArea          8.303020e-46\n",
       "2ndFlrSF         4.007008e-42\n",
       "BsmtUnfSF        8.441921e-18\n",
       "PoolArea         1.172748e-01\n",
       "LowQualFinSF     1.173873e-01\n",
       "dtype: float64"
      ]
     },
     "execution_count": 22,
     "metadata": {},
     "output_type": "execute_result"
    }
   ],
   "source": [
    "size_related = size_related.fillna(0.0)  # We fill the very minor missing values by 0.0\n",
    "F_values, p_values = f_regression(size_related, housing['SalePrice'])\n",
    "\n",
    "pd.Series(p_values, index=size_related.columns).sort_values()"
   ]
  },
  {
   "cell_type": "code",
   "execution_count": 23,
   "metadata": {
    "scrolled": false
   },
   "outputs": [
    {
     "data": {
      "text/plain": [
       "<AxesSubplot:>"
      ]
     },
     "execution_count": 23,
     "metadata": {},
     "output_type": "execute_result"
    },
    {
     "data": {
      "image/png": "[encoded data removed]",
      "text/plain": [
       "<Figure size 432x288 with 2 Axes>"
      ]
     },
     "metadata": {
      "needs_background": "light"
     },
     "output_type": "display_data"
    }
   ],
   "source": [
    "import seaborn as sns\n",
    "corr = pd.concat([size_related, housing['SalePrice']], axis=1).corr()\n",
    "sns.heatmap(corr)"
   ]
  },
  {
   "cell_type": "markdown",
   "metadata": {},
   "source": [
    "### GrLivArea \n",
    "\n",
    "Most of the size related columns have significant p-values on their correlations with **SalePrice**. The **Gross Living Area** (GrLivArea) has a vanishing p-value, which indicates a very strong statistical relationship. We will focus our research on **GrLivArea**."
   ]
  },
  {
   "cell_type": "code",
   "execution_count": 24,
   "metadata": {},
   "outputs": [
    {
     "data": {
      "text/plain": [
       "<AxesSubplot:xlabel='GrLivArea', ylabel='SalePrice'>"
      ]
     },
     "execution_count": 24,
     "metadata": {},
     "output_type": "execute_result"
    },
    {
     "data": {
      "image/png": "[encoded data removed]",
      "text/plain": [
       "<Figure size 432x288 with 1 Axes>"
      ]
     },
     "metadata": {
      "needs_background": "light"
     },
     "output_type": "display_data"
    }
   ],
   "source": [
    "housing[['GrLivArea', 'SalePrice']].plot(kind='scatter', x='GrLivArea', y='SalePrice')"
   ]
  },
  {
   "cell_type": "markdown",
   "metadata": {},
   "source": [
    "### A Large Variation in Price/SqrFt\n",
    "\n",
    "The scatterplot above displays a fan-like structure which widens for larger houses. Considering straight lines through the origin, the slopes of these lines indicate the price per square-foot.\n",
    "\n",
    "The above plot suggests a wide range of $price/foot^2$ among the houses in Ames. If we fit a naive simple linear model, the constant variance assumption of simple linear regression would be seriously violated.\n",
    "\n",
    "The question is: how do we model this effectively? Luckily, pandas scatterplot has **logx** and **logy** arguments, which give us an important hint."
   ]
  },
  {
   "cell_type": "code",
   "execution_count": 10,
   "metadata": {
    "scrolled": true
   },
   "outputs": [
    {
     "data": {
      "text/plain": [
       "<matplotlib.axes._subplots.AxesSubplot at 0x1232244e0>"
      ]
     },
     "execution_count": 10,
     "metadata": {},
     "output_type": "execute_result"
    },
    {
     "data": {
      "image/png": "[encoded data removed]",
      "text/plain": [
       "<Figure size 432x288 with 1 Axes>"
      ]
     },
     "metadata": {},
     "output_type": "display_data"
    }
   ],
   "source": [
    "housing[['GrLivArea', 'SalePrice']].plot(kind='scatter', x='GrLivArea', y='SalePrice', logx=True, logy=True)"
   ]
  },
  {
   "cell_type": "markdown",
   "metadata": {},
   "source": [
    "After taking the log-log scatterplot, the fan-like structure disappears and the scatterplot can be approximated by a parallel family of line segments."
   ]
  },
  {
   "cell_type": "code",
   "execution_count": 11,
   "metadata": {},
   "outputs": [
    {
     "data": {
      "text/plain": [
       "0.5183732056699006"
      ]
     },
     "execution_count": 11,
     "metadata": {},
     "output_type": "execute_result"
    }
   ],
   "source": [
    "lm = LinearRegression()\n",
    "grLivArea = size_related[['GrLivArea']]\n",
    "lm.fit(grLivArea, price)\n",
    "lm.score(grLivArea, price)"
   ]
  },
  {
   "cell_type": "code",
   "execution_count": 12,
   "metadata": {},
   "outputs": [
    {
     "data": {
      "text/plain": [
       "0.5400973491971155"
      ]
     },
     "execution_count": 12,
     "metadata": {},
     "output_type": "execute_result"
    }
   ],
   "source": [
    "lm.fit(np.log10(grLivArea), np.log10(price))\n",
    "lm.score(np.log10(grLivArea), np.log10(price))"
   ]
  },
  {
   "cell_type": "markdown",
   "metadata": {},
   "source": [
    "### The Meaning of the Log-Log Linear Model\n",
    "\n",
    "From a model goodness-of-fit standpoint, the log-log linear model offers a slightly better description of the data. We would like to study the meaning of the model.\n",
    "\n",
    "What are the interpretations of the model intercept and slope? Unlike the original linear model which depicts that the sale price is proportional to the house gross living area, the log-log linear model offers totally different insights."
   ]
  },
  {
   "cell_type": "code",
   "execution_count": 19,
   "metadata": {},
   "outputs": [
    {
     "ename": "NameError",
     "evalue": "name 'lm' is not defined",
     "output_type": "error",
     "traceback": [
      "\u001b[1;31m---------------------------------------------------------------------------\u001b[0m",
      "\u001b[1;31mNameError\u001b[0m                                 Traceback (most recent call last)",
      "\u001b[1;32m<ipython-input-19-167b790e912a>\u001b[0m in \u001b[0;36m<module>\u001b[1;34m\u001b[0m\n\u001b[1;32m----> 1\u001b[1;33m \u001b[0mlm\u001b[0m\u001b[1;33m.\u001b[0m\u001b[0mintercept_\u001b[0m\u001b[1;33m,\u001b[0m \u001b[0mlm\u001b[0m\u001b[1;33m.\u001b[0m\u001b[0mcoef_\u001b[0m\u001b[1;33m\u001b[0m\u001b[1;33m\u001b[0m\u001b[0m\n\u001b[0m",
      "\u001b[1;31mNameError\u001b[0m: name 'lm' is not defined"
     ]
    }
   ],
   "source": [
    "lm.intercept_, lm.coef_"
   ]
  },
  {
   "cell_type": "markdown",
   "metadata": {},
   "source": [
    "Schematically, the above log-log linear regression can be expressed as\n",
    "\n",
    "$$log(price) = \\beta_0 +\\beta_1\\cdot log(area) + \\epsilon$$\n",
    "\n",
    "or equivalently,\n",
    "\n",
    "$$price = 10^{\\beta_0} \\cdot area^{\\beta_1}\\cdot 10^{\\epsilon}$$\n",
    "\n",
    "which we can then use to plug in our values\n",
    "\n",
    "$${price\\over area} = 10^{2.44}\\cdot area^{-0.12}\\cdot 10^{\\epsilon}$$\n",
    "\n",
    "This suggests an approximate formula for $price/ft^2$, which has been the yard-stick for all the housing transactions. Note that the negative exponent $-0.12$ above the area variable is $\\beta_1-1$. The above formula suggests that $price/ft^2$ would drop for larger houses. In your data analytics, you should **investigate a plausible reason** for this price drop."
   ]
  },
  {
   "cell_type": "code",
   "execution_count": 14,
   "metadata": {
    "collapsed": true
   },
   "outputs": [],
   "source": [
    "Nbr_quantile = housing.groupby('Neighborhood')['GrLivArea'].quantile(0.8)\n",
    "joint_Nbr_quantile = pd.merge(housing[['Neighborhood']], Nbr_quantile, how='left', left_on='Neighborhood', right_index=True)"
   ]
  },
  {
   "cell_type": "code",
   "execution_count": 15,
   "metadata": {},
   "outputs": [
    {
     "data": {
      "text/plain": [
       "(2.0850091977242267, array([0.99983166]))"
      ]
     },
     "execution_count": 15,
     "metadata": {},
     "output_type": "execute_result"
    }
   ],
   "source": [
    "smaller_home = grLivArea.GrLivArea < joint_Nbr_quantile.GrLivArea\n",
    "lm.fit(np.log10(grLivArea)[smaller_home], np.log10(price)[smaller_home])\n",
    "lm.intercept_, lm.coef_"
   ]
  },
  {
   "cell_type": "code",
   "execution_count": 16,
   "metadata": {},
   "outputs": [
    {
     "data": {
      "text/plain": [
       "(1.4706789908596356, array([1.16147633]))"
      ]
     },
     "execution_count": 16,
     "metadata": {},
     "output_type": "execute_result"
    }
   ],
   "source": [
    "lm.fit(np.log10(grLivArea)[~smaller_home],np.log10(price)[~smaller_home])\n",
    "lm.intercept_, lm.coef_"
   ]
  },
  {
   "cell_type": "markdown",
   "metadata": {},
   "source": [
    "### The Price Pressure on Larger Homes\n",
    "The homes with living areas below the $80\\%$ quantile **on average** follow a very simple relationship ${price\\over area} \\sim \\$120/ft^2$. \n",
    "\n",
    "Larger homes (top $20\\%$) follow a different relationship $${price\\over area} \\sim 29.5\\cdot area^{0.16}$$\n",
    "which is about $\\$105$ for a $2500$ square-foot home.\n",
    "\n",
    "This discount, or price pressure on larger homes, is why $\\beta_1\\sim 0.88$ if we aggregate all the homes together. In your data analysis, you should provide some clues about the origin of this price discount."
   ]
  },
  {
   "cell_type": "markdown",
   "metadata": {},
   "source": [
    "### A Reflection on the Various Choices in Modeling and Model Interpretation\n",
    "\n",
    "Machine learning models help us to formulate **Ames** house prices schematically as \n",
    "$$price = F(feature1, feature2, \\cdots,\\epsilon)$$\n",
    "where $\\epsilon$ represents the residuals. As a modeler, you shape your model by deciding the features involved and the \n",
    "form of the function $F$. Is the relationship in the data linear or highly non-linear?\n",
    "\n",
    "Naively, we may try to model the house price in terms of $price \\sim \\beta_1 area +\\beta_0+\\epsilon$.\n",
    "Within this context, $\\beta_1$ has the meaning of **price/square-foot** and $\\beta_0$ is the\n",
    "residual value (land, pavement, deck, pool, etc. of the house when the building disappears).\n",
    "\n",
    "The expanding fan-like structure of the scatter plot implies very large residuals for larger homes. This makes the model a good approximation of the reality **only** when the house is very small.\n",
    "\n",
    "On the other hand, we could fit either:\n",
    "- $log(price)\\sim \\beta_1\\cdot area + \\beta_0 + \\epsilon$\n",
    "- $log(price)\\sim \\beta_1 \\cdot log(area) + \\beta_0 +\\epsilon$."
   ]
  },
  {
   "cell_type": "markdown",
   "metadata": {},
   "source": [
    "### What Are the Major Implications of These Model Choices?\n",
    "\n",
    "The former suggests $price \\sim e^{\\beta_1\\cdot area}(e^{\\epsilon+\\beta_0})$, which treats\n",
    "the **area** (GrLivArea) attribute as a dispensible attribute of a house. Even if $area=0$,\n",
    "the home price fluctuates around a fixed residual value. The latter suggests $price \\sim area^{\\beta_1} e^{\\beta_0+\\epsilon}$, which implies that the house value vanishes if the house has NO gross living area at all.\n",
    "\n",
    "\n",
    "This suggests a general principle on model interpretation: \n",
    "- If we run a simple linear regression of a feature (after suitable engineering),\n",
    "$log(price)\\sim \\beta_{feature}feature + \\beta_0+\\epsilon$, this would imply\n",
    "$price\\sim e^{\\beta_{feature}\\cdot feature}\\cdot e^{\\beta_0+\\epsilon}$, which treats the feature as an optional attribute of the house.\n",
    "- If we model $log(price)\\sim \\beta_{feature}\\cdot log(feature) +\\beta_0+\\epsilon$, \n",
    "this implies $price\\sim {(feature)}^{\\beta_{feature}} \\cdot e^{\\beta_0+\\epsilon}$. Assuming\n",
    "$\\beta_{feature}>0$, this would imply a zero expected house value if $feature=0$. This implies that the feature is a very crucial attribute of a house.\n",
    "- A multiple linear regression model $price\\sim \\sum \\beta_iX_i+\\epsilon$ implies that the\n",
    "expected house price is the sum of the individual components.\n",
    "- A log-linear model $log(price)\\sim \\sum_i \\beta_iX_i+\\epsilon$ implies that the expected house price is a product of independent factors $e^{\\beta_i \\cdot X_i}$.\n",
    "\n",
    "In modeling **Ames** house prices using linear regression, your model design should be built upon your solid rationale for the dyanamics of the local housing market. This observation suggests that for the sake of simplicity of interpretation, it is better to group multiple highly correlated features together instead of treating them as separate features. This is in perfect agreement with the need to drop the feature dimension to reduce multi-collinearity (in the **Ames** data set, we have over 80 features)."
   ]
  },
  {
   "cell_type": "markdown",
   "metadata": {},
   "source": [
    "### A Remark on Descriptive vs Predictive ML Modeling\n",
    "\n",
    "- A **descriptive machine learning model** aims to describe the data (in our context, the **Ames** housing market), to generate (business) insights. Descriptive modeling is used by data analysts and data scientists.\n",
    "- A **predictive machine learning model** aims to forecast the house prices based on the house features. A strong model is one which offers the best model prediction performance. Predictive modeling is used by data scientists and data engineers.\n",
    "- Depending on your career track objectives, you should decide as a team whether to build a model for description (insights), for prediction accuracies, or work on both."
   ]
  },
  {
   "cell_type": "markdown",
   "metadata": {
    "collapsed": true
   },
   "source": [
    "### Data Analysis Ideas Beyond Basic EDA\n",
    "\n",
    "**Central Question**: The simple linear model based on **GrLivArea** points to $price/ft^2$ as an important derived target. On the other hand, the fan-like price/square-foot scatterplot implies that different houses have a wide range of $price/ft^2$. We would like to study the major driving factors for these **Ames** homes to have significantly different $price/ft^2$.\n",
    "\n",
    "No matter which local housing market we inspect, the house prices are the on-going consensus among the home-buyers and \n",
    "the home-sellers depending on the supply and demand of the current house market. The house market supply and demand\n",
    "is influnced by the local labor market/economical condition, job creation, population density, interest rate, price momentum, etc. Among all the area related features (e.g. 1st floor area, 2nd floor area, basement finished area, etc.), do\n",
    "the local home buyers show some preference towards some features over the others? In other words, are the home buyers\n",
    "willing to spend an equal amount for one square-foot of 1st floor living space, 2nd floor living space,\n",
    "deck space, finished basement space, etc.?\n",
    "\n",
    "Frame your study using **multiple linear regression** and interpret your findings in terms of\n",
    "the price discounts. Consider the following points:\n",
    "- Which of the house styles, ranch or colonial, is more popular in terms of the house prices?\n",
    "- What is the popularity in terms of the housing inventory (based on the available data)?\n",
    "- Does the house price sensitivity on **2ndFlrSF** depend on the house style (1st story excluded)?\n",
    "- How is **GrLivArea** engineered from the other area-related feature? If you would design a gross area feature (to replace **GrLivArea**) for the purpose of descriptive modeling, what would you do? What are the pros and cons when aggregating several features together?\n",
    "- Do home buyers value upstairs bathrooms and basement bathrooms equally? Do they price 'half-bath' as one half of a full bath? Based on your finding, how would you design an aggregate bathroom feature? \n",
    "- How much premium were the **Ames** home buyers (back in $2006-2010$) willing to pay for a swimming-pool, an open deck, or an enclosed porch? Did the home buyers value the optional additions based on their sizes?\n",
    "- How important is a garage in adding value to the houses? How about the differences between an attached vs. detached garage?\n",
    "- Are there feature combinations which increase the house values? What are the feature combinations which drive the house values down (making the house less desriable)? \n",
    "- **House Quality/Condition**: The **Ames** dataset grades each house by the appearance, kitchen, basement, garage, \n",
    "    heating, fireplace, .... and finally an overall quality/condition. \n",
    "     - How are the overall quality/condition features engineered from the individual quality/condition metrics?\n",
    "     - How do these metrics' importances affect local house prices?\n",
    "     - To what extent does the **curb appeal** affect the house prices?\n",
    "- Does home remodeling add value to the houses? For example, how do the old houses which were remodeled in the 1990s compare to the houses which were built in the 1990s?"
   ]
  },
  {
   "cell_type": "markdown",
   "metadata": {
    "collapsed": true
   },
   "source": [
    "### Neighborhood Analysis\n",
    "\n",
    "Many home buyers purchase their homes based on their neighborhood preferences and the location. Study the statistics on all the **Ames** neighborhoods, including prices, price/area, lot area, gross living area, built year, the ratios of one-story homes, the lot utility rate (how much of the lot is utilized to build the house), various quality/condition metrics, house styles, etc. Please depict a story of the urban development of **Ames** and relate it to the **Ames** house prices.\n",
    "\n",
    "To get familiar with the various **Ames** neighborhoods and the ratings of the public schools, visit the map tab of [realtor.com](https://www.realtor.com/realestateandhomes-search/North-Ames_Ames_IA?view=map). While there are many housing info web sites, **realtor.com** uses a neighborhood system which is more compatible with the one used in the dataset. Getting the long-lat coordinates of the $2500$ houses also helps to pin-point the relative geographic locations of the neighborhoods.\n",
    "\n",
    "Consider the following questions:\n",
    "- Does the price sensitivity on quality depend on the neighborhood?  \n",
    "- Given that **Ames** has about $30\\%$ poverty rate, and that **ISU** is the largest employer of the city, identify the affluent and poor neighborhoods based on your data analysis and the external information. Identify the neighborhoods which offer a convenient job commute.\n",
    "- What types of dwelling are popular in **Ames**? How about their popularities in the different neighborhoods?\n",
    "- **Time Series Analysis**:  \n",
    "    - During $2006-2010$, does **Ames** housing market show any pricing trend? Is your observation consistent with the fact that the great recession occured in $2008-2009$.\n",
    "    - How would you describe the price tend of different types of dwellings in terms of time series (hint: pivot/pivot_table)?\n",
    "    - In the U.S., there are more house-shopping activities during the warmer seasons (spring/summer). What is the seasonality of **Ames** house transactions?"
   ]
  },
  {
   "cell_type": "markdown",
   "metadata": {
    "collapsed": true
   },
   "source": [
    "### Descriptive Modeling Ideas\n",
    "\n",
    "The goal of a descriptive housing price model is to build a pricing model to describe the pricing rationale (the consensus of the home buyers/sellers), to describe the key driving factors that affect house prices, and to understand how they affect the local home prices. While prediction accuracy is welcome, the main objective is to gain insights on the local housing market to improve business. Apparently, the demographics inform what types of housing configurations are more popular. A house price model leads to a better understanding on the dynamics of the **Ames** housing market.\n",
    "\n",
    "- **Feature Interaction**: In the framework of linear models, the nonlinear feature interactions\n",
    "    need to be engineered by the data analyst/scientist manually. On the other hand, nonlinear\n",
    "    models can pick up feature-feature interactions internally.\n",
    "    - R offers a convenient way for modeling the feature interaction in the context of linear models, visit this [link](https://www.r-bloggers.com/r-tutorial-series-regression-with-interaction-variables/) for more information.\n",
    "    - Here are two more online resources: [interplot](https://cran.r-project.org/web/packages/interplot/vignettes/interplot-vignette.html), [Interaction Effects in Regression](https://blog.clairvoyantsoft.com/dealing-with-interaction-effects-in-regression-db647ed38691).\n",
    "    - In your (linear) pricing model, are there any feature-pair interactions? Does adding the feature-interaction term improve your model's descriptive power? Note that some of your data analysis will offer you hints on possible feature-feature interactions (categorical-quantitative interactions).\n",
    "    - If you build a non-linear pricing model, the **partial_dependence_plot** in sklearn (illustrated in the PML Gradient Boosting lecture code) or the **ICE plot** of the Python [**PDPBox** package](https://towardsdatascience.com/introducing-pdpbox-2aa820afd312) will help you to identify the candidate feature-feature interactions.\n",
    "\n",
    "\n",
    "- **Neighborhood Comps**: It is a very common practice for the home buyers to estimate the worth of the target home using the so-called 'neighborhood comp(atible)s.'\n",
    "    - Using the nonlinear **KNN** (or its variant **RadiusNN**), rbf-kernel **SVR** or tree-based models, build a baseline neighborhood comp model based on the houses' long-lat coordinates (and maybe with the house-types). Apparently this naive nonlinear model does not offer the full story behind house pricing. Your goal is to build a secondary pricing model (using the house attributes) modeling the residuals of the neighborhood comp. By building an enhanced neighborhood comp model, you should be able to gauge its relevance in house pricing, as well as identify the complementary features which help improve the model.\n",
    "    - Does your enhanced comps model offer valuable insights on the home buyers' purchase rationale?\n",
    "\n",
    "\n",
    "- **Transaction Time**: The **YrSold** and **MoSold** are the two features related to the transaction time.\n",
    "    - How would you build a model involving transaction time? What insights do you gain in this process?  \n",
    "\n",
    "\n",
    "- Model selection on linear models can be done by using adjusted $R^2$, **AIC/BIC** or by cross validation.\n",
    "- In using **GridSearchCV** to tune the hyperparameters of your models, be sure to value the internal consistency of your models over the test-set predictive accuracies.\n",
    "- It is good to self-reflect upon the pros and cons of the approaches you adapt. "
   ]
  },
  {
   "cell_type": "markdown",
   "metadata": {
    "collapsed": true
   },
   "source": [
    "### Predictive Modeling Ideas\n",
    "\n",
    "The goal of building a predictive model is to predict the house prices accurately (just like Zillow home price estimates), rather than to understand the housing market dynamics. So the so-called **black box** models can be considered if they offer better accuracies.\n",
    "\n",
    "- Because the number of features is large, multi-collinearity plagues multiple linear regression.\n",
    "- Ridge, Lasso, and linear kernel SVR are popular choices to start your research.\n",
    "- Use Lasso for feature selection if it is warranted.\n",
    "- On the other hand, non-linear models, particularly tree-based models, are popular choices.\n",
    "- **Ensembles**: If you train multiple models, you can put them into an ensemble to improve accuracies.\n",
    "- If you borrow your insights in data analysis to generate new features, be sure to prevent **data-leakage**, i.e. you avoid using the cv test set house price values in your feature engineering analysis."
   ]
  },
  {
   "cell_type": "markdown",
   "metadata": {
    "collapsed": true
   },
   "source": [
    "### Practical Applications For Your Models\n",
    "\n",
    "- **Student Apartment Rental**: A company would like to purchase multiple rental houses in **Ames** to rent to **ISU** students. Based on your data analysis and your models, please give advice to your client regarding the target neighborboods, the house types, and the profit margin estimations. \n",
    "    - The **Ames** property tax is about $1.5\\%$ of the market values. See [here](https://www.cityofames.org/government/departments-divisions-a-h/city-assessor/estimate-your-property-tax) for details.\n",
    "    - The estimated annual maintenance cost is about $2\\%$ of your property value.\n",
    "\n",
    "\n",
    "- **House Hunting** for a new **ISU Professor**: A new professor at **ISU** plans to buy his home for his family of four (him, his spouse, and two teenagers). He will tolerate a max of half an hour commute to work daily. You do not need to consider his spouse's commute time. Please advise him regarding the price ranges and the target neighborhoods for better schools.\n",
    "\n",
    "\n",
    "- **Business Intelligence** for the **Home Builder/Flipper**: A new home builder/old house remodeler would like to get into building new homes or flipping older houses for profit. Based on your modeling result, provide insights for your client. This is a more difficult question because it is hard to estimate building costs."
   ]
  },
  {
   "cell_type": "markdown",
   "metadata": {},
   "source": [
    "### Downloading the Lat-Long Coordinates with geopy\n",
    "- pip install **geopy**\n",
    "- use rate_limiter to slow down the download speed."
   ]
  },
  {
   "cell_type": "code",
   "execution_count": 17,
   "metadata": {},
   "outputs": [
    {
     "data": {
      "text/plain": [
       "Location(Champ de Mars, Place Edwige Feuillère, Quartier du Gros-Caillou, Paris, Île-de-France, France métropolitaine, 75007, France, (48.85614465, 2.297820393322227, 0.0))"
      ]
     },
     "execution_count": 17,
     "metadata": {},
     "output_type": "execute_result"
    }
   ],
   "source": [
    "import geopy\n",
    "from geopy import Nominatim\n",
    "from geopy.extra.rate_limiter import RateLimiter\n",
    "\n",
    "locator = Nominatim(user_agent=\"myGeocoder\")\n",
    "location = locator.geocode(\"Champ de Mars, Paris, France\")\n",
    "location"
   ]
  },
  {
   "cell_type": "markdown",
   "metadata": {},
   "source": [
    "- Wrap the raw geocoder by a rate-limiter, to prevent it from being blocked."
   ]
  },
  {
   "cell_type": "code",
   "execution_count": 18,
   "metadata": {
    "collapsed": true
   },
   "outputs": [],
   "source": [
    "geocode = RateLimiter(locator.geocode, min_delay_seconds=1.5)"
   ]
  },
  {
   "cell_type": "markdown",
   "metadata": {},
   "source": [
    "- Given a list (or series) of street addresses (or nan value) in Ames, \n",
    "\n",
    "`locations = [geocode(addr+', Ames, USA') if type(addr)==str else None for addr in stree_addresses]`"
   ]
  },
  {
   "cell_type": "markdown",
   "metadata": {
    "collapsed": true
   },
   "source": [
    "### How to Compute the Distances between Two Long-Lat Coordinates?\n",
    "\n",
    "- There are packages (like **geopy**) which allow you to compute the spherical distances. \n",
    "- For the purpose of machine learning, it is desirable to let the $L^2$ Euclidean distance (used by the algorithm) approximate the spherical distance. This can be very handy in neighborhood comps modeling.\n",
    "- Let $(\\theta_1, \\phi_1)$ and $(\\theta_2, \\phi_2)$ be two points on the sphere (the earth). When these two points are sufficiently close to each other, $\\theta_1\\cong \\theta_2$ and $\\phi_1\\cong\\phi_2$. For simplicity we assume that the sphere has a radius $1$ (The earth radius is about $3950$ miles). The spherical distance $\\Delta s$ can be approximated by the following formula:\n",
    "\n",
    "$$\\Delta^2 s = cos^2(\\phi)\\Delta^2\\theta + \\Delta^2\\phi$$\n",
    "\n",
    "where $\\phi\\cong \\phi_1\\cong\\phi_2\\cong 42^{\\circ}$ at **Ames**.\n",
    "\n",
    "This suggests that if we map the long-lat coordinates $(\\theta_i, \\phi_i), 1\\leq i\\leq 2$ to $(cos(\\phi)\\theta_1, \\phi_1)$, $(cos(\\phi)\\theta_2, \\phi_2)$,\n",
    "the 2D Euclidean distance is an approximation of the spherical distance."
   ]
  }
 ],
 "metadata": {
  "kernelspec": {
   "display_name": "Python 3",
   "language": "python",
   "name": "python3"
  },
  "language_info": {
   "codemirror_mode": {
    "name": "ipython",
    "version": 3
   },
   "file_extension": ".py",
   "mimetype": "text/x-python",
   "name": "python",
   "nbconvert_exporter": "python",
   "pygments_lexer": "ipython3",
   "version": "3.8.8"
  }
 },
 "nbformat": 4,
 "nbformat_minor": 2
}
