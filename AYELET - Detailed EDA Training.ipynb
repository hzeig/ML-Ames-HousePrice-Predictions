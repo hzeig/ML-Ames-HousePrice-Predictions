{
 "cells": [
  {
   "cell_type": "code",
   "execution_count": 1,
   "id": "86912424",
   "metadata": {},
   "outputs": [],
   "source": [
    "import numpy as np\n",
    "import pandas as pd\n",
    "%matplotlib inline\n",
    "import matplotlib.pyplot as plt\n",
    "import seaborn as sns\n",
    "import scipy.stats as stats\n",
    "from sklearn.feature_selection import f_regression\n",
    "from sklearn.linear_model import LinearRegression\n",
    "import bamboolib"
   ]
  },
  {
   "cell_type": "code",
   "execution_count": 145,
   "id": "7f1b13bb",
   "metadata": {},
   "outputs": [
    {
     "data": {
      "text/plain": [
       "(2064, 81)"
      ]
     },
     "execution_count": 145,
     "metadata": {},
     "output_type": "execute_result"
    }
   ],
   "source": [
    "housing = pd.read_csv('train_housing.csv', index_col=0)\n",
    "housing.shape"
   ]
  },
  {
   "cell_type": "code",
   "execution_count": 3,
   "id": "6a3c2d15",
   "metadata": {},
   "outputs": [
    {
     "data": {
      "text/plain": [
       "Index(['PID', 'GrLivArea', 'SalePrice', 'MSSubClass', 'MSZoning',\n",
       "       'LotFrontage', 'LotArea', 'Street', 'Alley', 'LotShape', 'LandContour',\n",
       "       'Utilities', 'LotConfig', 'LandSlope', 'Neighborhood', 'Condition1',\n",
       "       'Condition2', 'BldgType', 'HouseStyle', 'OverallQual', 'OverallCond',\n",
       "       'YearBuilt', 'YearRemodAdd', 'RoofStyle', 'RoofMatl', 'Exterior1st',\n",
       "       'Exterior2nd', 'MasVnrType', 'MasVnrArea', 'ExterQual', 'ExterCond',\n",
       "       'Foundation', 'BsmtQual', 'BsmtCond', 'BsmtExposure', 'BsmtFinType1',\n",
       "       'BsmtFinSF1', 'BsmtFinType2', 'BsmtFinSF2', 'BsmtUnfSF', 'TotalBsmtSF',\n",
       "       'Heating', 'HeatingQC', 'CentralAir', 'Electrical', '1stFlrSF',\n",
       "       '2ndFlrSF', 'LowQualFinSF', 'BsmtFullBath', 'BsmtHalfBath', 'FullBath',\n",
       "       'HalfBath', 'BedroomAbvGr', 'KitchenAbvGr', 'KitchenQual',\n",
       "       'TotRmsAbvGrd', 'Functional', 'Fireplaces', 'FireplaceQu', 'GarageType',\n",
       "       'GarageYrBlt', 'GarageFinish', 'GarageCars', 'GarageArea', 'GarageQual',\n",
       "       'GarageCond', 'PavedDrive', 'WoodDeckSF', 'OpenPorchSF',\n",
       "       'EnclosedPorch', '3SsnPorch', 'ScreenPorch', 'PoolArea', 'PoolQC',\n",
       "       'Fence', 'MiscFeature', 'MiscVal', 'MoSold', 'YrSold', 'SaleType',\n",
       "       'SaleCondition'],\n",
       "      dtype='object')"
      ]
     },
     "execution_count": 3,
     "metadata": {},
     "output_type": "execute_result"
    }
   ],
   "source": [
    "housing.columns"
   ]
  },
  {
   "cell_type": "code",
   "execution_count": 4,
   "id": "488d652c",
   "metadata": {
    "collapsed": true
   },
   "outputs": [
    {
     "name": "stdout",
     "output_type": "stream",
     "text": [
      "RL         1609\n",
      "RM          329\n",
      "FV           94\n",
      "RH           15\n",
      "C (all)      14\n",
      "I (all)       2\n",
      "A (agr)       1\n",
      "Name: MSZoning, dtype: int64\n",
      "\n",
      "Pave    2056\n",
      "Grvl       8\n",
      "Name: Street, dtype: int64\n",
      "\n",
      "Grvl    79\n",
      "Pave    51\n",
      "Name: Alley, dtype: int64\n",
      "\n",
      "Reg    1313\n",
      "IR1     685\n",
      "IR2      55\n",
      "IR3      11\n",
      "Name: LotShape, dtype: int64\n",
      "\n",
      "Lvl    1864\n",
      "HLS      78\n",
      "Bnk      75\n",
      "Low      47\n",
      "Name: LandContour, dtype: int64\n",
      "\n",
      "AllPub    2063\n",
      "NoSewr       1\n",
      "Name: Utilities, dtype: int64\n",
      "\n",
      "Inside     1523\n",
      "Corner      342\n",
      "CulDSac     130\n",
      "FR2          58\n",
      "FR3          11\n",
      "Name: LotConfig, dtype: int64\n",
      "\n",
      "Gtl    1963\n",
      "Mod      88\n",
      "Sev      13\n",
      "Name: LandSlope, dtype: int64\n",
      "\n",
      "NAmes      330\n",
      "CollgCr    189\n",
      "OldTown    173\n",
      "Edwards    137\n",
      "Somerst    121\n",
      "Gilbert    113\n",
      "Sawyer     104\n",
      "NWAmes      98\n",
      "SawyerW     91\n",
      "Mitchel     87\n",
      "NridgHt     86\n",
      "BrkSide     80\n",
      "Crawfor     71\n",
      "IDOTRR      65\n",
      "NoRidge     58\n",
      "Timber      43\n",
      "ClearCr     39\n",
      "StoneBr     34\n",
      "SWISU       32\n",
      "MeadowV     23\n",
      "BrDale      22\n",
      "Veenker     20\n",
      "NPkVill     15\n",
      "Blmngtn     15\n",
      "Blueste      9\n",
      "Greens       6\n",
      "GrnHill      2\n",
      "Landmrk      1\n",
      "Name: Neighborhood, dtype: int64\n",
      "\n",
      "Norm      1770\n",
      "Feedr      112\n",
      "Artery      72\n",
      "RRAn        36\n",
      "PosN        30\n",
      "RRAe        21\n",
      "PosA        13\n",
      "RRNn         6\n",
      "RRNe         4\n",
      "Name: Condition1, dtype: int64\n",
      "\n",
      "Norm      2047\n",
      "Feedr        9\n",
      "RRNn         2\n",
      "PosN         2\n",
      "PosA         2\n",
      "Artery       2\n",
      "Name: Condition2, dtype: int64\n",
      "\n",
      "1Fam      1725\n",
      "TwnhsE     153\n",
      "Twnhs       78\n",
      "Duplex      64\n",
      "2fmCon      44\n",
      "Name: BldgType, dtype: int64\n",
      "\n",
      "1Story    1027\n",
      "2Story     615\n",
      "1.5Fin     236\n",
      "SLvl        96\n",
      "SFoyer      55\n",
      "2.5Unf      18\n",
      "1.5Unf      14\n",
      "2.5Fin       3\n",
      "Name: HouseStyle, dtype: int64\n",
      "\n",
      "Gable      1655\n",
      "Hip         367\n",
      "Gambrel      17\n",
      "Flat         15\n",
      "Mansard       7\n",
      "Shed          3\n",
      "Name: RoofStyle, dtype: int64\n",
      "\n",
      "CompShg    2032\n",
      "Tar&Grv      16\n",
      "WdShake       7\n",
      "WdShngl       6\n",
      "Metal         1\n",
      "Roll          1\n",
      "Membran       1\n",
      "Name: RoofMatl, dtype: int64\n",
      "\n",
      "VinylSd    676\n",
      "HdBoard    340\n",
      "MetalSd    333\n",
      "Wd Sdng    320\n",
      "Plywood    153\n",
      "CemntBd     81\n",
      "BrkFace     56\n",
      "WdShing     42\n",
      "AsbShng     27\n",
      "Stucco      26\n",
      "BrkComm      5\n",
      "CBlock       2\n",
      "AsphShn      1\n",
      "ImStucc      1\n",
      "PreCast      1\n",
      "Name: Exterior1st, dtype: int64\n",
      "\n",
      "VinylSd    668\n",
      "MetalSd    329\n",
      "HdBoard    308\n",
      "Wd Sdng    306\n",
      "Plywood    193\n",
      "CmentBd     80\n",
      "Wd Shng     63\n",
      "BrkFace     32\n",
      "Stucco      26\n",
      "AsbShng     24\n",
      "Brk Cmn     15\n",
      "ImStucc     11\n",
      "Stone        3\n",
      "CBlock       3\n",
      "AsphShn      2\n",
      "PreCast      1\n",
      "Name: Exterior2nd, dtype: int64\n",
      "\n",
      "None       1258\n",
      "BrkFace     636\n",
      "Stone       144\n",
      "BrkCmn       15\n",
      "Name: MasVnrType, dtype: int64\n",
      "\n",
      "TA    1304\n",
      "Gd     682\n",
      "Ex      51\n",
      "Fa      27\n",
      "Name: ExterQual, dtype: int64\n",
      "\n",
      "TA    1776\n",
      "Gd     230\n",
      "Fa      47\n",
      "Ex      10\n",
      "Po       1\n",
      "Name: ExterCond, dtype: int64\n",
      "\n",
      "CBlock    924\n",
      "PConc     880\n",
      "BrkTil    220\n",
      "Slab       30\n",
      "Stone       6\n",
      "Wood        4\n",
      "Name: Foundation, dtype: int64\n",
      "\n",
      "TA    953\n",
      "Gd    854\n",
      "Ex    142\n",
      "Fa     60\n",
      "Po      2\n",
      "Name: BsmtQual, dtype: int64\n",
      "\n",
      "TA    1848\n",
      "Gd      85\n",
      "Fa      72\n",
      "Ex       3\n",
      "Po       3\n",
      "Name: BsmtCond, dtype: int64\n",
      "\n",
      "No    1359\n",
      "Av     282\n",
      "Gd     194\n",
      "Mn     175\n",
      "Name: BsmtExposure, dtype: int64\n",
      "\n",
      "GLQ    588\n",
      "Unf    562\n",
      "ALQ    322\n",
      "Rec    227\n",
      "BLQ    202\n",
      "LwQ    110\n",
      "Name: BsmtFinType1, dtype: int64\n",
      "\n",
      "Unf    1745\n",
      "Rec      72\n",
      "LwQ      70\n",
      "BLQ      52\n",
      "ALQ      43\n",
      "GLQ      28\n",
      "Name: BsmtFinType2, dtype: int64\n",
      "\n",
      "GasA     2036\n",
      "GasW       19\n",
      "Grav        4\n",
      "Wall        3\n",
      "OthW        1\n",
      "Floor       1\n",
      "Name: Heating, dtype: int64\n",
      "\n",
      "Ex    1032\n",
      "TA     618\n",
      "Gd     354\n",
      "Fa      59\n",
      "Po       1\n",
      "Name: HeatingQC, dtype: int64\n",
      "\n",
      "Y    1939\n",
      "N     125\n",
      "Name: CentralAir, dtype: int64\n",
      "\n",
      "SBrkr    1898\n",
      "FuseA     132\n",
      "FuseF      30\n",
      "FuseP       4\n",
      "Name: Electrical, dtype: int64\n",
      "\n",
      "TA    1075\n",
      "Gd     830\n",
      "Ex     108\n",
      "Fa      50\n",
      "Po       1\n",
      "Name: KitchenQual, dtype: int64\n",
      "\n",
      "Typ     1916\n",
      "Min2      53\n",
      "Min1      48\n",
      "Mod       25\n",
      "Maj1      15\n",
      "Maj2       6\n",
      "Sal        1\n",
      "Name: Functional, dtype: int64\n",
      "\n",
      "Gd    490\n",
      "TA    464\n",
      "Fa     57\n",
      "Po     34\n",
      "Ex     28\n",
      "Name: FireplaceQu, dtype: int64\n",
      "\n",
      "Attchd     1227\n",
      "Detchd      566\n",
      "BuiltIn     124\n",
      "Basment      19\n",
      "2Types       18\n",
      "CarPort       9\n",
      "Name: GarageType, dtype: int64\n",
      "\n",
      "Unf    896\n",
      "RFn    584\n",
      "Fin    482\n",
      "Name: GarageFinish, dtype: int64\n",
      "\n",
      "TA    1850\n",
      "Fa      89\n",
      "Gd      18\n",
      "Ex       3\n",
      "Po       2\n",
      "Name: GarageQual, dtype: int64\n",
      "\n",
      "TA    1882\n",
      "Fa      58\n",
      "Gd      12\n",
      "Po       7\n",
      "Ex       3\n",
      "Name: GarageCond, dtype: int64\n",
      "\n",
      "Y    1869\n",
      "N     151\n",
      "P      44\n",
      "Name: PavedDrive, dtype: int64\n",
      "\n",
      "Gd    2\n",
      "Fa    2\n",
      "TA    2\n",
      "Ex    1\n",
      "Name: PoolQC, dtype: int64\n",
      "\n",
      "MnPrv    244\n",
      "GdPrv     98\n",
      "GdWo      82\n",
      "MnWw       8\n",
      "Name: Fence, dtype: int64\n",
      "\n",
      "Shed    65\n",
      "Othr     3\n",
      "Gar2     3\n",
      "TenC     1\n",
      "Name: MiscFeature, dtype: int64\n",
      "\n",
      "WD       1915\n",
      "New        57\n",
      "COD        39\n",
      "ConLD      21\n",
      "CWD        11\n",
      "ConLw       7\n",
      "ConLI       6\n",
      "Con         4\n",
      "Oth         3\n",
      "VWD         1\n",
      "Name: SaleType, dtype: int64\n",
      "\n",
      "Normal     1939\n",
      "Partial      59\n",
      "Abnorml      47\n",
      "Family       14\n",
      "Alloca        3\n",
      "AdjLand       2\n",
      "Name: SaleCondition, dtype: int64\n",
      "\n"
     ]
    }
   ],
   "source": [
    "categorical = [f for f in housing.columns if housing.dtypes[f] == 'object']\n",
    "\n",
    "for feature in categorical:\n",
    "    print(housing[feature].value_counts())\n",
    "    print('')"
   ]
  },
  {
   "cell_type": "code",
   "execution_count": 5,
   "id": "67b9d0c8",
   "metadata": {
    "scrolled": false
   },
   "outputs": [
    {
     "data": {
      "text/plain": [
       "<AxesSubplot:>"
      ]
     },
     "execution_count": 5,
     "metadata": {},
     "output_type": "execute_result"
    },
    {
     "data": {
      "image/png": "[encoded data removed]",
      "text/plain": [
       "<Figure size 432x288 with 1 Axes>"
      ]
     },
     "metadata": {
      "needs_background": "light"
     },
     "output_type": "display_data"
    }
   ],
   "source": [
    "missing = housing.isnull().sum()\n",
    "missing = missing[missing >0]\n",
    "missing.sort_values().plot.bar()"
   ]
  },
  {
   "cell_type": "code",
   "execution_count": 6,
   "id": "76b02308",
   "metadata": {},
   "outputs": [
    {
     "data": {
      "text/plain": [
       "<AxesSubplot:xlabel='SalePrice'>"
      ]
     },
     "execution_count": 6,
     "metadata": {},
     "output_type": "execute_result"
    },
    {
     "data": {
      "image/png": "[encoded data removed]",
      "text/plain": [
       "<Figure size 432x288 with 1 Axes>"
      ]
     },
     "metadata": {
      "needs_background": "light"
     },
     "output_type": "display_data"
    }
   ],
   "source": [
    "sns.distplot(housing['SalePrice'], kde=False, fit=stats.norm)"
   ]
  },
  {
   "cell_type": "code",
   "execution_count": 7,
   "id": "df6c539d",
   "metadata": {},
   "outputs": [
    {
     "data": {
      "text/plain": [
       "<AxesSubplot:xlabel='SalePrice'>"
      ]
     },
     "execution_count": 7,
     "metadata": {},
     "output_type": "execute_result"
    },
    {
     "data": {
      "image/png": "[encoded data removed]",
      "text/plain": [
       "<Figure size 432x288 with 1 Axes>"
      ]
     },
     "metadata": {
      "needs_background": "light"
     },
     "output_type": "display_data"
    }
   ],
   "source": [
    "logprice = np.log10(housing['SalePrice'])\n",
    "sns.distplot(logprice, kde=False, fit=stats.norm)"
   ]
  },
  {
   "cell_type": "markdown",
   "id": "42400265",
   "metadata": {},
   "source": [
    "# Size"
   ]
  },
  {
   "cell_type": "code",
   "execution_count": 18,
   "id": "eca6607f",
   "metadata": {},
   "outputs": [
    {
     "data": {
      "application/vnd.jupyter.widget-view+json": {
       "model_id": "fb01e1875a934313a381fd98cf11b0c3"
      },
      "text/html": [
       "<div>\n",
       "<style scoped>\n",
       "    .dataframe tbody tr th:only-of-type {\n",
       "        vertical-align: middle;\n",
       "    }\n",
       "\n",
       "    .dataframe tbody tr th {\n",
       "        vertical-align: top;\n",
       "    }\n",
       "\n",
       "    .dataframe thead th {\n",
       "        text-align: right;\n",
       "    }\n",
       "</style>\n",
       "<table border=\"1\" class=\"dataframe\">\n",
       "  <thead>\n",
       "    <tr style=\"text-align: right;\">\n",
       "      <th></th>\n",
       "      <th>GrLivArea</th>\n",
       "      <th>LotArea</th>\n",
       "      <th>MasVnrArea</th>\n",
       "      <th>BsmtUnfSF</th>\n",
       "      <th>TotalBsmtSF</th>\n",
       "      <th>1stFlrSF</th>\n",
       "      <th>2ndFlrSF</th>\n",
       "      <th>LowQualFinSF</th>\n",
       "      <th>GarageArea</th>\n",
       "      <th>WoodDeckSF</th>\n",
       "      <th>OpenPorchSF</th>\n",
       "      <th>PoolArea</th>\n",
       "    </tr>\n",
       "  </thead>\n",
       "  <tbody>\n",
       "    <tr>\n",
       "      <th>754</th>\n",
       "      <td>1040</td>\n",
       "      <td>11200</td>\n",
       "      <td>0.0</td>\n",
       "      <td>134.0</td>\n",
       "      <td>1040.0</td>\n",
       "      <td>1040</td>\n",
       "      <td>0</td>\n",
       "      <td>0</td>\n",
       "      <td>384.0</td>\n",
       "      <td>0</td>\n",
       "      <td>0</td>\n",
       "      <td>0</td>\n",
       "    </tr>\n",
       "    <tr>\n",
       "      <th>404</th>\n",
       "      <td>986</td>\n",
       "      <td>6180</td>\n",
       "      <td>0.0</td>\n",
       "      <td>960.0</td>\n",
       "      <td>960.0</td>\n",
       "      <td>986</td>\n",
       "      <td>0</td>\n",
       "      <td>0</td>\n",
       "      <td>180.0</td>\n",
       "      <td>0</td>\n",
       "      <td>128</td>\n",
       "      <td>0</td>\n",
       "    </tr>\n",
       "    <tr>\n",
       "      <th>697</th>\n",
       "      <td>1728</td>\n",
       "      <td>9100</td>\n",
       "      <td>336.0</td>\n",
       "      <td>396.0</td>\n",
       "      <td>1728.0</td>\n",
       "      <td>1728</td>\n",
       "      <td>0</td>\n",
       "      <td>0</td>\n",
       "      <td>504.0</td>\n",
       "      <td>0</td>\n",
       "      <td>0</td>\n",
       "      <td>0</td>\n",
       "    </tr>\n",
       "    <tr>\n",
       "      <th>538</th>\n",
       "      <td>1710</td>\n",
       "      <td>10300</td>\n",
       "      <td>0.0</td>\n",
       "      <td>576.0</td>\n",
       "      <td>576.0</td>\n",
       "      <td>902</td>\n",
       "      <td>808</td>\n",
       "      <td>0</td>\n",
       "      <td>480.0</td>\n",
       "      <td>12</td>\n",
       "      <td>11</td>\n",
       "      <td>0</td>\n",
       "    </tr>\n",
       "    <tr>\n",
       "      <th>606</th>\n",
       "      <td>1468</td>\n",
       "      <td>10440</td>\n",
       "      <td>0.0</td>\n",
       "      <td>54.0</td>\n",
       "      <td>1468.0</td>\n",
       "      <td>1468</td>\n",
       "      <td>0</td>\n",
       "      <td>0</td>\n",
       "      <td>528.0</td>\n",
       "      <td>0</td>\n",
       "      <td>102</td>\n",
       "      <td>0</td>\n",
       "    </tr>\n",
       "  </tbody>\n",
       "</table>\n",
       "</div>"
      ],
      "text/plain": [
       "     GrLivArea  LotArea  MasVnrArea  BsmtUnfSF  TotalBsmtSF  1stFlrSF  \\\n",
       "754       1040    11200         0.0      134.0       1040.0      1040   \n",
       "404        986     6180         0.0      960.0        960.0       986   \n",
       "697       1728     9100       336.0      396.0       1728.0      1728   \n",
       "538       1710    10300         0.0      576.0        576.0       902   \n",
       "606       1468    10440         0.0       54.0       1468.0      1468   \n",
       "\n",
       "     2ndFlrSF  LowQualFinSF  GarageArea  WoodDeckSF  OpenPorchSF  PoolArea  \n",
       "754         0             0       384.0           0            0         0  \n",
       "404         0             0       180.0           0          128         0  \n",
       "697         0             0       504.0           0            0         0  \n",
       "538       808             0       480.0          12           11         0  \n",
       "606         0             0       528.0           0          102         0  "
      ]
     },
     "metadata": {},
     "output_type": "display_data"
    }
   ],
   "source": [
    "size_related = housing.filter(regex='SF$|Area$')\n",
    "size_related.head()"
   ]
  },
  {
   "cell_type": "code",
   "execution_count": 9,
   "id": "6ff0da78",
   "metadata": {},
   "outputs": [
    {
     "data": {
      "text/plain": [
       "GrLivArea        0\n",
       "LotArea          0\n",
       "MasVnrArea      11\n",
       "BsmtUnfSF        1\n",
       "TotalBsmtSF      1\n",
       "1stFlrSF         0\n",
       "2ndFlrSF         0\n",
       "LowQualFinSF     0\n",
       "GarageArea       1\n",
       "WoodDeckSF       0\n",
       "OpenPorchSF      0\n",
       "PoolArea         0\n",
       "dtype: int64"
      ]
     },
     "execution_count": 9,
     "metadata": {},
     "output_type": "execute_result"
    }
   ],
   "source": [
    "size_related.isnull().sum(axis=0)"
   ]
  },
  {
   "cell_type": "code",
   "execution_count": 10,
   "id": "b0bb63e1",
   "metadata": {},
   "outputs": [
    {
     "data": {
      "text/plain": [
       "GrLivArea        0.000000e+00\n",
       "TotalBsmtSF     1.164586e-246\n",
       "1stFlrSF        1.073583e-237\n",
       "GarageArea      1.494652e-227\n",
       "MasVnrArea      1.999293e-121\n",
       "WoodDeckSF       6.979717e-57\n",
       "OpenPorchSF      1.256946e-48\n",
       "2ndFlrSF         7.137331e-40\n",
       "LotArea          1.022096e-31\n",
       "BsmtUnfSF        3.784346e-12\n",
       "LowQualFinSF     2.181227e-01\n",
       "PoolArea         3.654623e-01\n",
       "dtype: float64"
      ]
     },
     "execution_count": 10,
     "metadata": {},
     "output_type": "execute_result"
    }
   ],
   "source": [
    "size_related = size_related.fillna(0.0)  # We fill the very minor missing values by 0.0\n",
    "F_values, p_values = f_regression(size_related, housing['SalePrice'])\n",
    "\n",
    "pd.Series(p_values, index=size_related.columns).sort_values()"
   ]
  },
  {
   "cell_type": "code",
   "execution_count": 16,
   "id": "86088525",
   "metadata": {},
   "outputs": [
    {
     "data": {
      "text/plain": [
       "<AxesSubplot:>"
      ]
     },
     "execution_count": 16,
     "metadata": {},
     "output_type": "execute_result"
    },
    {
     "data": {
      "image/png": "[encoded data removed]",
      "text/plain": [
       "<Figure size 432x288 with 2 Axes>"
      ]
     },
     "metadata": {
      "needs_background": "light"
     },
     "output_type": "display_data"
    }
   ],
   "source": [
    "corr1 = pd.concat([size_related, housing['SalePrice']], axis=1).corr()\n",
    "sns.heatmap(corr1)"
   ]
  },
  {
   "cell_type": "code",
   "execution_count": 14,
   "id": "cd02dc38",
   "metadata": {},
   "outputs": [
    {
     "data": {
      "text/plain": [
       "<AxesSubplot:xlabel='GrLivArea', ylabel='SalePrice'>"
      ]
     },
     "execution_count": 14,
     "metadata": {},
     "output_type": "execute_result"
    },
    {
     "data": {
      "image/png": "[encoded data removed]",
      "text/plain": [
       "<Figure size 432x288 with 1 Axes>"
      ]
     },
     "metadata": {
      "needs_background": "light"
     },
     "output_type": "display_data"
    }
   ],
   "source": [
    "housing[['GrLivArea', 'SalePrice']].plot(kind='scatter', x='GrLivArea', y='SalePrice', logx=False, logy=True)"
   ]
  },
  {
   "cell_type": "code",
   "execution_count": 15,
   "id": "47143e5a",
   "metadata": {},
   "outputs": [
    {
     "data": {
      "text/plain": [
       "<AxesSubplot:xlabel='GrLivArea', ylabel='SalePrice'>"
      ]
     },
     "execution_count": 15,
     "metadata": {},
     "output_type": "execute_result"
    },
    {
     "data": {
      "image/png": "[encoded data removed]",
      "text/plain": [
       "<Figure size 432x288 with 1 Axes>"
      ]
     },
     "metadata": {
      "needs_background": "light"
     },
     "output_type": "display_data"
    }
   ],
   "source": [
    "housing[['GrLivArea', 'SalePrice']].plot(kind='scatter', x='GrLivArea', y='SalePrice', logx=True, logy=True)"
   ]
  },
  {
   "cell_type": "raw",
   "id": "810ba4c4",
   "metadata": {},
   "source": [
    "Conclusions: \n",
    "Keep: GrLivArea, TotalBsmtSF, GarageArea"
   ]
  },
  {
   "cell_type": "markdown",
   "id": "d9c5d247",
   "metadata": {},
   "source": [
    "# Garage"
   ]
  },
  {
   "cell_type": "code",
   "execution_count": 20,
   "id": "30b20227",
   "metadata": {},
   "outputs": [
    {
     "data": {
      "application/vnd.jupyter.widget-view+json": {
       "model_id": "509c3256ab434323b434d56a792efd08"
      },
      "text/html": [
       "<div>\n",
       "<style scoped>\n",
       "    .dataframe tbody tr th:only-of-type {\n",
       "        vertical-align: middle;\n",
       "    }\n",
       "\n",
       "    .dataframe tbody tr th {\n",
       "        vertical-align: top;\n",
       "    }\n",
       "\n",
       "    .dataframe thead th {\n",
       "        text-align: right;\n",
       "    }\n",
       "</style>\n",
       "<table border=\"1\" class=\"dataframe\">\n",
       "  <thead>\n",
       "    <tr style=\"text-align: right;\">\n",
       "      <th></th>\n",
       "      <th>GarageType</th>\n",
       "      <th>GarageYrBlt</th>\n",
       "      <th>GarageFinish</th>\n",
       "      <th>GarageCars</th>\n",
       "      <th>GarageArea</th>\n",
       "      <th>GarageQual</th>\n",
       "      <th>GarageCond</th>\n",
       "    </tr>\n",
       "  </thead>\n",
       "  <tbody>\n",
       "    <tr>\n",
       "      <th>754</th>\n",
       "      <td>Detchd</td>\n",
       "      <td>1965.0</td>\n",
       "      <td>Unf</td>\n",
       "      <td>1.0</td>\n",
       "      <td>384.0</td>\n",
       "      <td>TA</td>\n",
       "      <td>TA</td>\n",
       "    </tr>\n",
       "    <tr>\n",
       "      <th>404</th>\n",
       "      <td>Detchd</td>\n",
       "      <td>1926.0</td>\n",
       "      <td>Unf</td>\n",
       "      <td>1.0</td>\n",
       "      <td>180.0</td>\n",
       "      <td>TA</td>\n",
       "      <td>TA</td>\n",
       "    </tr>\n",
       "    <tr>\n",
       "      <th>697</th>\n",
       "      <td>Detchd</td>\n",
       "      <td>1963.0</td>\n",
       "      <td>Unf</td>\n",
       "      <td>2.0</td>\n",
       "      <td>504.0</td>\n",
       "      <td>TA</td>\n",
       "      <td>TA</td>\n",
       "    </tr>\n",
       "    <tr>\n",
       "      <th>538</th>\n",
       "      <td>Detchd</td>\n",
       "      <td>1990.0</td>\n",
       "      <td>Unf</td>\n",
       "      <td>2.0</td>\n",
       "      <td>480.0</td>\n",
       "      <td>TA</td>\n",
       "      <td>TA</td>\n",
       "    </tr>\n",
       "    <tr>\n",
       "      <th>606</th>\n",
       "      <td>Attchd</td>\n",
       "      <td>2005.0</td>\n",
       "      <td>Fin</td>\n",
       "      <td>2.0</td>\n",
       "      <td>528.0</td>\n",
       "      <td>TA</td>\n",
       "      <td>TA</td>\n",
       "    </tr>\n",
       "  </tbody>\n",
       "</table>\n",
       "</div>"
      ],
      "text/plain": [
       "    GarageType  GarageYrBlt GarageFinish  GarageCars  GarageArea GarageQual  \\\n",
       "754     Detchd       1965.0          Unf         1.0       384.0         TA   \n",
       "404     Detchd       1926.0          Unf         1.0       180.0         TA   \n",
       "697     Detchd       1963.0          Unf         2.0       504.0         TA   \n",
       "538     Detchd       1990.0          Unf         2.0       480.0         TA   \n",
       "606     Attchd       2005.0          Fin         2.0       528.0         TA   \n",
       "\n",
       "    GarageCond  \n",
       "754         TA  \n",
       "404         TA  \n",
       "697         TA  \n",
       "538         TA  \n",
       "606         TA  "
      ]
     },
     "metadata": {},
     "output_type": "display_data"
    }
   ],
   "source": [
    "garage_related = housing.filter(regex='Garage')\n",
    "garage_related.head()"
   ]
  },
  {
   "cell_type": "code",
   "execution_count": 21,
   "id": "41c95f72",
   "metadata": {},
   "outputs": [
    {
     "data": {
      "text/plain": [
       "GarageType      101\n",
       "GarageYrBlt     102\n",
       "GarageFinish    102\n",
       "GarageCars        1\n",
       "GarageArea        1\n",
       "GarageQual      102\n",
       "GarageCond      102\n",
       "dtype: int64"
      ]
     },
     "execution_count": 21,
     "metadata": {},
     "output_type": "execute_result"
    }
   ],
   "source": [
    "garage_related.isnull().sum(axis=0)"
   ]
  },
  {
   "cell_type": "code",
   "execution_count": null,
   "id": "17d4d7fc",
   "metadata": {},
   "outputs": [],
   "source": [
    "F_values, p_values = f_regression(size_related, housing['SalePrice'])\n",
    "\n",
    "pd.Series(p_values, index=size_related.columns).sort_values()"
   ]
  },
  {
   "cell_type": "code",
   "execution_count": 32,
   "id": "839ef43f",
   "metadata": {},
   "outputs": [
    {
     "data": {
      "text/plain": [
       "GarageCars    0\n",
       "GarageArea    0\n",
       "dtype: int64"
      ]
     },
     "execution_count": 32,
     "metadata": {},
     "output_type": "execute_result"
    }
   ],
   "source": [
    "garage_related['GarageCars'] = garage_related['GarageCars'].fillna(0.0)\n",
    "garage_related['GarageArea'] = garage_related['GarageArea'].fillna(0.0)\n",
    "garage_cars_area = garage_related.filter(regex='Cars$|Area$')\n",
    "garage_cars_area.isnull().sum()"
   ]
  },
  {
   "cell_type": "code",
   "execution_count": 33,
   "id": "cf39eaed",
   "metadata": {},
   "outputs": [
    {
     "data": {
      "text/plain": [
       "GarageCars    5.432335e-231\n",
       "GarageArea    1.494652e-227\n",
       "dtype: float64"
      ]
     },
     "execution_count": 33,
     "metadata": {},
     "output_type": "execute_result"
    }
   ],
   "source": [
    "F_values, p_values = f_regression(garage_cars_area, housing['SalePrice'])\n",
    "\n",
    "pd.Series(p_values, index=garage_cars_area.columns).sort_values()"
   ]
  },
  {
   "cell_type": "code",
   "execution_count": 37,
   "id": "8556ee85",
   "metadata": {},
   "outputs": [
    {
     "data": {
      "text/plain": [
       "<AxesSubplot:>"
      ]
     },
     "execution_count": 37,
     "metadata": {},
     "output_type": "execute_result"
    },
    {
     "data": {
      "image/png": "[encoded data removed]",
      "text/plain": [
       "<Figure size 432x288 with 2 Axes>"
      ]
     },
     "metadata": {
      "needs_background": "light"
     },
     "output_type": "display_data"
    }
   ],
   "source": [
    "corr2 = pd.concat([garage_cars_area, housing['SalePrice']], axis=1).corr()\n",
    "sns.heatmap(corr2)"
   ]
  },
  {
   "cell_type": "code",
   "execution_count": 45,
   "id": "22db340a",
   "metadata": {},
   "outputs": [
    {
     "data": {
      "text/plain": [
       "<AxesSubplot:xlabel='GarageCars', ylabel='SalePrice'>"
      ]
     },
     "execution_count": 45,
     "metadata": {},
     "output_type": "execute_result"
    },
    {
     "data": {
      "image/png": "[encoded data removed]",
      "text/plain": [
       "<Figure size 432x288 with 1 Axes>"
      ]
     },
     "metadata": {
      "needs_background": "light"
     },
     "output_type": "display_data"
    }
   ],
   "source": [
    "sns.boxplot(x='GarageCars', y='SalePrice', data=housing)"
   ]
  },
  {
   "cell_type": "code",
   "execution_count": 36,
   "id": "32ed07b0",
   "metadata": {},
   "outputs": [
    {
     "data": {
      "text/plain": [
       "Attchd     1227\n",
       "Detchd      566\n",
       "BuiltIn     124\n",
       "Basment      19\n",
       "2Types       18\n",
       "CarPort       9\n",
       "Name: GarageType, dtype: int64"
      ]
     },
     "execution_count": 36,
     "metadata": {},
     "output_type": "execute_result"
    }
   ],
   "source": [
    "housing['GarageType'].value_counts()"
   ]
  },
  {
   "cell_type": "code",
   "execution_count": 34,
   "id": "b43679f4",
   "metadata": {},
   "outputs": [
    {
     "data": {
      "text/plain": [
       "<AxesSubplot:xlabel='GarageType', ylabel='SalePrice'>"
      ]
     },
     "execution_count": 34,
     "metadata": {},
     "output_type": "execute_result"
    },
    {
     "data": {
      "image/png": "[encoded data removed]",
      "text/plain": [
       "<Figure size 432x288 with 1 Axes>"
      ]
     },
     "metadata": {
      "needs_background": "light"
     },
     "output_type": "display_data"
    }
   ],
   "source": [
    "sns.boxplot(x='GarageType', y='SalePrice', data=housing)"
   ]
  },
  {
   "cell_type": "code",
   "execution_count": 38,
   "id": "133e35ed",
   "metadata": {},
   "outputs": [
    {
     "data": {
      "text/plain": [
       "Unf    896\n",
       "RFn    584\n",
       "Fin    482\n",
       "Name: GarageFinish, dtype: int64"
      ]
     },
     "execution_count": 38,
     "metadata": {},
     "output_type": "execute_result"
    }
   ],
   "source": [
    "housing['GarageFinish'].value_counts()"
   ]
  },
  {
   "cell_type": "code",
   "execution_count": 39,
   "id": "b5ed44a3",
   "metadata": {
    "scrolled": true
   },
   "outputs": [
    {
     "data": {
      "text/plain": [
       "<AxesSubplot:xlabel='GarageFinish', ylabel='SalePrice'>"
      ]
     },
     "execution_count": 39,
     "metadata": {},
     "output_type": "execute_result"
    },
    {
     "data": {
      "image/png": "[encoded data removed]",
      "text/plain": [
       "<Figure size 432x288 with 1 Axes>"
      ]
     },
     "metadata": {
      "needs_background": "light"
     },
     "output_type": "display_data"
    }
   ],
   "source": [
    "sns.boxplot(x='GarageFinish', y='SalePrice', data=housing)"
   ]
  },
  {
   "cell_type": "code",
   "execution_count": 40,
   "id": "7de89313",
   "metadata": {},
   "outputs": [
    {
     "data": {
      "text/plain": [
       "TA    1850\n",
       "Fa      89\n",
       "Gd      18\n",
       "Ex       3\n",
       "Po       2\n",
       "Name: GarageQual, dtype: int64"
      ]
     },
     "execution_count": 40,
     "metadata": {},
     "output_type": "execute_result"
    }
   ],
   "source": [
    "housing['GarageQual'].value_counts()"
   ]
  },
  {
   "cell_type": "code",
   "execution_count": 41,
   "id": "e08b3b84",
   "metadata": {},
   "outputs": [
    {
     "data": {
      "text/plain": [
       "<AxesSubplot:xlabel='GarageQual', ylabel='SalePrice'>"
      ]
     },
     "execution_count": 41,
     "metadata": {},
     "output_type": "execute_result"
    },
    {
     "data": {
      "image/png": "[encoded data removed]",
      "text/plain": [
       "<Figure size 432x288 with 1 Axes>"
      ]
     },
     "metadata": {
      "needs_background": "light"
     },
     "output_type": "display_data"
    }
   ],
   "source": [
    "sns.boxplot(x='GarageQual', y='SalePrice', data=housing)"
   ]
  },
  {
   "cell_type": "code",
   "execution_count": 42,
   "id": "0531daef",
   "metadata": {},
   "outputs": [
    {
     "data": {
      "text/plain": [
       "TA    1882\n",
       "Fa      58\n",
       "Gd      12\n",
       "Po       7\n",
       "Ex       3\n",
       "Name: GarageCond, dtype: int64"
      ]
     },
     "execution_count": 42,
     "metadata": {},
     "output_type": "execute_result"
    }
   ],
   "source": [
    "housing['GarageCond'].value_counts()"
   ]
  },
  {
   "cell_type": "code",
   "execution_count": 43,
   "id": "448d16b5",
   "metadata": {},
   "outputs": [
    {
     "data": {
      "text/plain": [
       "<AxesSubplot:xlabel='GarageCond', ylabel='SalePrice'>"
      ]
     },
     "execution_count": 43,
     "metadata": {},
     "output_type": "execute_result"
    },
    {
     "data": {
      "image/png": "[encoded data removed]",
      "text/plain": [
       "<Figure size 432x288 with 1 Axes>"
      ]
     },
     "metadata": {
      "needs_background": "light"
     },
     "output_type": "display_data"
    }
   ],
   "source": [
    "sns.boxplot(x='GarageCond', y='SalePrice', data=housing)"
   ]
  },
  {
   "cell_type": "code",
   "execution_count": 44,
   "id": "7ad2fdeb",
   "metadata": {},
   "outputs": [
    {
     "data": {
      "text/plain": [
       "<AxesSubplot:xlabel='GarageYrBlt', ylabel='SalePrice'>"
      ]
     },
     "execution_count": 44,
     "metadata": {},
     "output_type": "execute_result"
    },
    {
     "data": {
      "image/png": "[encoded data removed]",
      "text/plain": [
       "<Figure size 432x288 with 1 Axes>"
      ]
     },
     "metadata": {
      "needs_background": "light"
     },
     "output_type": "display_data"
    }
   ],
   "source": [
    "housing[['GarageYrBlt', 'SalePrice']].plot(kind='scatter', x='GarageYrBlt', y='SalePrice', logx=False, logy=True)"
   ]
  },
  {
   "cell_type": "raw",
   "id": "f689631d",
   "metadata": {},
   "source": [
    "Colnclusions: \n",
    "keep: GarageType, GarageCars"
   ]
  },
  {
   "cell_type": "markdown",
   "id": "9ba3284b",
   "metadata": {},
   "source": [
    "# Porch"
   ]
  },
  {
   "cell_type": "code",
   "execution_count": 48,
   "id": "06359d26",
   "metadata": {},
   "outputs": [
    {
     "data": {
      "application/vnd.jupyter.widget-view+json": {
       "model_id": "46cf8b23f07b4219b68ff36ba9c958ea"
      },
      "text/html": [
       "<div>\n",
       "<style scoped>\n",
       "    .dataframe tbody tr th:only-of-type {\n",
       "        vertical-align: middle;\n",
       "    }\n",
       "\n",
       "    .dataframe tbody tr th {\n",
       "        vertical-align: top;\n",
       "    }\n",
       "\n",
       "    .dataframe thead th {\n",
       "        text-align: right;\n",
       "    }\n",
       "</style>\n",
       "<table border=\"1\" class=\"dataframe\">\n",
       "  <thead>\n",
       "    <tr style=\"text-align: right;\">\n",
       "      <th></th>\n",
       "      <th>OpenPorchSF</th>\n",
       "      <th>EnclosedPorch</th>\n",
       "      <th>3SsnPorch</th>\n",
       "      <th>ScreenPorch</th>\n",
       "    </tr>\n",
       "  </thead>\n",
       "  <tbody>\n",
       "    <tr>\n",
       "      <th>754</th>\n",
       "      <td>0</td>\n",
       "      <td>0</td>\n",
       "      <td>0</td>\n",
       "      <td>0</td>\n",
       "    </tr>\n",
       "    <tr>\n",
       "      <th>404</th>\n",
       "      <td>128</td>\n",
       "      <td>0</td>\n",
       "      <td>0</td>\n",
       "      <td>0</td>\n",
       "    </tr>\n",
       "    <tr>\n",
       "      <th>697</th>\n",
       "      <td>0</td>\n",
       "      <td>0</td>\n",
       "      <td>0</td>\n",
       "      <td>0</td>\n",
       "    </tr>\n",
       "    <tr>\n",
       "      <th>538</th>\n",
       "      <td>11</td>\n",
       "      <td>64</td>\n",
       "      <td>0</td>\n",
       "      <td>0</td>\n",
       "    </tr>\n",
       "    <tr>\n",
       "      <th>606</th>\n",
       "      <td>102</td>\n",
       "      <td>0</td>\n",
       "      <td>0</td>\n",
       "      <td>216</td>\n",
       "    </tr>\n",
       "  </tbody>\n",
       "</table>\n",
       "</div>"
      ],
      "text/plain": [
       "     OpenPorchSF  EnclosedPorch  3SsnPorch  ScreenPorch\n",
       "754            0              0          0            0\n",
       "404          128              0          0            0\n",
       "697            0              0          0            0\n",
       "538           11             64          0            0\n",
       "606          102              0          0          216"
      ]
     },
     "metadata": {},
     "output_type": "display_data"
    }
   ],
   "source": [
    "porch_related = housing.filter(regex='Porch')\n",
    "porch_related.head()"
   ]
  },
  {
   "cell_type": "code",
   "execution_count": 49,
   "id": "85cd9677",
   "metadata": {},
   "outputs": [
    {
     "data": {
      "text/plain": [
       "OpenPorchSF      0\n",
       "EnclosedPorch    0\n",
       "3SsnPorch        0\n",
       "ScreenPorch      0\n",
       "dtype: int64"
      ]
     },
     "execution_count": 49,
     "metadata": {},
     "output_type": "execute_result"
    }
   ],
   "source": [
    "porch_related.isnull().sum(axis=0)"
   ]
  },
  {
   "cell_type": "code",
   "execution_count": 50,
   "id": "813be197",
   "metadata": {},
   "outputs": [
    {
     "data": {
      "text/plain": [
       "OpenPorchSF      1.256946e-48\n",
       "EnclosedPorch    2.794117e-08\n",
       "ScreenPorch      1.854039e-05\n",
       "3SsnPorch        3.522185e-01\n",
       "dtype: float64"
      ]
     },
     "execution_count": 50,
     "metadata": {},
     "output_type": "execute_result"
    }
   ],
   "source": [
    "F_values, p_values = f_regression(porch_related, housing['SalePrice'])\n",
    "\n",
    "pd.Series(p_values, index=porch_related.columns).sort_values()"
   ]
  },
  {
   "cell_type": "code",
   "execution_count": 51,
   "id": "f9623d7a",
   "metadata": {},
   "outputs": [
    {
     "data": {
      "text/plain": [
       "<AxesSubplot:>"
      ]
     },
     "execution_count": 51,
     "metadata": {},
     "output_type": "execute_result"
    },
    {
     "data": {
      "image/png": "[encoded data removed]",
      "text/plain": [
       "<Figure size 432x288 with 2 Axes>"
      ]
     },
     "metadata": {
      "needs_background": "light"
     },
     "output_type": "display_data"
    }
   ],
   "source": [
    "corr3 = pd.concat([porch_related, housing['SalePrice']], axis=1).corr()\n",
    "sns.heatmap(corr3)"
   ]
  },
  {
   "cell_type": "raw",
   "id": "9a3cdc35",
   "metadata": {},
   "source": [
    "Conclusions: porch related variables are not good predictors of sale price"
   ]
  },
  {
   "cell_type": "markdown",
   "id": "8a55f9b5",
   "metadata": {},
   "source": [
    "# Lot"
   ]
  },
  {
   "cell_type": "code",
   "execution_count": 52,
   "id": "20b0c7ea",
   "metadata": {},
   "outputs": [
    {
     "data": {
      "application/vnd.jupyter.widget-view+json": {
       "model_id": "79064b045f9542a1929b0fb565dac394"
      },
      "text/html": [
       "<div>\n",
       "<style scoped>\n",
       "    .dataframe tbody tr th:only-of-type {\n",
       "        vertical-align: middle;\n",
       "    }\n",
       "\n",
       "    .dataframe tbody tr th {\n",
       "        vertical-align: top;\n",
       "    }\n",
       "\n",
       "    .dataframe thead th {\n",
       "        text-align: right;\n",
       "    }\n",
       "</style>\n",
       "<table border=\"1\" class=\"dataframe\">\n",
       "  <thead>\n",
       "    <tr style=\"text-align: right;\">\n",
       "      <th></th>\n",
       "      <th>LotFrontage</th>\n",
       "      <th>LotArea</th>\n",
       "      <th>LotShape</th>\n",
       "      <th>LotConfig</th>\n",
       "    </tr>\n",
       "  </thead>\n",
       "  <tbody>\n",
       "    <tr>\n",
       "      <th>754</th>\n",
       "      <td>70.0</td>\n",
       "      <td>11200</td>\n",
       "      <td>Reg</td>\n",
       "      <td>Inside</td>\n",
       "    </tr>\n",
       "    <tr>\n",
       "      <th>404</th>\n",
       "      <td>60.0</td>\n",
       "      <td>6180</td>\n",
       "      <td>Reg</td>\n",
       "      <td>Corner</td>\n",
       "    </tr>\n",
       "    <tr>\n",
       "      <th>697</th>\n",
       "      <td>70.0</td>\n",
       "      <td>9100</td>\n",
       "      <td>Reg</td>\n",
       "      <td>Inside</td>\n",
       "    </tr>\n",
       "    <tr>\n",
       "      <th>538</th>\n",
       "      <td>50.0</td>\n",
       "      <td>10300</td>\n",
       "      <td>IR1</td>\n",
       "      <td>Inside</td>\n",
       "    </tr>\n",
       "    <tr>\n",
       "      <th>606</th>\n",
       "      <td>84.0</td>\n",
       "      <td>10440</td>\n",
       "      <td>Reg</td>\n",
       "      <td>Corner</td>\n",
       "    </tr>\n",
       "  </tbody>\n",
       "</table>\n",
       "</div>"
      ],
      "text/plain": [
       "     LotFrontage  LotArea LotShape LotConfig\n",
       "754         70.0    11200      Reg    Inside\n",
       "404         60.0     6180      Reg    Corner\n",
       "697         70.0     9100      Reg    Inside\n",
       "538         50.0    10300      IR1    Inside\n",
       "606         84.0    10440      Reg    Corner"
      ]
     },
     "metadata": {},
     "output_type": "display_data"
    }
   ],
   "source": [
    "lot_related = housing.filter(regex='Lot')\n",
    "lot_related.head()"
   ]
  },
  {
   "cell_type": "code",
   "execution_count": 53,
   "id": "0822f05b",
   "metadata": {},
   "outputs": [
    {
     "data": {
      "text/plain": [
       "LotFrontage    374\n",
       "LotArea          0\n",
       "LotShape         0\n",
       "LotConfig        0\n",
       "dtype: int64"
      ]
     },
     "execution_count": 53,
     "metadata": {},
     "output_type": "execute_result"
    }
   ],
   "source": [
    "lot_related.isnull().sum(axis=0)"
   ]
  },
  {
   "cell_type": "code",
   "execution_count": 54,
   "id": "9be27557",
   "metadata": {},
   "outputs": [
    {
     "data": {
      "text/plain": [
       "<AxesSubplot:>"
      ]
     },
     "execution_count": 54,
     "metadata": {},
     "output_type": "execute_result"
    },
    {
     "data": {
      "image/png": "[encoded data removed]",
      "text/plain": [
       "<Figure size 432x288 with 2 Axes>"
      ]
     },
     "metadata": {
      "needs_background": "light"
     },
     "output_type": "display_data"
    }
   ],
   "source": [
    "corr4 = pd.concat([lot_related, housing['SalePrice']], axis=1).corr()\n",
    "sns.heatmap(corr4)"
   ]
  },
  {
   "cell_type": "code",
   "execution_count": 55,
   "id": "24c04c14",
   "metadata": {},
   "outputs": [
    {
     "data": {
      "text/plain": [
       "Reg    1313\n",
       "IR1     685\n",
       "IR2      55\n",
       "IR3      11\n",
       "Name: LotShape, dtype: int64"
      ]
     },
     "execution_count": 55,
     "metadata": {},
     "output_type": "execute_result"
    }
   ],
   "source": [
    "housing['LotShape'].value_counts()"
   ]
  },
  {
   "cell_type": "code",
   "execution_count": 56,
   "id": "fe7fb01c",
   "metadata": {},
   "outputs": [
    {
     "data": {
      "text/plain": [
       "<AxesSubplot:xlabel='LotShape', ylabel='SalePrice'>"
      ]
     },
     "execution_count": 56,
     "metadata": {},
     "output_type": "execute_result"
    },
    {
     "data": {
      "image/png": "[encoded data removed]",
      "text/plain": [
       "<Figure size 432x288 with 1 Axes>"
      ]
     },
     "metadata": {
      "needs_background": "light"
     },
     "output_type": "display_data"
    }
   ],
   "source": [
    "sns.boxplot(x='LotShape', y='SalePrice', data=housing)"
   ]
  },
  {
   "cell_type": "code",
   "execution_count": 57,
   "id": "45128250",
   "metadata": {},
   "outputs": [
    {
     "data": {
      "text/plain": [
       "Inside     1523\n",
       "Corner      342\n",
       "CulDSac     130\n",
       "FR2          58\n",
       "FR3          11\n",
       "Name: LotConfig, dtype: int64"
      ]
     },
     "execution_count": 57,
     "metadata": {},
     "output_type": "execute_result"
    }
   ],
   "source": [
    "housing['LotConfig'].value_counts()"
   ]
  },
  {
   "cell_type": "code",
   "execution_count": 58,
   "id": "f4d4b7d5",
   "metadata": {},
   "outputs": [
    {
     "data": {
      "text/plain": [
       "<AxesSubplot:xlabel='LotConfig', ylabel='SalePrice'>"
      ]
     },
     "execution_count": 58,
     "metadata": {},
     "output_type": "execute_result"
    },
    {
     "data": {
      "image/png": "[encoded data removed]",
      "text/plain": [
       "<Figure size 432x288 with 1 Axes>"
      ]
     },
     "metadata": {
      "needs_background": "light"
     },
     "output_type": "display_data"
    }
   ],
   "source": [
    "sns.boxplot(x='LotConfig', y='SalePrice', data=housing)"
   ]
  },
  {
   "cell_type": "raw",
   "id": "1130c908",
   "metadata": {},
   "source": [
    "Conclusions: lot related variables are not good predictors of sale price"
   ]
  },
  {
   "cell_type": "markdown",
   "id": "89deb2fb",
   "metadata": {},
   "source": [
    "# Bath"
   ]
  },
  {
   "cell_type": "code",
   "execution_count": 60,
   "id": "41391da4",
   "metadata": {},
   "outputs": [
    {
     "data": {
      "application/vnd.jupyter.widget-view+json": {
       "model_id": "a61cf2c65eb241aeb0de920986c17461"
      },
      "text/html": [
       "<div>\n",
       "<style scoped>\n",
       "    .dataframe tbody tr th:only-of-type {\n",
       "        vertical-align: middle;\n",
       "    }\n",
       "\n",
       "    .dataframe tbody tr th {\n",
       "        vertical-align: top;\n",
       "    }\n",
       "\n",
       "    .dataframe thead th {\n",
       "        text-align: right;\n",
       "    }\n",
       "</style>\n",
       "<table border=\"1\" class=\"dataframe\">\n",
       "  <thead>\n",
       "    <tr style=\"text-align: right;\">\n",
       "      <th></th>\n",
       "      <th>BsmtFullBath</th>\n",
       "      <th>BsmtHalfBath</th>\n",
       "      <th>FullBath</th>\n",
       "      <th>HalfBath</th>\n",
       "    </tr>\n",
       "  </thead>\n",
       "  <tbody>\n",
       "    <tr>\n",
       "      <th>754</th>\n",
       "      <td>1.0</td>\n",
       "      <td>0.0</td>\n",
       "      <td>1</td>\n",
       "      <td>0</td>\n",
       "    </tr>\n",
       "    <tr>\n",
       "      <th>404</th>\n",
       "      <td>0.0</td>\n",
       "      <td>0.0</td>\n",
       "      <td>1</td>\n",
       "      <td>0</td>\n",
       "    </tr>\n",
       "    <tr>\n",
       "      <th>697</th>\n",
       "      <td>1.0</td>\n",
       "      <td>0.0</td>\n",
       "      <td>2</td>\n",
       "      <td>0</td>\n",
       "    </tr>\n",
       "    <tr>\n",
       "      <th>538</th>\n",
       "      <td>0.0</td>\n",
       "      <td>0.0</td>\n",
       "      <td>2</td>\n",
       "      <td>0</td>\n",
       "    </tr>\n",
       "    <tr>\n",
       "      <th>606</th>\n",
       "      <td>1.0</td>\n",
       "      <td>0.0</td>\n",
       "      <td>2</td>\n",
       "      <td>0</td>\n",
       "    </tr>\n",
       "  </tbody>\n",
       "</table>\n",
       "</div>"
      ],
      "text/plain": [
       "     BsmtFullBath  BsmtHalfBath  FullBath  HalfBath\n",
       "754           1.0           0.0         1         0\n",
       "404           0.0           0.0         1         0\n",
       "697           1.0           0.0         2         0\n",
       "538           0.0           0.0         2         0\n",
       "606           1.0           0.0         2         0"
      ]
     },
     "metadata": {},
     "output_type": "display_data"
    }
   ],
   "source": [
    "bath_related = housing.filter(regex='Bath')\n",
    "bath_related.head()"
   ]
  },
  {
   "cell_type": "code",
   "execution_count": 62,
   "id": "d213d75a",
   "metadata": {},
   "outputs": [
    {
     "data": {
      "text/plain": [
       "2    1053\n",
       "1     964\n",
       "3      37\n",
       "0       7\n",
       "4       3\n",
       "Name: FullBath, dtype: int64"
      ]
     },
     "execution_count": 62,
     "metadata": {},
     "output_type": "execute_result"
    }
   ],
   "source": [
    "housing['FullBath'].value_counts()"
   ]
  },
  {
   "cell_type": "code",
   "execution_count": 61,
   "id": "b202b51d",
   "metadata": {},
   "outputs": [
    {
     "data": {
      "text/plain": [
       "<AxesSubplot:xlabel='FullBath', ylabel='SalePrice'>"
      ]
     },
     "execution_count": 61,
     "metadata": {},
     "output_type": "execute_result"
    },
    {
     "data": {
      "image/png": "[encoded data removed]",
      "text/plain": [
       "<Figure size 432x288 with 1 Axes>"
      ]
     },
     "metadata": {
      "needs_background": "light"
     },
     "output_type": "display_data"
    }
   ],
   "source": [
    "sns.boxplot(x='FullBath', y='SalePrice', data=housing)"
   ]
  },
  {
   "cell_type": "code",
   "execution_count": 63,
   "id": "8660daeb",
   "metadata": {},
   "outputs": [
    {
     "data": {
      "text/plain": [
       "0    1297\n",
       "1     755\n",
       "2      12\n",
       "Name: HalfBath, dtype: int64"
      ]
     },
     "execution_count": 63,
     "metadata": {},
     "output_type": "execute_result"
    }
   ],
   "source": [
    "housing['HalfBath'].value_counts()"
   ]
  },
  {
   "cell_type": "code",
   "execution_count": 64,
   "id": "45adc023",
   "metadata": {},
   "outputs": [
    {
     "data": {
      "text/plain": [
       "<AxesSubplot:xlabel='HalfBath', ylabel='SalePrice'>"
      ]
     },
     "execution_count": 64,
     "metadata": {},
     "output_type": "execute_result"
    },
    {
     "data": {
      "image/png": "[encoded data removed]",
      "text/plain": [
       "<Figure size 432x288 with 1 Axes>"
      ]
     },
     "metadata": {
      "needs_background": "light"
     },
     "output_type": "display_data"
    }
   ],
   "source": [
    "sns.boxplot(x='HalfBath', y='SalePrice', data=housing)"
   ]
  },
  {
   "cell_type": "raw",
   "id": "583a7a73",
   "metadata": {},
   "source": [
    "Conclusion: \n",
    "Keep: FullBath"
   ]
  },
  {
   "cell_type": "markdown",
   "id": "ce27ac9a",
   "metadata": {},
   "source": [
    "# Condition "
   ]
  },
  {
   "cell_type": "code",
   "execution_count": 72,
   "id": "86bc3e50",
   "metadata": {},
   "outputs": [
    {
     "data": {
      "application/vnd.jupyter.widget-view+json": {
       "model_id": "d33275d9c0ed4da9b6429c13959a624e"
      },
      "text/html": [
       "<div>\n",
       "<style scoped>\n",
       "    .dataframe tbody tr th:only-of-type {\n",
       "        vertical-align: middle;\n",
       "    }\n",
       "\n",
       "    .dataframe tbody tr th {\n",
       "        vertical-align: top;\n",
       "    }\n",
       "\n",
       "    .dataframe thead th {\n",
       "        text-align: right;\n",
       "    }\n",
       "</style>\n",
       "<table border=\"1\" class=\"dataframe\">\n",
       "  <thead>\n",
       "    <tr style=\"text-align: right;\">\n",
       "      <th></th>\n",
       "      <th>Condition1</th>\n",
       "      <th>Condition2</th>\n",
       "      <th>SaleCondition</th>\n",
       "    </tr>\n",
       "  </thead>\n",
       "  <tbody>\n",
       "    <tr>\n",
       "      <th>754</th>\n",
       "      <td>Norm</td>\n",
       "      <td>Norm</td>\n",
       "      <td>Normal</td>\n",
       "    </tr>\n",
       "    <tr>\n",
       "      <th>404</th>\n",
       "      <td>Norm</td>\n",
       "      <td>Norm</td>\n",
       "      <td>Normal</td>\n",
       "    </tr>\n",
       "    <tr>\n",
       "      <th>697</th>\n",
       "      <td>RRAe</td>\n",
       "      <td>Norm</td>\n",
       "      <td>Abnorml</td>\n",
       "    </tr>\n",
       "    <tr>\n",
       "      <th>538</th>\n",
       "      <td>RRAn</td>\n",
       "      <td>Feedr</td>\n",
       "      <td>Normal</td>\n",
       "    </tr>\n",
       "    <tr>\n",
       "      <th>606</th>\n",
       "      <td>Norm</td>\n",
       "      <td>Norm</td>\n",
       "      <td>Normal</td>\n",
       "    </tr>\n",
       "  </tbody>\n",
       "</table>\n",
       "</div>"
      ],
      "text/plain": [
       "    Condition1 Condition2 SaleCondition\n",
       "754       Norm       Norm        Normal\n",
       "404       Norm       Norm        Normal\n",
       "697       RRAe       Norm       Abnorml\n",
       "538       RRAn      Feedr        Normal\n",
       "606       Norm       Norm        Normal"
      ]
     },
     "metadata": {},
     "output_type": "display_data"
    }
   ],
   "source": [
    "con_related = housing.filter(regex='Condition')\n",
    "con_related.head()"
   ]
  },
  {
   "cell_type": "code",
   "execution_count": 68,
   "id": "c1c875df",
   "metadata": {},
   "outputs": [
    {
     "data": {
      "text/plain": [
       "Normal     1939\n",
       "Partial      59\n",
       "Abnorml      47\n",
       "Family       14\n",
       "Alloca        3\n",
       "AdjLand       2\n",
       "Name: SaleCondition, dtype: int64"
      ]
     },
     "execution_count": 68,
     "metadata": {},
     "output_type": "execute_result"
    }
   ],
   "source": [
    "housing['SaleCondition'].value_counts()"
   ]
  },
  {
   "cell_type": "code",
   "execution_count": 69,
   "id": "0efad719",
   "metadata": {},
   "outputs": [
    {
     "data": {
      "text/plain": [
       "<AxesSubplot:xlabel='SaleCondition', ylabel='SalePrice'>"
      ]
     },
     "execution_count": 69,
     "metadata": {},
     "output_type": "execute_result"
    },
    {
     "data": {
      "image/png": "[encoded data removed]",
      "text/plain": [
       "<Figure size 432x288 with 1 Axes>"
      ]
     },
     "metadata": {
      "needs_background": "light"
     },
     "output_type": "display_data"
    }
   ],
   "source": [
    "sns.boxplot(x='SaleCondition', y='SalePrice', data=housing)"
   ]
  },
  {
   "cell_type": "code",
   "execution_count": 74,
   "id": "e5d3cb6d",
   "metadata": {},
   "outputs": [],
   "source": [
    "housing = housing.loc[~(housing['SaleCondition'].str.contains('Family', case=False, regex=False, na=False))]"
   ]
  },
  {
   "cell_type": "code",
   "execution_count": 75,
   "id": "b423210b",
   "metadata": {},
   "outputs": [
    {
     "data": {
      "text/plain": [
       "Norm      1757\n",
       "Feedr      111\n",
       "Artery      72\n",
       "RRAn        36\n",
       "PosN        30\n",
       "RRAe        21\n",
       "PosA        13\n",
       "RRNn         6\n",
       "RRNe         4\n",
       "Name: Condition1, dtype: int64"
      ]
     },
     "execution_count": 75,
     "metadata": {},
     "output_type": "execute_result"
    }
   ],
   "source": [
    "housing['Condition1'].value_counts()"
   ]
  },
  {
   "cell_type": "code",
   "execution_count": 77,
   "id": "2c172b9d",
   "metadata": {},
   "outputs": [
    {
     "data": {
      "text/plain": [
       "<AxesSubplot:xlabel='Condition1', ylabel='SalePrice'>"
      ]
     },
     "execution_count": 77,
     "metadata": {},
     "output_type": "execute_result"
    },
    {
     "data": {
      "image/png": "[encoded data removed]",
      "text/plain": [
       "<Figure size 432x288 with 1 Axes>"
      ]
     },
     "metadata": {
      "needs_background": "light"
     },
     "output_type": "display_data"
    }
   ],
   "source": [
    "sns.boxplot(x='Condition1', y='SalePrice', data=housing)"
   ]
  },
  {
   "cell_type": "code",
   "execution_count": 78,
   "id": "67e65fbd",
   "metadata": {},
   "outputs": [
    {
     "data": {
      "text/plain": [
       "Norm      2033\n",
       "Feedr        9\n",
       "RRNn         2\n",
       "PosN         2\n",
       "PosA         2\n",
       "Artery       2\n",
       "Name: Condition2, dtype: int64"
      ]
     },
     "execution_count": 78,
     "metadata": {},
     "output_type": "execute_result"
    }
   ],
   "source": [
    "housing['Condition2'].value_counts()"
   ]
  },
  {
   "cell_type": "raw",
   "id": "aab3a592",
   "metadata": {},
   "source": [
    "Conclusion:\n",
    "We remove observations with salecondition = family "
   ]
  },
  {
   "cell_type": "markdown",
   "id": "0166b84c",
   "metadata": {},
   "source": [
    "# Exter"
   ]
  },
  {
   "cell_type": "code",
   "execution_count": 79,
   "id": "4088fc23",
   "metadata": {},
   "outputs": [
    {
     "data": {
      "application/vnd.jupyter.widget-view+json": {
       "model_id": "460b4100403642b089830017a4cb2695"
      },
      "text/html": [
       "<div>\n",
       "<style scoped>\n",
       "    .dataframe tbody tr th:only-of-type {\n",
       "        vertical-align: middle;\n",
       "    }\n",
       "\n",
       "    .dataframe tbody tr th {\n",
       "        vertical-align: top;\n",
       "    }\n",
       "\n",
       "    .dataframe thead th {\n",
       "        text-align: right;\n",
       "    }\n",
       "</style>\n",
       "<table border=\"1\" class=\"dataframe\">\n",
       "  <thead>\n",
       "    <tr style=\"text-align: right;\">\n",
       "      <th></th>\n",
       "      <th>Exterior1st</th>\n",
       "      <th>Exterior2nd</th>\n",
       "      <th>ExterQual</th>\n",
       "      <th>ExterCond</th>\n",
       "    </tr>\n",
       "  </thead>\n",
       "  <tbody>\n",
       "    <tr>\n",
       "      <th>754</th>\n",
       "      <td>HdBoard</td>\n",
       "      <td>HdBoard</td>\n",
       "      <td>TA</td>\n",
       "      <td>TA</td>\n",
       "    </tr>\n",
       "    <tr>\n",
       "      <th>404</th>\n",
       "      <td>Wd Sdng</td>\n",
       "      <td>Wd Sdng</td>\n",
       "      <td>TA</td>\n",
       "      <td>TA</td>\n",
       "    </tr>\n",
       "    <tr>\n",
       "      <th>697</th>\n",
       "      <td>HdBoard</td>\n",
       "      <td>HdBoard</td>\n",
       "      <td>TA</td>\n",
       "      <td>TA</td>\n",
       "    </tr>\n",
       "    <tr>\n",
       "      <th>538</th>\n",
       "      <td>Stucco</td>\n",
       "      <td>Stucco</td>\n",
       "      <td>TA</td>\n",
       "      <td>TA</td>\n",
       "    </tr>\n",
       "    <tr>\n",
       "      <th>606</th>\n",
       "      <td>VinylSd</td>\n",
       "      <td>VinylSd</td>\n",
       "      <td>Gd</td>\n",
       "      <td>TA</td>\n",
       "    </tr>\n",
       "  </tbody>\n",
       "</table>\n",
       "</div>"
      ],
      "text/plain": [
       "    Exterior1st Exterior2nd ExterQual ExterCond\n",
       "754     HdBoard     HdBoard        TA        TA\n",
       "404     Wd Sdng     Wd Sdng        TA        TA\n",
       "697     HdBoard     HdBoard        TA        TA\n",
       "538      Stucco      Stucco        TA        TA\n",
       "606     VinylSd     VinylSd        Gd        TA"
      ]
     },
     "metadata": {},
     "output_type": "display_data"
    }
   ],
   "source": [
    "exter_related = housing.filter(regex='Exter')\n",
    "exter_related.head()"
   ]
  },
  {
   "cell_type": "code",
   "execution_count": 80,
   "id": "85bdbd92",
   "metadata": {},
   "outputs": [
    {
     "data": {
      "text/plain": [
       "TA    1765\n",
       "Gd     227\n",
       "Fa      47\n",
       "Ex      10\n",
       "Po       1\n",
       "Name: ExterCond, dtype: int64"
      ]
     },
     "execution_count": 80,
     "metadata": {},
     "output_type": "execute_result"
    }
   ],
   "source": [
    "housing['ExterCond'].value_counts()"
   ]
  },
  {
   "cell_type": "code",
   "execution_count": 81,
   "id": "ae2142a5",
   "metadata": {},
   "outputs": [
    {
     "data": {
      "text/plain": [
       "<AxesSubplot:xlabel='ExterCond', ylabel='SalePrice'>"
      ]
     },
     "execution_count": 81,
     "metadata": {},
     "output_type": "execute_result"
    },
    {
     "data": {
      "image/png": "[encoded data removed]",
      "text/plain": [
       "<Figure size 432x288 with 1 Axes>"
      ]
     },
     "metadata": {
      "needs_background": "light"
     },
     "output_type": "display_data"
    }
   ],
   "source": [
    "sns.boxplot(x='ExterCond', y='SalePrice', data=housing)"
   ]
  },
  {
   "cell_type": "code",
   "execution_count": 84,
   "id": "74c27b20",
   "metadata": {},
   "outputs": [
    {
     "data": {
      "text/plain": [
       "TA    1294\n",
       "Gd     679\n",
       "Ex      51\n",
       "Fa      26\n",
       "Name: ExterQual, dtype: int64"
      ]
     },
     "execution_count": 84,
     "metadata": {},
     "output_type": "execute_result"
    }
   ],
   "source": [
    "housing['ExterQual'].value_counts()"
   ]
  },
  {
   "cell_type": "code",
   "execution_count": 85,
   "id": "62ad4c83",
   "metadata": {},
   "outputs": [
    {
     "data": {
      "text/plain": [
       "<AxesSubplot:xlabel='ExterQual', ylabel='SalePrice'>"
      ]
     },
     "execution_count": 85,
     "metadata": {},
     "output_type": "execute_result"
    },
    {
     "data": {
      "image/png": "[encoded data removed]",
      "text/plain": [
       "<Figure size 432x288 with 1 Axes>"
      ]
     },
     "metadata": {
      "needs_background": "light"
     },
     "output_type": "display_data"
    }
   ],
   "source": [
    "sns.boxplot(x='ExterQual', y='SalePrice', data=housing)"
   ]
  },
  {
   "cell_type": "code",
   "execution_count": 86,
   "id": "974237d0",
   "metadata": {},
   "outputs": [
    {
     "data": {
      "text/plain": [
       "VinylSd    673\n",
       "HdBoard    336\n",
       "MetalSd    331\n",
       "Wd Sdng    319\n",
       "Plywood    151\n",
       "CemntBd     81\n",
       "BrkFace     55\n",
       "WdShing     42\n",
       "AsbShng     26\n",
       "Stucco      26\n",
       "BrkComm      5\n",
       "CBlock       2\n",
       "AsphShn      1\n",
       "ImStucc      1\n",
       "PreCast      1\n",
       "Name: Exterior1st, dtype: int64"
      ]
     },
     "execution_count": 86,
     "metadata": {},
     "output_type": "execute_result"
    }
   ],
   "source": [
    "housing['Exterior1st'].value_counts()"
   ]
  },
  {
   "cell_type": "code",
   "execution_count": 90,
   "id": "40275ed3",
   "metadata": {},
   "outputs": [
    {
     "data": {
      "text/plain": [
       "[Text(0, 0, 'HdBoard'),\n",
       " Text(1, 0, 'Wd Sdng'),\n",
       " Text(2, 0, 'Stucco'),\n",
       " Text(3, 0, 'VinylSd'),\n",
       " Text(4, 0, 'BrkFace'),\n",
       " Text(5, 0, 'MetalSd'),\n",
       " Text(6, 0, 'BrkComm'),\n",
       " Text(7, 0, 'CemntBd'),\n",
       " Text(8, 0, 'Plywood'),\n",
       " Text(9, 0, 'AsbShng'),\n",
       " Text(10, 0, 'WdShing'),\n",
       " Text(11, 0, 'CBlock'),\n",
       " Text(12, 0, 'PreCast'),\n",
       " Text(13, 0, 'AsphShn'),\n",
       " Text(14, 0, 'ImStucc')]"
      ]
     },
     "execution_count": 90,
     "metadata": {},
     "output_type": "execute_result"
    },
    {
     "data": {
      "image/png": "[encoded data removed]",
      "text/plain": [
       "<Figure size 432x288 with 1 Axes>"
      ]
     },
     "metadata": {
      "needs_background": "light"
     },
     "output_type": "display_data"
    }
   ],
   "source": [
    "ax = sns.boxplot(x='Exterior1st', y='SalePrice', data=housing)\n",
    "ax.set_xticklabels(ax.get_xticklabels(),rotation=30)"
   ]
  },
  {
   "cell_type": "raw",
   "id": "31ab6387",
   "metadata": {},
   "source": [
    "Conclusion:\n",
    "Keep: ExterQual"
   ]
  },
  {
   "cell_type": "markdown",
   "id": "7bf774c7",
   "metadata": {},
   "source": [
    "# Fireplace"
   ]
  },
  {
   "cell_type": "code",
   "execution_count": 91,
   "id": "b22d8f3b",
   "metadata": {},
   "outputs": [
    {
     "data": {
      "application/vnd.jupyter.widget-view+json": {
       "model_id": "3a0d761e07d14f61bc668db3fc9f9275"
      },
      "text/html": [
       "<div>\n",
       "<style scoped>\n",
       "    .dataframe tbody tr th:only-of-type {\n",
       "        vertical-align: middle;\n",
       "    }\n",
       "\n",
       "    .dataframe tbody tr th {\n",
       "        vertical-align: top;\n",
       "    }\n",
       "\n",
       "    .dataframe thead th {\n",
       "        text-align: right;\n",
       "    }\n",
       "</style>\n",
       "<table border=\"1\" class=\"dataframe\">\n",
       "  <thead>\n",
       "    <tr style=\"text-align: right;\">\n",
       "      <th></th>\n",
       "      <th>Fireplaces</th>\n",
       "      <th>FireplaceQu</th>\n",
       "    </tr>\n",
       "  </thead>\n",
       "  <tbody>\n",
       "    <tr>\n",
       "      <th>754</th>\n",
       "      <td>0</td>\n",
       "      <td>NaN</td>\n",
       "    </tr>\n",
       "    <tr>\n",
       "      <th>404</th>\n",
       "      <td>1</td>\n",
       "      <td>Gd</td>\n",
       "    </tr>\n",
       "    <tr>\n",
       "      <th>697</th>\n",
       "      <td>0</td>\n",
       "      <td>NaN</td>\n",
       "    </tr>\n",
       "    <tr>\n",
       "      <th>538</th>\n",
       "      <td>0</td>\n",
       "      <td>NaN</td>\n",
       "    </tr>\n",
       "    <tr>\n",
       "      <th>606</th>\n",
       "      <td>1</td>\n",
       "      <td>Gd</td>\n",
       "    </tr>\n",
       "  </tbody>\n",
       "</table>\n",
       "</div>"
      ],
      "text/plain": [
       "     Fireplaces FireplaceQu\n",
       "754           0         NaN\n",
       "404           1          Gd\n",
       "697           0         NaN\n",
       "538           0         NaN\n",
       "606           1          Gd"
      ]
     },
     "metadata": {},
     "output_type": "display_data"
    }
   ],
   "source": [
    "Fire_related = housing.filter(regex='Fire')\n",
    "Fire_related.head()"
   ]
  },
  {
   "cell_type": "code",
   "execution_count": 92,
   "id": "a075eed3",
   "metadata": {},
   "outputs": [
    {
     "data": {
      "text/plain": [
       "0    988\n",
       "1    901\n",
       "2    152\n",
       "3      8\n",
       "4      1\n",
       "Name: Fireplaces, dtype: int64"
      ]
     },
     "execution_count": 92,
     "metadata": {},
     "output_type": "execute_result"
    }
   ],
   "source": [
    "housing['Fireplaces'].value_counts()"
   ]
  },
  {
   "cell_type": "code",
   "execution_count": 93,
   "id": "89f116ae",
   "metadata": {},
   "outputs": [
    {
     "data": {
      "text/plain": [
       "<AxesSubplot:xlabel='Fireplaces', ylabel='SalePrice'>"
      ]
     },
     "execution_count": 93,
     "metadata": {},
     "output_type": "execute_result"
    },
    {
     "data": {
      "image/png": "[encoded data removed]",
      "text/plain": [
       "<Figure size 432x288 with 1 Axes>"
      ]
     },
     "metadata": {
      "needs_background": "light"
     },
     "output_type": "display_data"
    }
   ],
   "source": [
    "sns.boxplot(x='Fireplaces', y='SalePrice', data=housing)"
   ]
  },
  {
   "cell_type": "code",
   "execution_count": 94,
   "id": "ca357b78",
   "metadata": {},
   "outputs": [
    {
     "data": {
      "text/plain": [
       "Gd    485\n",
       "TA    458\n",
       "Fa     57\n",
       "Po     34\n",
       "Ex     28\n",
       "Name: FireplaceQu, dtype: int64"
      ]
     },
     "execution_count": 94,
     "metadata": {},
     "output_type": "execute_result"
    }
   ],
   "source": [
    "housing['FireplaceQu'].value_counts()"
   ]
  },
  {
   "cell_type": "code",
   "execution_count": 95,
   "id": "b3067128",
   "metadata": {},
   "outputs": [
    {
     "data": {
      "text/plain": [
       "<AxesSubplot:xlabel='FireplaceQu', ylabel='SalePrice'>"
      ]
     },
     "execution_count": 95,
     "metadata": {},
     "output_type": "execute_result"
    },
    {
     "data": {
      "image/png": "[encoded data removed]",
      "text/plain": [
       "<Figure size 432x288 with 1 Axes>"
      ]
     },
     "metadata": {
      "needs_background": "light"
     },
     "output_type": "display_data"
    }
   ],
   "source": [
    "sns.boxplot(x='FireplaceQu', y='SalePrice', data=housing)"
   ]
  },
  {
   "cell_type": "raw",
   "id": "d07b6276",
   "metadata": {},
   "source": [
    "Conclusion:\n",
    "Keep: Fireplaces"
   ]
  },
  {
   "cell_type": "markdown",
   "id": "3ca76647",
   "metadata": {},
   "source": [
    "# Kitchen"
   ]
  },
  {
   "cell_type": "code",
   "execution_count": 98,
   "id": "4a2b4fce",
   "metadata": {},
   "outputs": [
    {
     "data": {
      "application/vnd.jupyter.widget-view+json": {
       "model_id": "db0e530498cb4e12bb63d16cc1481756"
      },
      "text/html": [
       "<div>\n",
       "<style scoped>\n",
       "    .dataframe tbody tr th:only-of-type {\n",
       "        vertical-align: middle;\n",
       "    }\n",
       "\n",
       "    .dataframe tbody tr th {\n",
       "        vertical-align: top;\n",
       "    }\n",
       "\n",
       "    .dataframe thead th {\n",
       "        text-align: right;\n",
       "    }\n",
       "</style>\n",
       "<table border=\"1\" class=\"dataframe\">\n",
       "  <thead>\n",
       "    <tr style=\"text-align: right;\">\n",
       "      <th></th>\n",
       "      <th>KitchenAbvGr</th>\n",
       "      <th>KitchenQual</th>\n",
       "    </tr>\n",
       "  </thead>\n",
       "  <tbody>\n",
       "    <tr>\n",
       "      <th>754</th>\n",
       "      <td>1</td>\n",
       "      <td>TA</td>\n",
       "    </tr>\n",
       "    <tr>\n",
       "      <th>404</th>\n",
       "      <td>1</td>\n",
       "      <td>TA</td>\n",
       "    </tr>\n",
       "    <tr>\n",
       "      <th>697</th>\n",
       "      <td>2</td>\n",
       "      <td>TA</td>\n",
       "    </tr>\n",
       "    <tr>\n",
       "      <th>538</th>\n",
       "      <td>1</td>\n",
       "      <td>TA</td>\n",
       "    </tr>\n",
       "    <tr>\n",
       "      <th>606</th>\n",
       "      <td>1</td>\n",
       "      <td>Gd</td>\n",
       "    </tr>\n",
       "  </tbody>\n",
       "</table>\n",
       "</div>"
      ],
      "text/plain": [
       "     KitchenAbvGr KitchenQual\n",
       "754             1          TA\n",
       "404             1          TA\n",
       "697             2          TA\n",
       "538             1          TA\n",
       "606             1          Gd"
      ]
     },
     "metadata": {},
     "output_type": "display_data"
    }
   ],
   "source": [
    "kit_related = housing.filter(regex='Kitchen')\n",
    "kit_related.head()"
   ]
  },
  {
   "cell_type": "code",
   "execution_count": 99,
   "id": "6e0708a4",
   "metadata": {},
   "outputs": [
    {
     "data": {
      "text/plain": [
       "1    1971\n",
       "2      76\n",
       "0       2\n",
       "3       1\n",
       "Name: KitchenAbvGr, dtype: int64"
      ]
     },
     "execution_count": 99,
     "metadata": {},
     "output_type": "execute_result"
    }
   ],
   "source": [
    "housing['KitchenAbvGr'].value_counts()"
   ]
  },
  {
   "cell_type": "code",
   "execution_count": 100,
   "id": "0e2b6d4a",
   "metadata": {},
   "outputs": [
    {
     "data": {
      "text/plain": [
       "<AxesSubplot:xlabel='KitchenAbvGr', ylabel='SalePrice'>"
      ]
     },
     "execution_count": 100,
     "metadata": {},
     "output_type": "execute_result"
    },
    {
     "data": {
      "image/png": "[encoded data removed]",
      "text/plain": [
       "<Figure size 432x288 with 1 Axes>"
      ]
     },
     "metadata": {
      "needs_background": "light"
     },
     "output_type": "display_data"
    }
   ],
   "source": [
    "sns.boxplot(x='KitchenAbvGr', y='SalePrice', data=housing)"
   ]
  },
  {
   "cell_type": "code",
   "execution_count": 101,
   "id": "81817f7f",
   "metadata": {},
   "outputs": [
    {
     "data": {
      "text/plain": [
       "TA    1065\n",
       "Gd     827\n",
       "Ex     108\n",
       "Fa      49\n",
       "Po       1\n",
       "Name: KitchenQual, dtype: int64"
      ]
     },
     "execution_count": 101,
     "metadata": {},
     "output_type": "execute_result"
    }
   ],
   "source": [
    "housing['KitchenQual'].value_counts()"
   ]
  },
  {
   "cell_type": "code",
   "execution_count": 102,
   "id": "aeda9d51",
   "metadata": {},
   "outputs": [
    {
     "data": {
      "text/plain": [
       "<AxesSubplot:xlabel='KitchenQual', ylabel='SalePrice'>"
      ]
     },
     "execution_count": 102,
     "metadata": {},
     "output_type": "execute_result"
    },
    {
     "data": {
      "image/png": "[encoded data removed]",
      "text/plain": [
       "<Figure size 432x288 with 1 Axes>"
      ]
     },
     "metadata": {
      "needs_background": "light"
     },
     "output_type": "display_data"
    }
   ],
   "source": [
    "sns.boxplot(x='KitchenQual', y='SalePrice', data=housing)"
   ]
  },
  {
   "cell_type": "code",
   "execution_count": null,
   "id": "ebdd0ce8",
   "metadata": {},
   "outputs": [],
   "source": [
    "Conclusion:\n",
    "Keep: KitchenQual"
   ]
  },
  {
   "cell_type": "markdown",
   "id": "d5146ff6",
   "metadata": {},
   "source": [
    "# Heating/AC"
   ]
  },
  {
   "cell_type": "code",
   "execution_count": 103,
   "id": "5cd41015",
   "metadata": {},
   "outputs": [
    {
     "data": {
      "application/vnd.jupyter.widget-view+json": {
       "model_id": "500312106c6f449680ac5c489996ffe2"
      },
      "text/html": [
       "<div>\n",
       "<style scoped>\n",
       "    .dataframe tbody tr th:only-of-type {\n",
       "        vertical-align: middle;\n",
       "    }\n",
       "\n",
       "    .dataframe tbody tr th {\n",
       "        vertical-align: top;\n",
       "    }\n",
       "\n",
       "    .dataframe thead th {\n",
       "        text-align: right;\n",
       "    }\n",
       "</style>\n",
       "<table border=\"1\" class=\"dataframe\">\n",
       "  <thead>\n",
       "    <tr style=\"text-align: right;\">\n",
       "      <th></th>\n",
       "      <th>Heating</th>\n",
       "      <th>HeatingQC</th>\n",
       "    </tr>\n",
       "  </thead>\n",
       "  <tbody>\n",
       "    <tr>\n",
       "      <th>754</th>\n",
       "      <td>GasA</td>\n",
       "      <td>Ex</td>\n",
       "    </tr>\n",
       "    <tr>\n",
       "      <th>404</th>\n",
       "      <td>GasA</td>\n",
       "      <td>TA</td>\n",
       "    </tr>\n",
       "    <tr>\n",
       "      <th>697</th>\n",
       "      <td>GasA</td>\n",
       "      <td>TA</td>\n",
       "    </tr>\n",
       "    <tr>\n",
       "      <th>538</th>\n",
       "      <td>GasA</td>\n",
       "      <td>Gd</td>\n",
       "    </tr>\n",
       "    <tr>\n",
       "      <th>606</th>\n",
       "      <td>GasA</td>\n",
       "      <td>Ex</td>\n",
       "    </tr>\n",
       "  </tbody>\n",
       "</table>\n",
       "</div>"
      ],
      "text/plain": [
       "    Heating HeatingQC\n",
       "754    GasA        Ex\n",
       "404    GasA        TA\n",
       "697    GasA        TA\n",
       "538    GasA        Gd\n",
       "606    GasA        Ex"
      ]
     },
     "metadata": {},
     "output_type": "display_data"
    }
   ],
   "source": [
    "heat_related = housing.filter(regex='Heating')\n",
    "heat_related.head()"
   ]
  },
  {
   "cell_type": "code",
   "execution_count": 104,
   "id": "5eadaf7c",
   "metadata": {},
   "outputs": [
    {
     "data": {
      "text/plain": [
       "GasA     2022\n",
       "GasW       19\n",
       "Grav        4\n",
       "Wall        3\n",
       "OthW        1\n",
       "Floor       1\n",
       "Name: Heating, dtype: int64"
      ]
     },
     "execution_count": 104,
     "metadata": {},
     "output_type": "execute_result"
    }
   ],
   "source": [
    "housing['Heating'].value_counts()"
   ]
  },
  {
   "cell_type": "code",
   "execution_count": 105,
   "id": "00a190be",
   "metadata": {},
   "outputs": [
    {
     "data": {
      "text/plain": [
       "<AxesSubplot:xlabel='Heating', ylabel='SalePrice'>"
      ]
     },
     "execution_count": 105,
     "metadata": {},
     "output_type": "execute_result"
    },
    {
     "data": {
      "image/png": "[encoded data removed]",
      "text/plain": [
       "<Figure size 432x288 with 1 Axes>"
      ]
     },
     "metadata": {
      "needs_background": "light"
     },
     "output_type": "display_data"
    }
   ],
   "source": [
    "sns.boxplot(x='Heating', y='SalePrice', data=housing)"
   ]
  },
  {
   "cell_type": "code",
   "execution_count": 106,
   "id": "466dab95",
   "metadata": {},
   "outputs": [
    {
     "data": {
      "text/plain": [
       "Ex    1026\n",
       "TA     613\n",
       "Gd     352\n",
       "Fa      58\n",
       "Po       1\n",
       "Name: HeatingQC, dtype: int64"
      ]
     },
     "execution_count": 106,
     "metadata": {},
     "output_type": "execute_result"
    }
   ],
   "source": [
    "housing['HeatingQC'].value_counts()"
   ]
  },
  {
   "cell_type": "code",
   "execution_count": 107,
   "id": "9352182c",
   "metadata": {},
   "outputs": [
    {
     "data": {
      "text/plain": [
       "<AxesSubplot:xlabel='HeatingQC', ylabel='SalePrice'>"
      ]
     },
     "execution_count": 107,
     "metadata": {},
     "output_type": "execute_result"
    },
    {
     "data": {
      "image/png": "[encoded data removed]",
      "text/plain": [
       "<Figure size 432x288 with 1 Axes>"
      ]
     },
     "metadata": {
      "needs_background": "light"
     },
     "output_type": "display_data"
    }
   ],
   "source": [
    "sns.boxplot(x='HeatingQC', y='SalePrice', data=housing)"
   ]
  },
  {
   "cell_type": "code",
   "execution_count": 108,
   "id": "da7ff271",
   "metadata": {},
   "outputs": [
    {
     "data": {
      "text/plain": [
       "Y    1925\n",
       "N     125\n",
       "Name: CentralAir, dtype: int64"
      ]
     },
     "execution_count": 108,
     "metadata": {},
     "output_type": "execute_result"
    }
   ],
   "source": [
    "housing['CentralAir'].value_counts()"
   ]
  },
  {
   "cell_type": "code",
   "execution_count": 109,
   "id": "cfc9b26b",
   "metadata": {},
   "outputs": [
    {
     "data": {
      "text/plain": [
       "<AxesSubplot:xlabel='CentralAir', ylabel='SalePrice'>"
      ]
     },
     "execution_count": 109,
     "metadata": {},
     "output_type": "execute_result"
    },
    {
     "data": {
      "image/png": "[encoded data removed]",
      "text/plain": [
       "<Figure size 432x288 with 1 Axes>"
      ]
     },
     "metadata": {
      "needs_background": "light"
     },
     "output_type": "display_data"
    }
   ],
   "source": [
    "sns.boxplot(x='CentralAir', y='SalePrice', data=housing)"
   ]
  },
  {
   "cell_type": "code",
   "execution_count": null,
   "id": "2da0c6d1",
   "metadata": {},
   "outputs": [],
   "source": [
    "Conclusion:\n",
    "Keep: HeatingQC, CentralAir"
   ]
  },
  {
   "cell_type": "markdown",
   "id": "dde583fb",
   "metadata": {},
   "source": [
    "# Roof"
   ]
  },
  {
   "cell_type": "code",
   "execution_count": 110,
   "id": "e539b761",
   "metadata": {},
   "outputs": [
    {
     "data": {
      "application/vnd.jupyter.widget-view+json": {
       "model_id": "e086b7a8f4c4481b9d12c5b26f7f7bbe"
      },
      "text/html": [
       "<div>\n",
       "<style scoped>\n",
       "    .dataframe tbody tr th:only-of-type {\n",
       "        vertical-align: middle;\n",
       "    }\n",
       "\n",
       "    .dataframe tbody tr th {\n",
       "        vertical-align: top;\n",
       "    }\n",
       "\n",
       "    .dataframe thead th {\n",
       "        text-align: right;\n",
       "    }\n",
       "</style>\n",
       "<table border=\"1\" class=\"dataframe\">\n",
       "  <thead>\n",
       "    <tr style=\"text-align: right;\">\n",
       "      <th></th>\n",
       "      <th>RoofStyle</th>\n",
       "      <th>RoofMatl</th>\n",
       "    </tr>\n",
       "  </thead>\n",
       "  <tbody>\n",
       "    <tr>\n",
       "      <th>754</th>\n",
       "      <td>Hip</td>\n",
       "      <td>CompShg</td>\n",
       "    </tr>\n",
       "    <tr>\n",
       "      <th>404</th>\n",
       "      <td>Gable</td>\n",
       "      <td>CompShg</td>\n",
       "    </tr>\n",
       "    <tr>\n",
       "      <th>697</th>\n",
       "      <td>Gable</td>\n",
       "      <td>CompShg</td>\n",
       "    </tr>\n",
       "    <tr>\n",
       "      <th>538</th>\n",
       "      <td>Gable</td>\n",
       "      <td>CompShg</td>\n",
       "    </tr>\n",
       "    <tr>\n",
       "      <th>606</th>\n",
       "      <td>Gable</td>\n",
       "      <td>CompShg</td>\n",
       "    </tr>\n",
       "  </tbody>\n",
       "</table>\n",
       "</div>"
      ],
      "text/plain": [
       "    RoofStyle RoofMatl\n",
       "754       Hip  CompShg\n",
       "404     Gable  CompShg\n",
       "697     Gable  CompShg\n",
       "538     Gable  CompShg\n",
       "606     Gable  CompShg"
      ]
     },
     "metadata": {},
     "output_type": "display_data"
    }
   ],
   "source": [
    "roof_related = housing.filter(regex='Roof')\n",
    "roof_related.head()"
   ]
  },
  {
   "cell_type": "code",
   "execution_count": 111,
   "id": "7d575330",
   "metadata": {},
   "outputs": [
    {
     "data": {
      "text/plain": [
       "CompShg    2018\n",
       "Tar&Grv      16\n",
       "WdShake       7\n",
       "WdShngl       6\n",
       "Metal         1\n",
       "Roll          1\n",
       "Membran       1\n",
       "Name: RoofMatl, dtype: int64"
      ]
     },
     "execution_count": 111,
     "metadata": {},
     "output_type": "execute_result"
    }
   ],
   "source": [
    "housing['RoofMatl'].value_counts()"
   ]
  },
  {
   "cell_type": "code",
   "execution_count": 113,
   "id": "552b8280",
   "metadata": {},
   "outputs": [
    {
     "data": {
      "text/plain": [
       "Gable      1645\n",
       "Hip         364\n",
       "Gambrel      17\n",
       "Flat         15\n",
       "Mansard       6\n",
       "Shed          3\n",
       "Name: RoofStyle, dtype: int64"
      ]
     },
     "execution_count": 113,
     "metadata": {},
     "output_type": "execute_result"
    }
   ],
   "source": [
    "housing['RoofStyle'].value_counts()"
   ]
  },
  {
   "cell_type": "code",
   "execution_count": 114,
   "id": "afaf566f",
   "metadata": {},
   "outputs": [
    {
     "data": {
      "text/plain": [
       "<AxesSubplot:xlabel='RoofStyle', ylabel='SalePrice'>"
      ]
     },
     "execution_count": 114,
     "metadata": {},
     "output_type": "execute_result"
    },
    {
     "data": {
      "image/png": "[encoded data removed]",
      "text/plain": [
       "<Figure size 432x288 with 1 Axes>"
      ]
     },
     "metadata": {
      "needs_background": "light"
     },
     "output_type": "display_data"
    }
   ],
   "source": [
    "sns.boxplot(x='RoofStyle', y='SalePrice', data=housing)"
   ]
  },
  {
   "cell_type": "raw",
   "id": "5086d8c0",
   "metadata": {},
   "source": [
    "Conclusion: roof related variables are not good predictors of sale price "
   ]
  },
  {
   "cell_type": "markdown",
   "id": "ca9618a3",
   "metadata": {},
   "source": [
    "# Year/Month"
   ]
  },
  {
   "cell_type": "code",
   "execution_count": 116,
   "id": "64763f5a",
   "metadata": {},
   "outputs": [
    {
     "data": {
      "text/plain": [
       "<AxesSubplot:xlabel='MoSold'>"
      ]
     },
     "execution_count": 116,
     "metadata": {},
     "output_type": "execute_result"
    },
    {
     "data": {
      "image/png": "[encoded data removed]",
      "text/plain": [
       "<Figure size 432x288 with 1 Axes>"
      ]
     },
     "metadata": {
      "needs_background": "light"
     },
     "output_type": "display_data"
    }
   ],
   "source": [
    "housing_mo = housing.groupby(['MoSold']).agg(MoSold_size=('MoSold', 'size'), SalePrice_mean=('SalePrice', 'mean')).reset_index()\n",
    "housing_mo.plot.bar(x='MoSold', y='SalePrice_mean')"
   ]
  },
  {
   "cell_type": "code",
   "execution_count": 119,
   "id": "932f2db8",
   "metadata": {},
   "outputs": [
    {
     "data": {
      "text/plain": [
       "<AxesSubplot:xlabel='MoSold'>"
      ]
     },
     "execution_count": 119,
     "metadata": {},
     "output_type": "execute_result"
    },
    {
     "data": {
      "image/png": "[encoded data removed]",
      "text/plain": [
       "<Figure size 432x288 with 1 Axes>"
      ]
     },
     "metadata": {
      "needs_background": "light"
     },
     "output_type": "display_data"
    }
   ],
   "source": [
    "housing_mo.plot.bar(x='MoSold', y='MoSold_size')"
   ]
  },
  {
   "cell_type": "code",
   "execution_count": 124,
   "id": "cd737c6c",
   "metadata": {},
   "outputs": [
    {
     "data": {
      "text/plain": [
       "<AxesSubplot:xlabel='YearBuilt', ylabel='SalePrice_mean'>"
      ]
     },
     "execution_count": 124,
     "metadata": {},
     "output_type": "execute_result"
    },
    {
     "data": {
      "image/png": "[encoded data removed]",
      "text/plain": [
       "<Figure size 432x288 with 1 Axes>"
      ]
     },
     "metadata": {
      "needs_background": "light"
     },
     "output_type": "display_data"
    }
   ],
   "source": [
    "housing_yr = housing.groupby(['YearBuilt']).agg(SalePrice_mean=('SalePrice', 'mean')).reset_index()\n",
    "housing_yr.plot.scatter(x='YearBuilt', y='SalePrice_mean')"
   ]
  },
  {
   "cell_type": "code",
   "execution_count": 126,
   "id": "831728eb",
   "metadata": {},
   "outputs": [
    {
     "data": {
      "text/plain": [
       "<AxesSubplot:xlabel='YearRemodAdd', ylabel='SalePrice_mean'>"
      ]
     },
     "execution_count": 126,
     "metadata": {},
     "output_type": "execute_result"
    },
    {
     "data": {
      "image/png": "[encoded data removed]",
      "text/plain": [
       "<Figure size 432x288 with 1 Axes>"
      ]
     },
     "metadata": {
      "needs_background": "light"
     },
     "output_type": "display_data"
    }
   ],
   "source": [
    "housing_rem = housing.groupby(['YearRemodAdd']).agg(SalePrice_mean=('SalePrice', 'mean')).reset_index()\n",
    "housing_rem.plot.scatter(x='YearRemodAdd', y='SalePrice_mean')"
   ]
  },
  {
   "cell_type": "raw",
   "id": "685c6355",
   "metadata": {},
   "source": [
    "Conclusion:\n",
    "Keep: YearBuilt, YearRemodAdd\n",
    "No seasonal trend"
   ]
  },
  {
   "cell_type": "markdown",
   "id": "6d88b559",
   "metadata": {},
   "source": [
    "# MS"
   ]
  },
  {
   "cell_type": "code",
   "execution_count": 127,
   "id": "f9577a0d",
   "metadata": {},
   "outputs": [
    {
     "data": {
      "text/plain": [
       "20     750\n",
       "60     401\n",
       "50     214\n",
       "120    130\n",
       "30      97\n",
       "70      91\n",
       "160     90\n",
       "80      88\n",
       "90      64\n",
       "190     44\n",
       "85      32\n",
       "75      16\n",
       "45      14\n",
       "180     13\n",
       "40       5\n",
       "150      1\n",
       "Name: MSSubClass, dtype: int64"
      ]
     },
     "execution_count": 127,
     "metadata": {},
     "output_type": "execute_result"
    }
   ],
   "source": [
    "housing['MSSubClass'].value_counts()"
   ]
  },
  {
   "cell_type": "code",
   "execution_count": 128,
   "id": "e623e491",
   "metadata": {},
   "outputs": [
    {
     "data": {
      "text/plain": [
       "<AxesSubplot:xlabel='MSSubClass', ylabel='SalePrice'>"
      ]
     },
     "execution_count": 128,
     "metadata": {},
     "output_type": "execute_result"
    },
    {
     "data": {
      "image/png": "[encoded data removed]",
      "text/plain": [
       "<Figure size 432x288 with 1 Axes>"
      ]
     },
     "metadata": {
      "needs_background": "light"
     },
     "output_type": "display_data"
    }
   ],
   "source": [
    "sns.boxplot(x='MSSubClass', y='SalePrice', data=housing)"
   ]
  },
  {
   "cell_type": "code",
   "execution_count": 129,
   "id": "204cfb9d",
   "metadata": {},
   "outputs": [
    {
     "data": {
      "text/plain": [
       "RL         1599\n",
       "RM          325\n",
       "FV           94\n",
       "RH           15\n",
       "C (all)      14\n",
       "I (all)       2\n",
       "A (agr)       1\n",
       "Name: MSZoning, dtype: int64"
      ]
     },
     "execution_count": 129,
     "metadata": {},
     "output_type": "execute_result"
    }
   ],
   "source": [
    "housing['MSZoning'].value_counts()"
   ]
  },
  {
   "cell_type": "code",
   "execution_count": 130,
   "id": "bd6b0903",
   "metadata": {
    "scrolled": true
   },
   "outputs": [
    {
     "data": {
      "text/plain": [
       "<AxesSubplot:xlabel='MSZoning', ylabel='SalePrice'>"
      ]
     },
     "execution_count": 130,
     "metadata": {},
     "output_type": "execute_result"
    },
    {
     "data": {
      "image/png": "[encoded data removed]",
      "text/plain": [
       "<Figure size 432x288 with 1 Axes>"
      ]
     },
     "metadata": {
      "needs_background": "light"
     },
     "output_type": "display_data"
    }
   ],
   "source": [
    "sns.boxplot(x='MSZoning', y='SalePrice', data=housing)"
   ]
  },
  {
   "cell_type": "raw",
   "id": "fbfbd842",
   "metadata": {},
   "source": [
    "Conclusion:\n",
    "Keep: MSZoning"
   ]
  },
  {
   "cell_type": "markdown",
   "id": "7148c65e",
   "metadata": {},
   "source": [
    "# Access"
   ]
  },
  {
   "cell_type": "code",
   "execution_count": 131,
   "id": "fdadcb66",
   "metadata": {},
   "outputs": [
    {
     "data": {
      "text/plain": [
       "Pave    2042\n",
       "Grvl       8\n",
       "Name: Street, dtype: int64"
      ]
     },
     "execution_count": 131,
     "metadata": {},
     "output_type": "execute_result"
    }
   ],
   "source": [
    "housing['Street'].value_counts()"
   ]
  },
  {
   "cell_type": "code",
   "execution_count": 132,
   "id": "68ae48c3",
   "metadata": {},
   "outputs": [
    {
     "data": {
      "text/plain": [
       "Grvl    79\n",
       "Pave    51\n",
       "Name: Alley, dtype: int64"
      ]
     },
     "execution_count": 132,
     "metadata": {},
     "output_type": "execute_result"
    }
   ],
   "source": [
    "housing['Alley'].value_counts()"
   ]
  },
  {
   "cell_type": "code",
   "execution_count": 191,
   "id": "972639ce",
   "metadata": {},
   "outputs": [
    {
     "data": {
      "text/plain": [
       "1934"
      ]
     },
     "execution_count": 191,
     "metadata": {},
     "output_type": "execute_result"
    }
   ],
   "source": [
    "housing['Alley'].isnull().sum()"
   ]
  },
  {
   "cell_type": "code",
   "execution_count": 133,
   "id": "a353bbd7",
   "metadata": {},
   "outputs": [
    {
     "data": {
      "text/plain": [
       "<AxesSubplot:xlabel='Alley', ylabel='SalePrice'>"
      ]
     },
     "execution_count": 133,
     "metadata": {},
     "output_type": "execute_result"
    },
    {
     "data": {
      "image/png": "[encoded data removed]",
      "text/plain": [
       "<Figure size 432x288 with 1 Axes>"
      ]
     },
     "metadata": {
      "needs_background": "light"
     },
     "output_type": "display_data"
    }
   ],
   "source": [
    "sns.boxplot(x='Alley', y='SalePrice', data=housing)"
   ]
  },
  {
   "cell_type": "code",
   "execution_count": 148,
   "id": "6a5a7dc4",
   "metadata": {},
   "outputs": [
    {
     "data": {
      "text/plain": [
       "Y    1869\n",
       "N     151\n",
       "P      44\n",
       "Name: PavedDrive, dtype: int64"
      ]
     },
     "execution_count": 148,
     "metadata": {},
     "output_type": "execute_result"
    }
   ],
   "source": [
    "housing['PavedDrive'].value_counts()"
   ]
  },
  {
   "cell_type": "code",
   "execution_count": 149,
   "id": "1755173c",
   "metadata": {},
   "outputs": [
    {
     "data": {
      "text/plain": [
       "<AxesSubplot:xlabel='PavedDrive', ylabel='SalePrice'>"
      ]
     },
     "execution_count": 149,
     "metadata": {},
     "output_type": "execute_result"
    },
    {
     "data": {
      "image/png": "[encoded data removed]",
      "text/plain": [
       "<Figure size 432x288 with 1 Axes>"
      ]
     },
     "metadata": {
      "needs_background": "light"
     },
     "output_type": "display_data"
    }
   ],
   "source": [
    "sns.boxplot(x='PavedDrive', y='SalePrice', data=housing)"
   ]
  },
  {
   "cell_type": "raw",
   "id": "7528f7f3",
   "metadata": {},
   "source": [
    "Conclusion:\n",
    "Keep: Alley, PavedDrive"
   ]
  },
  {
   "cell_type": "markdown",
   "id": "8916d3ad",
   "metadata": {},
   "source": [
    "# Land"
   ]
  },
  {
   "cell_type": "code",
   "execution_count": 134,
   "id": "62e5c291",
   "metadata": {},
   "outputs": [
    {
     "data": {
      "application/vnd.jupyter.widget-view+json": {
       "model_id": "470f1b6c8cf54a92b7835cc71102a92b"
      },
      "text/html": [
       "<div>\n",
       "<style scoped>\n",
       "    .dataframe tbody tr th:only-of-type {\n",
       "        vertical-align: middle;\n",
       "    }\n",
       "\n",
       "    .dataframe tbody tr th {\n",
       "        vertical-align: top;\n",
       "    }\n",
       "\n",
       "    .dataframe thead th {\n",
       "        text-align: right;\n",
       "    }\n",
       "</style>\n",
       "<table border=\"1\" class=\"dataframe\">\n",
       "  <thead>\n",
       "    <tr style=\"text-align: right;\">\n",
       "      <th></th>\n",
       "      <th>LandContour</th>\n",
       "      <th>LandSlope</th>\n",
       "    </tr>\n",
       "  </thead>\n",
       "  <tbody>\n",
       "    <tr>\n",
       "      <th>754</th>\n",
       "      <td>Lvl</td>\n",
       "      <td>Gtl</td>\n",
       "    </tr>\n",
       "    <tr>\n",
       "      <th>404</th>\n",
       "      <td>Lvl</td>\n",
       "      <td>Gtl</td>\n",
       "    </tr>\n",
       "    <tr>\n",
       "      <th>697</th>\n",
       "      <td>Lvl</td>\n",
       "      <td>Gtl</td>\n",
       "    </tr>\n",
       "    <tr>\n",
       "      <th>538</th>\n",
       "      <td>Bnk</td>\n",
       "      <td>Gtl</td>\n",
       "    </tr>\n",
       "    <tr>\n",
       "      <th>606</th>\n",
       "      <td>Lvl</td>\n",
       "      <td>Gtl</td>\n",
       "    </tr>\n",
       "  </tbody>\n",
       "</table>\n",
       "</div>"
      ],
      "text/plain": [
       "    LandContour LandSlope\n",
       "754         Lvl       Gtl\n",
       "404         Lvl       Gtl\n",
       "697         Lvl       Gtl\n",
       "538         Bnk       Gtl\n",
       "606         Lvl       Gtl"
      ]
     },
     "metadata": {},
     "output_type": "display_data"
    }
   ],
   "source": [
    "land_related = housing.filter(regex='Land')\n",
    "land_related.head()"
   ]
  },
  {
   "cell_type": "code",
   "execution_count": 135,
   "id": "aa4e3635",
   "metadata": {},
   "outputs": [
    {
     "data": {
      "text/plain": [
       "Lvl    1852\n",
       "HLS      76\n",
       "Bnk      75\n",
       "Low      47\n",
       "Name: LandContour, dtype: int64"
      ]
     },
     "execution_count": 135,
     "metadata": {},
     "output_type": "execute_result"
    }
   ],
   "source": [
    "housing['LandContour'].value_counts()"
   ]
  },
  {
   "cell_type": "code",
   "execution_count": 137,
   "id": "931ce30e",
   "metadata": {},
   "outputs": [
    {
     "data": {
      "text/plain": [
       "<AxesSubplot:xlabel='LandContour', ylabel='SalePrice'>"
      ]
     },
     "execution_count": 137,
     "metadata": {},
     "output_type": "execute_result"
    },
    {
     "data": {
      "image/png": "[encoded data removed]",
      "text/plain": [
       "<Figure size 432x288 with 1 Axes>"
      ]
     },
     "metadata": {
      "needs_background": "light"
     },
     "output_type": "display_data"
    }
   ],
   "source": [
    "sns.boxplot(x='LandContour', y='SalePrice', data=housing)"
   ]
  },
  {
   "cell_type": "code",
   "execution_count": 138,
   "id": "16f5bffc",
   "metadata": {},
   "outputs": [
    {
     "data": {
      "text/plain": [
       "Gtl    1951\n",
       "Mod      87\n",
       "Sev      12\n",
       "Name: LandSlope, dtype: int64"
      ]
     },
     "execution_count": 138,
     "metadata": {},
     "output_type": "execute_result"
    }
   ],
   "source": [
    "housing['LandSlope'].value_counts()"
   ]
  },
  {
   "cell_type": "code",
   "execution_count": 139,
   "id": "dedeb617",
   "metadata": {},
   "outputs": [
    {
     "data": {
      "text/plain": [
       "<AxesSubplot:xlabel='LandSlope', ylabel='SalePrice'>"
      ]
     },
     "execution_count": 139,
     "metadata": {},
     "output_type": "execute_result"
    },
    {
     "data": {
      "image/png": "[encoded data removed]",
      "text/plain": [
       "<Figure size 432x288 with 1 Axes>"
      ]
     },
     "metadata": {
      "needs_background": "light"
     },
     "output_type": "display_data"
    }
   ],
   "source": [
    "sns.boxplot(x='LandSlope', y='SalePrice', data=housing)"
   ]
  },
  {
   "cell_type": "raw",
   "id": "4833312b",
   "metadata": {},
   "source": [
    "Conclusion: we see a relationship between landslop and sale price, but the group sizes are really imbalanced "
   ]
  },
  {
   "cell_type": "markdown",
   "id": "fd211f98",
   "metadata": {},
   "source": [
    "# Misc"
   ]
  },
  {
   "cell_type": "code",
   "execution_count": 140,
   "id": "b04d728e",
   "metadata": {},
   "outputs": [
    {
     "data": {
      "application/vnd.jupyter.widget-view+json": {
       "model_id": "80dffade374b4049b6b4d6021d787f0b"
      },
      "text/html": [
       "<div>\n",
       "<style scoped>\n",
       "    .dataframe tbody tr th:only-of-type {\n",
       "        vertical-align: middle;\n",
       "    }\n",
       "\n",
       "    .dataframe tbody tr th {\n",
       "        vertical-align: top;\n",
       "    }\n",
       "\n",
       "    .dataframe thead th {\n",
       "        text-align: right;\n",
       "    }\n",
       "</style>\n",
       "<table border=\"1\" class=\"dataframe\">\n",
       "  <thead>\n",
       "    <tr style=\"text-align: right;\">\n",
       "      <th></th>\n",
       "      <th>MiscFeature</th>\n",
       "      <th>MiscVal</th>\n",
       "    </tr>\n",
       "  </thead>\n",
       "  <tbody>\n",
       "    <tr>\n",
       "      <th>754</th>\n",
       "      <td>NaN</td>\n",
       "      <td>0</td>\n",
       "    </tr>\n",
       "    <tr>\n",
       "      <th>404</th>\n",
       "      <td>NaN</td>\n",
       "      <td>0</td>\n",
       "    </tr>\n",
       "    <tr>\n",
       "      <th>697</th>\n",
       "      <td>NaN</td>\n",
       "      <td>0</td>\n",
       "    </tr>\n",
       "    <tr>\n",
       "      <th>538</th>\n",
       "      <td>NaN</td>\n",
       "      <td>0</td>\n",
       "    </tr>\n",
       "    <tr>\n",
       "      <th>606</th>\n",
       "      <td>NaN</td>\n",
       "      <td>0</td>\n",
       "    </tr>\n",
       "  </tbody>\n",
       "</table>\n",
       "</div>"
      ],
      "text/plain": [
       "    MiscFeature  MiscVal\n",
       "754         NaN        0\n",
       "404         NaN        0\n",
       "697         NaN        0\n",
       "538         NaN        0\n",
       "606         NaN        0"
      ]
     },
     "metadata": {},
     "output_type": "display_data"
    }
   ],
   "source": [
    "misc_related = housing.filter(regex='Misc')\n",
    "misc_related.head()"
   ]
  },
  {
   "cell_type": "code",
   "execution_count": 141,
   "id": "7a01e1b7",
   "metadata": {},
   "outputs": [
    {
     "data": {
      "text/plain": [
       "MiscFeature    1978\n",
       "MiscVal           0\n",
       "dtype: int64"
      ]
     },
     "execution_count": 141,
     "metadata": {},
     "output_type": "execute_result"
    }
   ],
   "source": [
    "misc_related.isnull().sum()"
   ]
  },
  {
   "cell_type": "code",
   "execution_count": 147,
   "id": "3cfa319b",
   "metadata": {},
   "outputs": [
    {
     "data": {
      "text/plain": [
       "<AxesSubplot:xlabel='MiscVal', ylabel='SalePrice'>"
      ]
     },
     "execution_count": 147,
     "metadata": {},
     "output_type": "execute_result"
    },
    {
     "data": {
      "image/png": "[encoded data removed]",
      "text/plain": [
       "<Figure size 432x288 with 1 Axes>"
      ]
     },
     "metadata": {
      "needs_background": "light"
     },
     "output_type": "display_data"
    }
   ],
   "source": [
    "housing.plot.scatter(x='MiscVal', y='SalePrice')"
   ]
  },
  {
   "cell_type": "raw",
   "id": "c6aebc0c",
   "metadata": {},
   "source": [
    "Conclusion:misc related features are not good predictors of sale price, the large amount of null values under MiscFeature column implies that most features are covered in other categories "
   ]
  },
  {
   "cell_type": "markdown",
   "id": "fff8ab61",
   "metadata": {},
   "source": [
    "# Neighborhood"
   ]
  },
  {
   "cell_type": "code",
   "execution_count": 151,
   "id": "b670e4ef",
   "metadata": {},
   "outputs": [
    {
     "data": {
      "text/plain": [
       "NAmes      330\n",
       "CollgCr    189\n",
       "OldTown    173\n",
       "Edwards    137\n",
       "Somerst    121\n",
       "Gilbert    113\n",
       "Sawyer     104\n",
       "NWAmes      98\n",
       "SawyerW     91\n",
       "Mitchel     87\n",
       "NridgHt     86\n",
       "BrkSide     80\n",
       "Crawfor     71\n",
       "IDOTRR      65\n",
       "NoRidge     58\n",
       "Timber      43\n",
       "ClearCr     39\n",
       "StoneBr     34\n",
       "SWISU       32\n",
       "MeadowV     23\n",
       "BrDale      22\n",
       "Veenker     20\n",
       "NPkVill     15\n",
       "Blmngtn     15\n",
       "Blueste      9\n",
       "Greens       6\n",
       "GrnHill      2\n",
       "Landmrk      1\n",
       "Name: Neighborhood, dtype: int64"
      ]
     },
     "execution_count": 151,
     "metadata": {},
     "output_type": "execute_result"
    }
   ],
   "source": [
    "housing['Neighborhood'].value_counts()"
   ]
  },
  {
   "cell_type": "code",
   "execution_count": 153,
   "id": "64a737f2",
   "metadata": {},
   "outputs": [
    {
     "data": {
      "text/plain": [
       "<AxesSubplot:xlabel='Neighborhood'>"
      ]
     },
     "execution_count": 153,
     "metadata": {},
     "output_type": "execute_result"
    },
    {
     "data": {
      "image/png": "[encoded data removed]",
      "text/plain": [
       "<Figure size 432x288 with 1 Axes>"
      ]
     },
     "metadata": {
      "needs_background": "light"
     },
     "output_type": "display_data"
    }
   ],
   "source": [
    "housing_ne = housing.groupby(['Neighborhood']).agg(SalePrice_mean=('SalePrice', 'mean')).reset_index()\n",
    "housing_ne.plot.bar(x = 'Neighborhood', y = 'SalePrice_mean')"
   ]
  },
  {
   "cell_type": "raw",
   "id": "f75d2ef4",
   "metadata": {},
   "source": [
    "Conclusion: sale price varies between different neighborhoods, further investigation is needed "
   ]
  },
  {
   "cell_type": "markdown",
   "id": "60767a9e",
   "metadata": {},
   "source": [
    "# All other features "
   ]
  },
  {
   "cell_type": "code",
   "execution_count": 188,
   "id": "2fed8ca9",
   "metadata": {},
   "outputs": [
    {
     "data": {
      "text/plain": [
       "AllPub    2063\n",
       "NoSewr       1\n",
       "Name: Utilities, dtype: int64"
      ]
     },
     "execution_count": 188,
     "metadata": {},
     "output_type": "execute_result"
    }
   ],
   "source": [
    "housing['Utilities'].value_counts()"
   ]
  },
  {
   "cell_type": "code",
   "execution_count": 154,
   "id": "b54cf4c8",
   "metadata": {},
   "outputs": [
    {
     "data": {
      "text/plain": [
       "1Fam      1725\n",
       "TwnhsE     153\n",
       "Twnhs       78\n",
       "Duplex      64\n",
       "2fmCon      44\n",
       "Name: BldgType, dtype: int64"
      ]
     },
     "execution_count": 154,
     "metadata": {},
     "output_type": "execute_result"
    }
   ],
   "source": [
    "housing['BldgType'].value_counts()"
   ]
  },
  {
   "cell_type": "code",
   "execution_count": 157,
   "id": "883446f3",
   "metadata": {},
   "outputs": [
    {
     "data": {
      "text/plain": [
       "0"
      ]
     },
     "execution_count": 157,
     "metadata": {},
     "output_type": "execute_result"
    }
   ],
   "source": [
    "housing['BldgType'].isnull().sum()"
   ]
  },
  {
   "cell_type": "code",
   "execution_count": 155,
   "id": "e719dcca",
   "metadata": {},
   "outputs": [
    {
     "data": {
      "text/plain": [
       "<AxesSubplot:xlabel='BldgType', ylabel='SalePrice'>"
      ]
     },
     "execution_count": 155,
     "metadata": {},
     "output_type": "execute_result"
    },
    {
     "data": {
      "image/png": "[encoded data removed]",
      "text/plain": [
       "<Figure size 432x288 with 1 Axes>"
      ]
     },
     "metadata": {
      "needs_background": "light"
     },
     "output_type": "display_data"
    }
   ],
   "source": [
    "sns.boxplot(x='BldgType', y='SalePrice', data=housing)"
   ]
  },
  {
   "cell_type": "code",
   "execution_count": 160,
   "id": "4176d9f2",
   "metadata": {},
   "outputs": [
    {
     "data": {
      "text/plain": [
       "1Story    1027\n",
       "2Story     615\n",
       "1.5Fin     236\n",
       "SLvl        96\n",
       "SFoyer      55\n",
       "2.5Unf      18\n",
       "1.5Unf      14\n",
       "2.5Fin       3\n",
       "Name: HouseStyle, dtype: int64"
      ]
     },
     "execution_count": 160,
     "metadata": {},
     "output_type": "execute_result"
    }
   ],
   "source": [
    "housing['HouseStyle'].value_counts()"
   ]
  },
  {
   "cell_type": "code",
   "execution_count": 162,
   "id": "20c08e8e",
   "metadata": {},
   "outputs": [
    {
     "data": {
      "text/plain": [
       "<AxesSubplot:xlabel='HouseStyle', ylabel='SalePrice'>"
      ]
     },
     "execution_count": 162,
     "metadata": {},
     "output_type": "execute_result"
    },
    {
     "data": {
      "image/png": "[encoded data removed]",
      "text/plain": [
       "<Figure size 432x288 with 1 Axes>"
      ]
     },
     "metadata": {
      "needs_background": "light"
     },
     "output_type": "display_data"
    }
   ],
   "source": [
    "sns.boxplot(x='HouseStyle', y='SalePrice', data=housing)"
   ]
  },
  {
   "cell_type": "code",
   "execution_count": 163,
   "id": "98d38982",
   "metadata": {},
   "outputs": [
    {
     "data": {
      "text/plain": [
       "5     597\n",
       "6     537\n",
       "7     420\n",
       "8     239\n",
       "4     161\n",
       "9      59\n",
       "3      24\n",
       "10     13\n",
       "2      11\n",
       "1       3\n",
       "Name: OverallQual, dtype: int64"
      ]
     },
     "execution_count": 163,
     "metadata": {},
     "output_type": "execute_result"
    }
   ],
   "source": [
    "housing['OverallQual'].value_counts()"
   ]
  },
  {
   "cell_type": "code",
   "execution_count": 165,
   "id": "53bb7b2b",
   "metadata": {},
   "outputs": [
    {
     "data": {
      "text/plain": [
       "<AxesSubplot:xlabel='OverallQual'>"
      ]
     },
     "execution_count": 165,
     "metadata": {},
     "output_type": "execute_result"
    },
    {
     "data": {
      "image/png": "[encoded data removed]",
      "text/plain": [
       "<Figure size 432x288 with 1 Axes>"
      ]
     },
     "metadata": {
      "needs_background": "light"
     },
     "output_type": "display_data"
    }
   ],
   "source": [
    "housing_qual = housing.groupby(['OverallQual']).agg(saleprice_mean = ('SalePrice', 'mean')).reset_index()\n",
    "housing_qual.plot.bar(x = 'OverallQual', y = 'saleprice_mean')"
   ]
  },
  {
   "cell_type": "code",
   "execution_count": 167,
   "id": "71e66f30",
   "metadata": {},
   "outputs": [
    {
     "data": {
      "text/plain": [
       "5    1114\n",
       "6     399\n",
       "7     294\n",
       "8     114\n",
       "4      68\n",
       "9      36\n",
       "3      32\n",
       "1       4\n",
       "2       3\n",
       "Name: OverallCond, dtype: int64"
      ]
     },
     "execution_count": 167,
     "metadata": {},
     "output_type": "execute_result"
    }
   ],
   "source": [
    "housing['OverallCond'].value_counts()"
   ]
  },
  {
   "cell_type": "code",
   "execution_count": 166,
   "id": "e3f4ac0a",
   "metadata": {},
   "outputs": [
    {
     "data": {
      "text/plain": [
       "<AxesSubplot:xlabel='OverallCond'>"
      ]
     },
     "execution_count": 166,
     "metadata": {},
     "output_type": "execute_result"
    },
    {
     "data": {
      "image/png": "[encoded data removed]",
      "text/plain": [
       "<Figure size 432x288 with 1 Axes>"
      ]
     },
     "metadata": {
      "needs_background": "light"
     },
     "output_type": "display_data"
    }
   ],
   "source": [
    "housing_cond = housing.groupby(['OverallCond']).agg(saleprice_mean = ('SalePrice', 'mean')).reset_index()\n",
    "housing_cond.plot.bar(x = 'OverallCond', y = 'saleprice_mean')"
   ]
  },
  {
   "cell_type": "code",
   "execution_count": 168,
   "id": "7e9c49c3",
   "metadata": {},
   "outputs": [
    {
     "data": {
      "text/plain": [
       "None       1258\n",
       "BrkFace     636\n",
       "Stone       144\n",
       "BrkCmn       15\n",
       "Name: MasVnrType, dtype: int64"
      ]
     },
     "execution_count": 168,
     "metadata": {},
     "output_type": "execute_result"
    }
   ],
   "source": [
    "housing['MasVnrType'].value_counts()"
   ]
  },
  {
   "cell_type": "code",
   "execution_count": 169,
   "id": "4061d77f",
   "metadata": {},
   "outputs": [
    {
     "data": {
      "text/plain": [
       "<AxesSubplot:xlabel='MasVnrType', ylabel='SalePrice'>"
      ]
     },
     "execution_count": 169,
     "metadata": {},
     "output_type": "execute_result"
    },
    {
     "data": {
      "image/png": "[encoded data removed]",
      "text/plain": [
       "<Figure size 432x288 with 1 Axes>"
      ]
     },
     "metadata": {
      "needs_background": "light"
     },
     "output_type": "display_data"
    }
   ],
   "source": [
    "sns.boxplot(x='MasVnrType', y='SalePrice', data=housing)"
   ]
  },
  {
   "cell_type": "code",
   "execution_count": 170,
   "id": "4257ad34",
   "metadata": {},
   "outputs": [
    {
     "data": {
      "text/plain": [
       "CBlock    924\n",
       "PConc     880\n",
       "BrkTil    220\n",
       "Slab       30\n",
       "Stone       6\n",
       "Wood        4\n",
       "Name: Foundation, dtype: int64"
      ]
     },
     "execution_count": 170,
     "metadata": {},
     "output_type": "execute_result"
    }
   ],
   "source": [
    "housing['Foundation'].value_counts()"
   ]
  },
  {
   "cell_type": "code",
   "execution_count": 171,
   "id": "ad1a86d5",
   "metadata": {},
   "outputs": [
    {
     "data": {
      "text/plain": [
       "<AxesSubplot:xlabel='Foundation', ylabel='SalePrice'>"
      ]
     },
     "execution_count": 171,
     "metadata": {},
     "output_type": "execute_result"
    },
    {
     "data": {
      "image/png": "[encoded data removed]",
      "text/plain": [
       "<Figure size 432x288 with 1 Axes>"
      ]
     },
     "metadata": {
      "needs_background": "light"
     },
     "output_type": "display_data"
    }
   ],
   "source": [
    "sns.boxplot(x='Foundation', y='SalePrice', data=housing)"
   ]
  },
  {
   "cell_type": "code",
   "execution_count": 172,
   "id": "2640fa44",
   "metadata": {},
   "outputs": [
    {
     "data": {
      "text/plain": [
       "SBrkr    1898\n",
       "FuseA     132\n",
       "FuseF      30\n",
       "FuseP       4\n",
       "Name: Electrical, dtype: int64"
      ]
     },
     "execution_count": 172,
     "metadata": {},
     "output_type": "execute_result"
    }
   ],
   "source": [
    "housing['Electrical'].value_counts()"
   ]
  },
  {
   "cell_type": "code",
   "execution_count": 173,
   "id": "1f2674a7",
   "metadata": {},
   "outputs": [
    {
     "data": {
      "text/plain": [
       "<AxesSubplot:xlabel='Electrical', ylabel='SalePrice'>"
      ]
     },
     "execution_count": 173,
     "metadata": {},
     "output_type": "execute_result"
    },
    {
     "data": {
      "image/png": "[encoded data removed]",
      "text/plain": [
       "<Figure size 432x288 with 1 Axes>"
      ]
     },
     "metadata": {
      "needs_background": "light"
     },
     "output_type": "display_data"
    }
   ],
   "source": [
    "sns.boxplot(x='Electrical', y='SalePrice', data=housing)"
   ]
  },
  {
   "cell_type": "code",
   "execution_count": 180,
   "id": "e3770315",
   "metadata": {},
   "outputs": [
    {
     "data": {
      "text/plain": [
       "6     587\n",
       "7     471\n",
       "5     434\n",
       "8     216\n",
       "4     150\n",
       "9     108\n",
       "10     53\n",
       "3      19\n",
       "11     13\n",
       "12     11\n",
       "2       1\n",
       "13      1\n",
       "Name: TotRmsAbvGrd, dtype: int64"
      ]
     },
     "execution_count": 180,
     "metadata": {},
     "output_type": "execute_result"
    }
   ],
   "source": [
    "housing['TotRmsAbvGrd'].value_counts()"
   ]
  },
  {
   "cell_type": "code",
   "execution_count": 181,
   "id": "cfab5d26",
   "metadata": {},
   "outputs": [
    {
     "data": {
      "text/plain": [
       "<AxesSubplot:xlabel='TotRmsAbvGrd', ylabel='SalePrice'>"
      ]
     },
     "execution_count": 181,
     "metadata": {},
     "output_type": "execute_result"
    },
    {
     "data": {
      "image/png": "[encoded data removed]",
      "text/plain": [
       "<Figure size 432x288 with 1 Axes>"
      ]
     },
     "metadata": {
      "needs_background": "light"
     },
     "output_type": "display_data"
    }
   ],
   "source": [
    "sns.boxplot(x='TotRmsAbvGrd', y='SalePrice', data=housing)"
   ]
  },
  {
   "cell_type": "code",
   "execution_count": 182,
   "id": "0c391640",
   "metadata": {},
   "outputs": [
    {
     "data": {
      "text/plain": [
       "Typ     1916\n",
       "Min2      53\n",
       "Min1      48\n",
       "Mod       25\n",
       "Maj1      15\n",
       "Maj2       6\n",
       "Sal        1\n",
       "Name: Functional, dtype: int64"
      ]
     },
     "execution_count": 182,
     "metadata": {},
     "output_type": "execute_result"
    }
   ],
   "source": [
    "housing['Functional'].value_counts()"
   ]
  },
  {
   "cell_type": "code",
   "execution_count": 183,
   "id": "4efc2872",
   "metadata": {},
   "outputs": [
    {
     "data": {
      "text/plain": [
       "<AxesSubplot:xlabel='Functional', ylabel='SalePrice'>"
      ]
     },
     "execution_count": 183,
     "metadata": {},
     "output_type": "execute_result"
    },
    {
     "data": {
      "image/png": "[encoded data removed]",
      "text/plain": [
       "<Figure size 432x288 with 1 Axes>"
      ]
     },
     "metadata": {
      "needs_background": "light"
     },
     "output_type": "display_data"
    }
   ],
   "source": [
    "sns.boxplot(x='Functional', y='SalePrice', data=housing)"
   ]
  },
  {
   "cell_type": "code",
   "execution_count": 184,
   "id": "ac7c169a",
   "metadata": {},
   "outputs": [
    {
     "data": {
      "text/plain": [
       "MnPrv    244\n",
       "GdPrv     98\n",
       "GdWo      82\n",
       "MnWw       8\n",
       "Name: Fence, dtype: int64"
      ]
     },
     "execution_count": 184,
     "metadata": {},
     "output_type": "execute_result"
    }
   ],
   "source": [
    "housing['Fence'].value_counts()"
   ]
  },
  {
   "cell_type": "code",
   "execution_count": 185,
   "id": "b9e1e7c0",
   "metadata": {},
   "outputs": [
    {
     "data": {
      "text/plain": [
       "<AxesSubplot:xlabel='Fence', ylabel='SalePrice'>"
      ]
     },
     "execution_count": 185,
     "metadata": {},
     "output_type": "execute_result"
    },
    {
     "data": {
      "image/png": "[encoded data removed]",
      "text/plain": [
       "<Figure size 432x288 with 1 Axes>"
      ]
     },
     "metadata": {
      "needs_background": "light"
     },
     "output_type": "display_data"
    }
   ],
   "source": [
    "sns.boxplot(x='Fence', y='SalePrice', data=housing)"
   ]
  },
  {
   "cell_type": "code",
   "execution_count": 186,
   "id": "b33356cf",
   "metadata": {},
   "outputs": [
    {
     "data": {
      "text/plain": [
       "WD       1915\n",
       "New        57\n",
       "COD        39\n",
       "ConLD      21\n",
       "CWD        11\n",
       "ConLw       7\n",
       "ConLI       6\n",
       "Con         4\n",
       "Oth         3\n",
       "VWD         1\n",
       "Name: SaleType, dtype: int64"
      ]
     },
     "execution_count": 186,
     "metadata": {},
     "output_type": "execute_result"
    }
   ],
   "source": [
    "housing['SaleType'].value_counts()"
   ]
  },
  {
   "cell_type": "code",
   "execution_count": 187,
   "id": "83ad653a",
   "metadata": {},
   "outputs": [
    {
     "data": {
      "text/plain": [
       "<AxesSubplot:xlabel='SaleType', ylabel='SalePrice'>"
      ]
     },
     "execution_count": 187,
     "metadata": {},
     "output_type": "execute_result"
    },
    {
     "data": {
      "image/png": "[encoded data removed]",
      "text/plain": [
       "<Figure size 432x288 with 1 Axes>"
      ]
     },
     "metadata": {
      "needs_background": "light"
     },
     "output_type": "display_data"
    }
   ],
   "source": [
    "sns.boxplot(x='SaleType', y='SalePrice', data=housing)"
   ]
  },
  {
   "cell_type": "raw",
   "id": "e6501e0f",
   "metadata": {},
   "source": [
    "SalePrice - the property's sale price in dollars. This is the target variable that you're trying to predict.\n",
    "\n",
    "Features:\n",
    "\n",
    "Categorical:\n",
    "KitchenQual: Kitchen quality\n",
    "HeatingQC: Heating quality and condition\n",
    "CentralAir: Central air conditioning\n",
    "Fireplaces: Number of fireplaces\n",
    "MSZoning: The general zoning classification\n",
    "Neighborhood: Physical locations within Ames city limits\n",
    "BldgType: Type of dwelling\n",
    "OverallQual: Overall material and finish quality\n",
    "Foundation: Type of foundation\n",
    "Electrical: Electrical system\n",
    "Functional: Fence quality\n",
    "\n",
    "Dummy:\n",
    "PavedDrive: Paved driveway\n",
    "\n",
    "Continous:\n",
    "YearBuilt: Original construction date\n",
    "YearRemodAdd: Remodel date\n",
    "\n"
   ]
  },
  {
   "cell_type": "code",
   "execution_count": 223,
   "id": "c7778a44",
   "metadata": {},
   "outputs": [],
   "source": [
    "Features = housing[['KitchenQual','HeatingQC','CentralAir','Fireplaces','YearBuilt', 'YearRemodAdd', 'YearRemodAdd', 'MSZoning', 'PavedDrive', 'Neighborhood', 'BldgType', 'OverallQual', 'Foundation', 'Electrical','Functional']]\n",
    "logprice = np.log(housing['SalePrice'])"
   ]
  },
  {
   "cell_type": "code",
   "execution_count": 224,
   "id": "2d90fea5",
   "metadata": {},
   "outputs": [],
   "source": [
    "dummy         = pd.get_dummies(Features.KitchenQual, prefix='KitchenQual', drop_first=True)\n",
    "Features = Features.drop('KitchenQual', axis=1)\n",
    "Features = pd.concat([Features, dummy], axis=1)"
   ]
  },
  {
   "cell_type": "code",
   "execution_count": 225,
   "id": "f6512b59",
   "metadata": {},
   "outputs": [],
   "source": [
    "dummy1         = pd.get_dummies(Features.HeatingQC, prefix='HeatingQC', drop_first=True)\n",
    "Features = Features.drop('HeatingQC', axis=1)\n",
    "Features = pd.concat([Features, dummy1], axis=1)"
   ]
  },
  {
   "cell_type": "code",
   "execution_count": 226,
   "id": "1130e62a",
   "metadata": {},
   "outputs": [],
   "source": [
    "dummy2         = pd.get_dummies(Features.CentralAir, prefix='CentralAir', drop_first=True)\n",
    "Features = Features.drop('CentralAir', axis=1)\n",
    "Features = pd.concat([Features, dummy2], axis=1)\n"
   ]
  },
  {
   "cell_type": "code",
   "execution_count": 227,
   "id": "be041646",
   "metadata": {},
   "outputs": [],
   "source": [
    "dummy3         = pd.get_dummies(Features.Fireplaces, prefix='Fireplaces', drop_first=True)\n",
    "Features = Features.drop('Fireplaces', axis=1)\n",
    "Features = pd.concat([Features, dummy3], axis=1)"
   ]
  },
  {
   "cell_type": "code",
   "execution_count": 228,
   "id": "69db25f1",
   "metadata": {},
   "outputs": [],
   "source": [
    "dummy4         = pd.get_dummies(Features.MSZoning, prefix='MSZoning', drop_first=True)\n",
    "Features = Features.drop('MSZoning', axis=1)\n",
    "Features = pd.concat([Features, dummy4], axis=1)"
   ]
  },
  {
   "cell_type": "code",
   "execution_count": 229,
   "id": "3f440f53",
   "metadata": {},
   "outputs": [],
   "source": [
    "dummy5         = pd.get_dummies(Features.Neighborhood, prefix='Neighborhood', drop_first=True)\n",
    "Features = Features.drop('Neighborhood', axis=1)\n",
    "Features = pd.concat([Features, dummy5], axis=1)"
   ]
  },
  {
   "cell_type": "code",
   "execution_count": 230,
   "id": "90da2dfc",
   "metadata": {},
   "outputs": [],
   "source": [
    "dummy6         = pd.get_dummies(Features.BldgType, prefix='BldgType', drop_first=True)\n",
    "Features = Features.drop('BldgType', axis=1)\n",
    "Features = pd.concat([Features, dummy6], axis=1)"
   ]
  },
  {
   "cell_type": "code",
   "execution_count": 231,
   "id": "10659c5c",
   "metadata": {},
   "outputs": [],
   "source": [
    "dummy7         = pd.get_dummies(Features.OverallQual, prefix='OverallQual', drop_first=True)\n",
    "Features = Features.drop('OverallQual', axis=1)\n",
    "Features = pd.concat([Features, dummy7], axis=1)"
   ]
  },
  {
   "cell_type": "code",
   "execution_count": 232,
   "id": "3aaf2597",
   "metadata": {},
   "outputs": [],
   "source": [
    "dummy8         = pd.get_dummies(Features.Foundation, prefix='Foundation', drop_first=True)\n",
    "Features = Features.drop('Foundation', axis=1)\n",
    "Features = pd.concat([Features, dummy8], axis=1)"
   ]
  },
  {
   "cell_type": "code",
   "execution_count": 233,
   "id": "7370d9f0",
   "metadata": {},
   "outputs": [],
   "source": [
    "dummy9         = pd.get_dummies(Features.Electrical, prefix='Electrical', drop_first=True)\n",
    "Features = Features.drop('Electrical', axis=1)\n",
    "Features = pd.concat([Features, dummy9], axis=1)"
   ]
  },
  {
   "cell_type": "code",
   "execution_count": 234,
   "id": "fc92f27a",
   "metadata": {},
   "outputs": [],
   "source": [
    "dummy10        = pd.get_dummies(Features.Functional, prefix='Functional', drop_first=True)\n",
    "Features = Features.drop('Functional', axis=1)\n",
    "Features = pd.concat([Features, dummy10], axis=1)"
   ]
  },
  {
   "cell_type": "code",
   "execution_count": 235,
   "id": "f7942c23",
   "metadata": {},
   "outputs": [],
   "source": [
    "Features['PavedDrive'] = Features.PavedDrive.map(lambda t:0 if t=='N' else 1)"
   ]
  },
  {
   "cell_type": "code",
   "execution_count": 236,
   "id": "6021279b",
   "metadata": {},
   "outputs": [
    {
     "data": {
      "text/plain": [
       "(array([1.000e+00, 0.000e+00, 1.000e+00, 5.000e+00, 5.800e+01, 7.130e+02,\n",
       "        1.072e+03, 1.960e+02, 1.700e+01, 1.000e+00]),\n",
       " array([-1.39231466, -1.1670016 , -0.94168854, -0.71637548, -0.49106242,\n",
       "        -0.26574936, -0.0404363 ,  0.18487675,  0.41018981,  0.63550287,\n",
       "         0.86081593]),\n",
       " <BarContainer object of 10 artists>)"
      ]
     },
     "execution_count": 236,
     "metadata": {},
     "output_type": "execute_result"
    },
    {
     "data": {
      "image/png": "[encoded data removed]",
      "text/plain": [
       "<Figure size 432x288 with 1 Axes>"
      ]
     },
     "metadata": {
      "needs_background": "light"
     },
     "output_type": "display_data"
    }
   ],
   "source": [
    "from sklearn.linear_model import LinearRegression\n",
    "\n",
    "lm = LinearRegression()\n",
    "lm.fit(Features, logprice)\n",
    "residuals = logprice - lm.predict(Features)\n",
    "plt.hist(residuals)"
   ]
  },
  {
   "cell_type": "code",
   "execution_count": 238,
   "id": "abeb13a6",
   "metadata": {},
   "outputs": [
    {
     "name": "stdout",
     "output_type": "stream",
     "text": [
      "R^2 is equal to 0.841\n",
      "RSS is equal to 48.923\n",
      "The intercept is 5.380\n"
     ]
    }
   ],
   "source": [
    "print('R^2 is equal to %.3f' %(lm.score(Features, logprice)))\n",
    "print('RSS is equal to %.3f' %(np.sum((logprice-lm.predict(Features))**2)))\n",
    "print('The intercept is %.3f' %(lm.intercept_))"
   ]
  },
  {
   "cell_type": "code",
   "execution_count": 239,
   "id": "95aadc51",
   "metadata": {},
   "outputs": [
    {
     "name": "stdout",
     "output_type": "stream",
     "text": [
      "negative slope column names Index(['YearRemodAdd', 'KitchenQual_Fa', 'KitchenQual_Gd', 'KitchenQual_Po',\n",
      "       'KitchenQual_TA', 'HeatingQC_Fa', 'HeatingQC_Gd', 'HeatingQC_Po',\n",
      "       'HeatingQC_TA', 'MSZoning_C (all)', 'MSZoning_FV', 'MSZoning_I (all)',\n",
      "       'MSZoning_RH', 'MSZoning_RL', 'MSZoning_RM', 'Neighborhood_Blueste',\n",
      "       'Neighborhood_BrDale', 'Neighborhood_BrkSide', 'Neighborhood_CollgCr',\n",
      "       'Neighborhood_Edwards', 'Neighborhood_Gilbert', 'Neighborhood_Greens',\n",
      "       'Neighborhood_IDOTRR', 'Neighborhood_MeadowV', 'Neighborhood_Mitchel',\n",
      "       'Neighborhood_NAmes', 'Neighborhood_NPkVill', 'Neighborhood_OldTown',\n",
      "       'Neighborhood_SWISU', 'Neighborhood_Sawyer', 'Neighborhood_SawyerW',\n",
      "       'BldgType_Twnhs', 'BldgType_TwnhsE', 'OverallQual_2', 'Foundation_Slab',\n",
      "       'Electrical_FuseF', 'Electrical_FuseP', 'Functional_Maj2',\n",
      "       'Functional_Min1', 'Functional_Sal', 'Functional_Typ'],\n",
      "      dtype='object')\n",
      "positive slope column names Index(['YearBuilt', 'YearRemodAdd', 'PavedDrive', 'CentralAir_Y',\n",
      "       'Fireplaces_1', 'Fireplaces_2', 'Fireplaces_3', 'Fireplaces_4',\n",
      "       'Neighborhood_ClearCr', 'Neighborhood_Crawfor', 'Neighborhood_GrnHill',\n",
      "       'Neighborhood_Landmrk', 'Neighborhood_NWAmes', 'Neighborhood_NoRidge',\n",
      "       'Neighborhood_NridgHt', 'Neighborhood_Somerst', 'Neighborhood_StoneBr',\n",
      "       'Neighborhood_Timber', 'Neighborhood_Veenker', 'BldgType_2fmCon',\n",
      "       'BldgType_Duplex', 'OverallQual_3', 'OverallQual_4', 'OverallQual_5',\n",
      "       'OverallQual_6', 'OverallQual_7', 'OverallQual_8', 'OverallQual_9',\n",
      "       'OverallQual_10', 'Foundation_CBlock', 'Foundation_PConc',\n",
      "       'Foundation_Stone', 'Foundation_Wood', 'Electrical_SBrkr',\n",
      "       'Functional_Min2', 'Functional_Mod'],\n",
      "      dtype='object')\n"
     ]
    }
   ],
   "source": [
    "print('negative slope column names %s' %(Features.columns[lm.coef_<0]))\n",
    "print('positive slope column names %s' %(Features.columns[lm.coef_>0]))"
   ]
  },
  {
   "cell_type": "code",
   "execution_count": 242,
   "id": "56f494cc",
   "metadata": {},
   "outputs": [
    {
     "name": "stdout",
     "output_type": "stream",
     "text": [
      "                            OLS Regression Results                            \n",
      "==============================================================================\n",
      "Dep. Variable:              SalePrice   R-squared:                       0.842\n",
      "Model:                            OLS   Adj. R-squared:                  0.835\n",
      "Method:                 Least Squares   F-statistic:                     138.8\n",
      "Date:                Fri, 19 Nov 2021   Prob (F-statistic):               0.00\n",
      "Time:                        16:24:19   Log-Likelihood:                 937.85\n",
      "No. Observations:                2064   AIC:                            -1722.\n",
      "Df Residuals:                    1987   BIC:                            -1288.\n",
      "Df Model:                          76                                         \n",
      "Covariance Type:            nonrobust                                         \n",
      "========================================================================================\n",
      "                           coef    std err          t      P>|t|      [0.025      0.975]\n",
      "----------------------------------------------------------------------------------------\n",
      "const                    5.3442      0.777      6.878      0.000       3.820       6.868\n",
      "YearBuilt                0.0012      0.000      4.026      0.000       0.001       0.002\n",
      "YearRemodAdd             0.0009      0.000      7.290      0.000       0.001       0.001\n",
      "YearRemodAdd             0.0009      0.000      7.290      0.000       0.001       0.001\n",
      "PavedDrive               0.0701      0.017      4.179      0.000       0.037       0.103\n",
      "KitchenQual_Fa          -0.2096      0.033     -6.336      0.000      -0.275      -0.145\n",
      "KitchenQual_Gd          -0.1215      0.022     -5.651      0.000      -0.164      -0.079\n",
      "KitchenQual_Po          -0.3081      0.166     -1.856      0.064      -0.634       0.017\n",
      "KitchenQual_TA          -0.1798      0.023     -7.789      0.000      -0.225      -0.135\n",
      "HeatingQC_Fa            -0.0459      0.023     -1.962      0.050      -0.092   -2.41e-05\n",
      "HeatingQC_Gd            -0.0095      0.011     -0.878      0.380      -0.031       0.012\n",
      "HeatingQC_Po            -0.1410      0.163     -0.867      0.386      -0.460       0.178\n",
      "HeatingQC_TA            -0.0298      0.010     -2.875      0.004      -0.050      -0.009\n",
      "CentralAir_Y             0.1081      0.019      5.590      0.000       0.070       0.146\n",
      "Fireplaces_1             0.1051      0.009     12.198      0.000       0.088       0.122\n",
      "Fireplaces_2             0.2101      0.015     13.815      0.000       0.180       0.240\n",
      "Fireplaces_3             0.2726      0.057      4.816      0.000       0.162       0.384\n",
      "Fireplaces_4             0.2077      0.165      1.256      0.209      -0.117       0.532\n",
      "MSZoning_C (all)        -0.5418      0.209     -2.597      0.009      -0.951      -0.133\n",
      "MSZoning_FV             -0.2535      0.205     -1.239      0.216      -0.655       0.148\n",
      "MSZoning_I (all)        -0.1644      0.236     -0.697      0.486      -0.627       0.298\n",
      "MSZoning_RH             -0.2728      0.206     -1.321      0.187      -0.678       0.132\n",
      "MSZoning_RL             -0.2224      0.202     -1.103      0.270      -0.618       0.173\n",
      "MSZoning_RM             -0.2703      0.204     -1.328      0.184      -0.670       0.129\n",
      "Neighborhood_Blueste    -0.0549      0.071     -0.770      0.441      -0.195       0.085\n",
      "Neighborhood_BrDale     -0.0947      0.061     -1.544      0.123      -0.215       0.026\n",
      "Neighborhood_BrkSide    -0.0764      0.052     -1.457      0.145      -0.179       0.026\n",
      "Neighborhood_ClearCr     0.1218      0.052      2.348      0.019       0.020       0.223\n",
      "Neighborhood_CollgCr    -0.0545      0.045     -1.207      0.228      -0.143       0.034\n",
      "Neighborhood_Crawfor     0.0918      0.049      1.871      0.061      -0.004       0.188\n",
      "Neighborhood_Edwards    -0.1054      0.048     -2.212      0.027      -0.199      -0.012\n",
      "Neighborhood_Gilbert    -0.1124      0.047     -2.407      0.016      -0.204      -0.021\n",
      "Neighborhood_Greens     -0.0398      0.080     -0.499      0.618      -0.196       0.117\n",
      "Neighborhood_GrnHill     0.5043      0.119      4.229      0.000       0.270       0.738\n",
      "Neighborhood_IDOTRR     -0.0750      0.057     -1.316      0.188      -0.187       0.037\n",
      "Neighborhood_Landmrk     0.0204      0.170      0.120      0.905      -0.314       0.354\n",
      "Neighborhood_MeadowV    -0.1558      0.060     -2.593      0.010      -0.274      -0.038\n",
      "Neighborhood_Mitchel    -0.0377      0.048     -0.790      0.430      -0.131       0.056\n",
      "Neighborhood_NAmes      -0.0670      0.047     -1.434      0.152      -0.159       0.025\n",
      "Neighborhood_NPkVill    -0.0092      0.061     -0.151      0.880      -0.129       0.111\n",
      "Neighborhood_NWAmes      0.0140      0.048      0.293      0.769      -0.079       0.107\n",
      "Neighborhood_NoRidge     0.1824      0.049      3.716      0.000       0.086       0.279\n",
      "Neighborhood_NridgHt     0.0756      0.047      1.614      0.107      -0.016       0.167\n",
      "Neighborhood_OldTown    -0.0787      0.053     -1.493      0.136      -0.182       0.025\n",
      "Neighborhood_SWISU      -0.0884      0.055     -1.598      0.110      -0.197       0.020\n",
      "Neighborhood_Sawyer     -0.0952      0.048     -1.970      0.049      -0.190      -0.000\n",
      "Neighborhood_SawyerW    -0.0762      0.047     -1.628      0.104      -0.168       0.016\n",
      "Neighborhood_Somerst     0.0303      0.054      0.562      0.574      -0.075       0.136\n",
      "Neighborhood_StoneBr     0.1189      0.051      2.337      0.020       0.019       0.219\n",
      "Neighborhood_Timber      0.0416      0.050      0.827      0.408      -0.057       0.140\n",
      "Neighborhood_Veenker     0.1103      0.057      1.936      0.053      -0.001       0.222\n",
      "BldgType_2fmCon          0.0729      0.026      2.780      0.005       0.021       0.124\n",
      "BldgType_Duplex          0.0745      0.021      3.481      0.001       0.033       0.116\n",
      "BldgType_Twnhs          -0.2192      0.027     -7.995      0.000      -0.273      -0.165\n",
      "BldgType_TwnhsE         -0.1696      0.018     -9.355      0.000      -0.205      -0.134\n",
      "OverallQual_2           -0.0754      0.126     -0.598      0.550      -0.322       0.172\n",
      "OverallQual_3            0.3675      0.121      3.048      0.002       0.131       0.604\n",
      "OverallQual_4            0.4953      0.118      4.194      0.000       0.264       0.727\n",
      "OverallQual_5            0.6076      0.118      5.135      0.000       0.376       0.840\n",
      "OverallQual_6            0.7052      0.119      5.947      0.000       0.473       0.938\n",
      "OverallQual_7            0.7873      0.119      6.628      0.000       0.554       1.020\n",
      "OverallQual_8            0.9254      0.119      7.746      0.000       0.691       1.160\n",
      "OverallQual_9            1.0530      0.122      8.615      0.000       0.813       1.293\n",
      "OverallQual_10           1.2788      0.128      9.966      0.000       1.027       1.531\n",
      "Foundation_CBlock        0.0271      0.016      1.710      0.087      -0.004       0.058\n",
      "Foundation_PConc         0.0683      0.018      3.852      0.000       0.034       0.103\n",
      "Foundation_Slab         -0.0834      0.034     -2.433      0.015      -0.151      -0.016\n",
      "Foundation_Stone         0.2374      0.067      3.520      0.000       0.105       0.370\n",
      "Foundation_Wood          0.0906      0.081      1.116      0.265      -0.069       0.250\n",
      "Electrical_FuseF        -0.0265      0.034     -0.781      0.435      -0.093       0.040\n",
      "Electrical_FuseP        -0.0948      0.081     -1.166      0.244      -0.254       0.065\n",
      "Electrical_SBrkr         0.0193      0.016      1.243      0.214      -0.011       0.050\n",
      "Functional_Maj2         -0.2603      0.078     -3.335      0.001      -0.413      -0.107\n",
      "Functional_Min1         -0.0149      0.049     -0.304      0.761      -0.111       0.081\n",
      "Functional_Min2          0.0347      0.049      0.710      0.478      -0.061       0.131\n",
      "Functional_Mod           0.0116      0.056      0.207      0.836      -0.098       0.121\n",
      "Functional_Sal          -0.6155      0.167     -3.689      0.000      -0.943      -0.288\n",
      "Functional_Typ          -0.0332      0.044     -0.762      0.446      -0.119       0.052\n",
      "==============================================================================\n",
      "Omnibus:                      248.172   Durbin-Watson:                   2.070\n",
      "Prob(Omnibus):                  0.000   Jarque-Bera (JB):             1910.397\n",
      "Skew:                          -0.280   Prob(JB):                         0.00\n",
      "Kurtosis:                       7.680   Cond. No.                     1.00e+16\n",
      "==============================================================================\n",
      "\n",
      "Notes:\n",
      "[1] Standard Errors assume that the covariance matrix of the errors is correctly specified.\n",
      "[2] The smallest eigenvalue is 2.42e-22. This might indicate that there are\n",
      "strong multicollinearity problems or that the design matrix is singular.\n"
     ]
    }
   ],
   "source": [
    "import statsmodels.api as sm\n",
    "x = sm.add_constant(Features)\n",
    "model = sm.OLS(logprice, x)\n",
    "results = model.fit()\n",
    "print(results.summary())"
   ]
  },
  {
   "cell_type": "code",
   "execution_count": 243,
   "id": "79008a59",
   "metadata": {},
   "outputs": [
    {
     "name": "stdout",
     "output_type": "stream",
     "text": [
      "The significant coefficients\n"
     ]
    },
    {
     "data": {
      "text/plain": [
       "const                   8.116811e-12\n",
       "YearBuilt               5.898236e-05\n",
       "YearRemodAdd            4.436696e-13\n",
       "YearRemodAdd            4.436696e-13\n",
       "PavedDrive              3.053199e-05\n",
       "KitchenQual_Fa          2.904678e-10\n",
       "KitchenQual_Gd          1.827940e-08\n",
       "KitchenQual_TA          1.078121e-14\n",
       "HeatingQC_Fa            4.987971e-02\n",
       "HeatingQC_TA            4.089423e-03\n",
       "CentralAir_Y            2.583846e-08\n",
       "Fireplaces_1            4.698447e-33\n",
       "Fireplaces_2            1.618455e-41\n",
       "Fireplaces_3            1.578835e-06\n",
       "MSZoning_C (all)        9.476300e-03\n",
       "Neighborhood_ClearCr    1.896163e-02\n",
       "Neighborhood_Edwards    2.710862e-02\n",
       "Neighborhood_Gilbert    1.615553e-02\n",
       "Neighborhood_GrnHill    2.459066e-05\n",
       "Neighborhood_MeadowV    9.575441e-03\n",
       "Neighborhood_NoRidge    2.080082e-04\n",
       "Neighborhood_Sawyer     4.896682e-02\n",
       "Neighborhood_StoneBr    1.955233e-02\n",
       "BldgType_2fmCon         5.479065e-03\n",
       "BldgType_Duplex         5.097677e-04\n",
       "BldgType_Twnhs          2.181723e-15\n",
       "BldgType_TwnhsE         2.178824e-20\n",
       "OverallQual_3           2.330635e-03\n",
       "OverallQual_4           2.855322e-05\n",
       "OverallQual_5           3.095250e-07\n",
       "OverallQual_6           3.222537e-09\n",
       "OverallQual_7           4.364425e-11\n",
       "OverallQual_8           1.501738e-14\n",
       "OverallQual_9           1.395155e-17\n",
       "OverallQual_10          7.334446e-23\n",
       "Foundation_PConc        1.206519e-04\n",
       "Foundation_Slab         1.504989e-02\n",
       "Foundation_Stone        4.414047e-04\n",
       "Functional_Maj2         8.690378e-04\n",
       "Functional_Sal          2.310953e-04\n",
       "dtype: float64"
      ]
     },
     "execution_count": 243,
     "metadata": {},
     "output_type": "execute_result"
    }
   ],
   "source": [
    "pValues = results.pvalues\n",
    "print('The significant coefficients')\n",
    "pValues[pValues<0.05]"
   ]
  },
  {
   "cell_type": "code",
   "execution_count": 244,
   "id": "36a0d941",
   "metadata": {},
   "outputs": [
    {
     "name": "stdout",
     "output_type": "stream",
     "text": [
      "The insignificant coefficients\n"
     ]
    },
    {
     "data": {
      "text/plain": [
       "KitchenQual_Po          0.063560\n",
       "HeatingQC_Gd            0.380123\n",
       "HeatingQC_Po            0.385999\n",
       "Fireplaces_4            0.209340\n",
       "MSZoning_FV             0.215635\n",
       "MSZoning_I (all)        0.485783\n",
       "MSZoning_RH             0.186583\n",
       "MSZoning_RL             0.270130\n",
       "MSZoning_RM             0.184438\n",
       "Neighborhood_Blueste    0.441249\n",
       "Neighborhood_BrDale     0.122721\n",
       "Neighborhood_BrkSide    0.145155\n",
       "Neighborhood_CollgCr    0.227751\n",
       "Neighborhood_Crawfor    0.061450\n",
       "Neighborhood_Greens     0.618048\n",
       "Neighborhood_IDOTRR     0.188236\n",
       "Neighborhood_Landmrk    0.904853\n",
       "Neighborhood_Mitchel    0.429515\n",
       "Neighborhood_NAmes      0.151872\n",
       "Neighborhood_NPkVill    0.880105\n",
       "Neighborhood_NWAmes     0.769267\n",
       "Neighborhood_NridgHt    0.106727\n",
       "Neighborhood_OldTown    0.135632\n",
       "Neighborhood_SWISU      0.110139\n",
       "Neighborhood_SawyerW    0.103708\n",
       "Neighborhood_Somerst    0.573943\n",
       "Neighborhood_Timber     0.408116\n",
       "Neighborhood_Veenker    0.053070\n",
       "OverallQual_2           0.549791\n",
       "Foundation_CBlock       0.087496\n",
       "Foundation_Wood         0.264506\n",
       "Electrical_FuseF        0.435165\n",
       "Electrical_FuseP        0.243880\n",
       "Electrical_SBrkr        0.213941\n",
       "Functional_Min1         0.761326\n",
       "Functional_Min2         0.477866\n",
       "Functional_Mod          0.835742\n",
       "Functional_Typ          0.446417\n",
       "dtype: float64"
      ]
     },
     "execution_count": 244,
     "metadata": {},
     "output_type": "execute_result"
    }
   ],
   "source": [
    "print('The insignificant coefficients')\n",
    "pValues[pValues>=0.05]"
   ]
  },
  {
   "cell_type": "code",
   "execution_count": null,
   "id": "7aacdce1",
   "metadata": {},
   "outputs": [],
   "source": []
  }
 ],
 "metadata": {
  "kernelspec": {
   "display_name": "Python 3",
   "language": "python",
   "name": "python3"
  },
  "language_info": {
   "codemirror_mode": {
    "name": "ipython",
    "version": 3
   },
   "file_extension": ".py",
   "mimetype": "text/x-python",
   "name": "python",
   "nbconvert_exporter": "python",
   "pygments_lexer": "ipython3",
   "version": "3.8.8"
  }
 },
 "nbformat": 4,
 "nbformat_minor": 5
}
