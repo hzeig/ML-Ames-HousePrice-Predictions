{
 "cells": [
  {
   "cell_type": "code",
   "execution_count": 2,
   "id": "83909e37",
   "metadata": {},
   "outputs": [],
   "source": [
    "import pandas as pd"
   ]
  },
  {
   "cell_type": "code",
   "execution_count": 5,
   "id": "6cb011d6",
   "metadata": {},
   "outputs": [],
   "source": [
    "train_housing=pd.read_csv('Ames_HousePrice.csv', index_col=0)\n",
    "#Null Values\n",
    "#1.Alley\n",
    "train_housing[\"Alley\"]=train_housing[\"Alley\"].fillna(\"No_Alley\")\n",
    "#2.Basement Features\n",
    "train_housing[\"BsmtQual\"]=train_housing[\"BsmtQual\"].fillna(\"No_basement\")\n",
    "train_housing[\"BsmtCond\"]=train_housing[\"BsmtCond\"].fillna(\"No_basement\")\n",
    "train_housing[\"BsmtExposure\"]=train_housing[\"BsmtExposure\"].fillna(\"No_basement\")\n",
    "train_housing[\"BsmtFinType1\"]=train_housing[\"BsmtFinType1\"].fillna(0)\n",
    "train_housing[\"BsmtFinType2\"]=train_housing[\"BsmtFinType2\"].fillna(0)\n",
    "#3. Fireplace\n",
    "train_housing[\"FireplaceQu\"]=train_housing[\"FireplaceQu\"].fillna(\"No_Fireplace\")\n",
    "#4. Garage Features\n",
    "garage_new_features = ['GarageType','GarageFinish','GarageQual','GarageCond']\n",
    "for i in garage_new_features:\n",
    "    train_housing[i]=train_housing[i].fillna(\"No_garage\")\n",
    "#Fence\n",
    "train_housing[\"Fence\"]=train_housing[\"Fence\"].fillna(\"No_Fence\")\n",
    "#Misc features\n",
    "train_housing[\"MiscFeature\"]=train_housing[\"MiscFeature\"].fillna(\"No_MiscFeature\")"
   ]
  },
  {
   "cell_type": "code",
   "execution_count": 6,
   "id": "296c3b2b",
   "metadata": {},
   "outputs": [],
   "source": [
    "#dropped codes\n",
    "#1. Normal sales only\n",
    "train_housing =train_housing[train_housing['SaleCondition']=='Normal']\n",
    "#2. I will remove FV, C,I and A\n",
    "train_housing=train_housing.loc[~train_housing.MSZoning.isin(['C (all)','I (all)','A (agr)','FV'])]\n",
    "#3. dropped lotfrontage\n",
    "train_housing = train_housing.drop(['LotFrontage'], axis=1)\n",
    "#4. Dropped MasnVnr\n",
    "train_housing = train_housing.drop(['MasVnrType',], axis=1)\n",
    "#5. Dropped Msnvnrarea\n",
    "train_housing = train_housing.drop(['MasVnrArea',], axis=1)\n",
    "#6. Dropped Garage Year Built\n",
    "train_housing = train_housing.drop(['GarageYrBlt',], axis=1)\n",
    "#7. Everything related to pool, rows and features\n",
    "train_housing =train_housing[train_housing['PoolArea']==0]\n",
    "train_housing = train_housing.drop(['PoolArea', 'PoolQC'], axis=1)\n",
    "#8. Garage2 and othr\n",
    "train_housing =train_housing[train_housing['MiscFeature']!='Gar2']\n",
    "train_housing =train_housing[train_housing['MiscFeature']!='Othr']\n",
    "#9.quality and condition related\n",
    "train_housing = train_housing.drop(['ExterCond','ExterQual','KitchenQual'], axis=1)\n",
    "#10. 'BsmtCond','GarageQual','FireplaceQu','BsmtExposure'\n",
    "train_housing=train_housing.drop(['BsmtCond','GarageQual','FireplaceQu','BsmtExposure'],axis =1)\n"
   ]
  },
  {
   "cell_type": "code",
   "execution_count": 7,
   "id": "0e5c87c5",
   "metadata": {},
   "outputs": [],
   "source": [
    "housing_data = train_housing"
   ]
  },
  {
   "cell_type": "code",
   "execution_count": 9,
   "id": "9fab9887",
   "metadata": {},
   "outputs": [
    {
     "data": {
      "text/plain": [
       "(2289, 68)"
      ]
     },
     "execution_count": 9,
     "metadata": {},
     "output_type": "execute_result"
    }
   ],
   "source": [
    "housing_data.shape"
   ]
  },
  {
   "cell_type": "code",
   "execution_count": 10,
   "id": "c37f6c8c",
   "metadata": {},
   "outputs": [],
   "source": [
    "housing_data.to_csv('housing_data.csv')"
   ]
  },
  {
   "cell_type": "code",
   "execution_count": null,
   "id": "9f230462",
   "metadata": {},
   "outputs": [],
   "source": []
  }
 ],
 "metadata": {
  "kernelspec": {
   "display_name": "Python 3",
   "language": "python",
   "name": "python3"
  },
  "language_info": {
   "codemirror_mode": {
    "name": "ipython",
    "version": 3
   },
   "file_extension": ".py",
   "mimetype": "text/x-python",
   "name": "python",
   "nbconvert_exporter": "python",
   "pygments_lexer": "ipython3",
   "version": "3.8.8"
  }
 },
 "nbformat": 4,
 "nbformat_minor": 5
}
